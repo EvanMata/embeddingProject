{
 "cells": [
  {
   "cell_type": "markdown",
   "id": "7fb4b71b",
   "metadata": {},
   "source": [
    "Here we test a variety of different \"early\" vectorizers and techniques. These include Count Vectorizers, Bag of Words, \n",
    "TFIDF (and all three with dimensionality reduction), and Word2Vec (W2V). \n",
    "\n",
    "Since W2V transforms an individual word into a vector rather than an entire sentance, we try a) averaging all the words \n",
    "in a sentance into a single vector & b) putting all the words into a matrix; then using these as inputs into our XGBoost \n",
    "algorithms. We then perform a series of the same tests, but with balanced labels.\n",
    "\n",
    "Additionally, the Algorithm is kept constant accross all vectorizers - an XGBoost without any hyperparameter tunning. "
   ]
  },
  {
   "cell_type": "code",
   "execution_count": 2,
   "id": "d50fd56f",
   "metadata": {},
   "outputs": [],
   "source": [
    "import pandas as pd\n",
    "import matplotlib.pyplot as plt\n",
    "import gensim.parsing.preprocessing as gen_preproc\n",
    "\n",
    "import spacy\n",
    "nlp = spacy.load('en_core_web_sm')\n",
    "\n",
    "import numpy as np\n",
    "from gensim.models import FastText\n",
    "from gensim.models import Word2Vec\n",
    "from nltk.tokenize import sent_tokenize\n",
    "from sklearn.feature_extraction.text import CountVectorizer\n",
    "from sklearn.feature_extraction.text import TfidfVectorizer\n",
    "from sklearn.metrics import confusion_matrix, ConfusionMatrixDisplay\n",
    "from sklearn.decomposition import TruncatedSVD\n",
    "\n",
    "import xgboost as xgb"
   ]
  },
  {
   "cell_type": "markdown",
   "id": "5099c6c9",
   "metadata": {},
   "source": [
    "## Load & Process the Data\n",
    "The same as we have previously. "
   ]
  },
  {
   "cell_type": "code",
   "execution_count": 3,
   "id": "b4719c07",
   "metadata": {},
   "outputs": [
    {
     "data": {
      "text/html": [
       "<div>\n",
       "<style scoped>\n",
       "    .dataframe tbody tr th:only-of-type {\n",
       "        vertical-align: middle;\n",
       "    }\n",
       "\n",
       "    .dataframe tbody tr th {\n",
       "        vertical-align: top;\n",
       "    }\n",
       "\n",
       "    .dataframe thead th {\n",
       "        text-align: right;\n",
       "    }\n",
       "</style>\n",
       "<table border=\"1\" class=\"dataframe\">\n",
       "  <thead>\n",
       "    <tr style=\"text-align: right;\">\n",
       "      <th></th>\n",
       "      <th>label</th>\n",
       "      <th>text</th>\n",
       "    </tr>\n",
       "  </thead>\n",
       "  <tbody>\n",
       "    <tr>\n",
       "      <th>0</th>\n",
       "      <td>__label__4</td>\n",
       "      <td>The Rock is destined to be the 21st Century 's...</td>\n",
       "    </tr>\n",
       "    <tr>\n",
       "      <th>1</th>\n",
       "      <td>__label__5</td>\n",
       "      <td>The gorgeously elaborate continuation of `` Th...</td>\n",
       "    </tr>\n",
       "    <tr>\n",
       "      <th>2</th>\n",
       "      <td>__label__4</td>\n",
       "      <td>Singer/composer Bryan Adams contributes a slew...</td>\n",
       "    </tr>\n",
       "    <tr>\n",
       "      <th>3</th>\n",
       "      <td>__label__3</td>\n",
       "      <td>You 'd think by now America would have had eno...</td>\n",
       "    </tr>\n",
       "    <tr>\n",
       "      <th>4</th>\n",
       "      <td>__label__4</td>\n",
       "      <td>Yet the act is still charming here .</td>\n",
       "    </tr>\n",
       "  </tbody>\n",
       "</table>\n",
       "</div>"
      ],
      "text/plain": [
       "        label                                               text\n",
       "0  __label__4  The Rock is destined to be the 21st Century 's...\n",
       "1  __label__5  The gorgeously elaborate continuation of `` Th...\n",
       "2  __label__4  Singer/composer Bryan Adams contributes a slew...\n",
       "3  __label__3  You 'd think by now America would have had eno...\n",
       "4  __label__4               Yet the act is still charming here ."
      ]
     },
     "execution_count": 3,
     "metadata": {},
     "output_type": "execute_result"
    }
   ],
   "source": [
    "df = pd.read_csv( 'parsed_train.txt', sep='\\t', header=None,\n",
    "                   names=['label', 'text'] )\n",
    "df.head()"
   ]
  },
  {
   "cell_type": "code",
   "execution_count": 4,
   "id": "0e95b75a",
   "metadata": {},
   "outputs": [
    {
     "data": {
      "text/html": [
       "<div>\n",
       "<style scoped>\n",
       "    .dataframe tbody tr th:only-of-type {\n",
       "        vertical-align: middle;\n",
       "    }\n",
       "\n",
       "    .dataframe tbody tr th {\n",
       "        vertical-align: top;\n",
       "    }\n",
       "\n",
       "    .dataframe thead th {\n",
       "        text-align: right;\n",
       "    }\n",
       "</style>\n",
       "<table border=\"1\" class=\"dataframe\">\n",
       "  <thead>\n",
       "    <tr style=\"text-align: right;\">\n",
       "      <th></th>\n",
       "      <th>label</th>\n",
       "      <th>text</th>\n",
       "      <th>basicProc</th>\n",
       "      <th>stemmed</th>\n",
       "      <th>lemmatized</th>\n",
       "    </tr>\n",
       "  </thead>\n",
       "  <tbody>\n",
       "    <tr>\n",
       "      <th>0</th>\n",
       "      <td>3</td>\n",
       "      <td>The Rock is destined to be the 21st Century 's...</td>\n",
       "      <td>the rock is destined to be the 21st century s ...</td>\n",
       "      <td>the rock is destin to be the 21st centuri s ne...</td>\n",
       "      <td>the rock be destine to be the 21st century s n...</td>\n",
       "    </tr>\n",
       "    <tr>\n",
       "      <th>1</th>\n",
       "      <td>4</td>\n",
       "      <td>The gorgeously elaborate continuation of `` Th...</td>\n",
       "      <td>the gorgeously elaborate continuation of the l...</td>\n",
       "      <td>the gorgeous elabor continu of the lord of the...</td>\n",
       "      <td>the gorgeously elaborate continuation of the l...</td>\n",
       "    </tr>\n",
       "    <tr>\n",
       "      <th>2</th>\n",
       "      <td>3</td>\n",
       "      <td>Singer/composer Bryan Adams contributes a slew...</td>\n",
       "      <td>singer composer bryan adams contributes a slew...</td>\n",
       "      <td>singer compos bryan adam contribut a slew of s...</td>\n",
       "      <td>singer composer bryan adams contribute a slew ...</td>\n",
       "    </tr>\n",
       "    <tr>\n",
       "      <th>3</th>\n",
       "      <td>2</td>\n",
       "      <td>You 'd think by now America would have had eno...</td>\n",
       "      <td>you d think by now america would have had enou...</td>\n",
       "      <td>you d think by now america would have had enou...</td>\n",
       "      <td>-PRON- d think by now america would have have ...</td>\n",
       "    </tr>\n",
       "    <tr>\n",
       "      <th>4</th>\n",
       "      <td>3</td>\n",
       "      <td>Yet the act is still charming here .</td>\n",
       "      <td>yet the act is still charming here</td>\n",
       "      <td>yet the act is still charm here</td>\n",
       "      <td>yet the act be still charm here</td>\n",
       "    </tr>\n",
       "  </tbody>\n",
       "</table>\n",
       "</div>"
      ],
      "text/plain": [
       "   label                                               text  \\\n",
       "0      3  The Rock is destined to be the 21st Century 's...   \n",
       "1      4  The gorgeously elaborate continuation of `` Th...   \n",
       "2      3  Singer/composer Bryan Adams contributes a slew...   \n",
       "3      2  You 'd think by now America would have had eno...   \n",
       "4      3               Yet the act is still charming here .   \n",
       "\n",
       "                                           basicProc  \\\n",
       "0  the rock is destined to be the 21st century s ...   \n",
       "1  the gorgeously elaborate continuation of the l...   \n",
       "2  singer composer bryan adams contributes a slew...   \n",
       "3  you d think by now america would have had enou...   \n",
       "4                 yet the act is still charming here   \n",
       "\n",
       "                                             stemmed  \\\n",
       "0  the rock is destin to be the 21st centuri s ne...   \n",
       "1  the gorgeous elabor continu of the lord of the...   \n",
       "2  singer compos bryan adam contribut a slew of s...   \n",
       "3  you d think by now america would have had enou...   \n",
       "4                    yet the act is still charm here   \n",
       "\n",
       "                                          lemmatized  \n",
       "0  the rock be destine to be the 21st century s n...  \n",
       "1  the gorgeously elaborate continuation of the l...  \n",
       "2  singer composer bryan adams contribute a slew ...  \n",
       "3  -PRON- d think by now america would have have ...  \n",
       "4                    yet the act be still charm here  "
      ]
     },
     "execution_count": 4,
     "metadata": {},
     "output_type": "execute_result"
    }
   ],
   "source": [
    "df['label'] = df['label'].apply(lambda x: int( x.replace(\"__label__\", \"\") ) - 1 )\n",
    "\n",
    "basicPreproc = [lambda x: x.lower(), gen_preproc.strip_tags, \\\n",
    "    gen_preproc.strip_punctuation, gen_preproc.strip_non_alphanum, \\\n",
    "    gen_preproc.strip_multiple_whitespaces] #, gen_preproc.strip_short, gen_preproc.remove_stopwords\n",
    "\n",
    "df['basicProc'] = df['text'].apply(lambda x: ' '.join( gen_preproc.preprocess_string(x, basicPreproc)))\n",
    "df['stemmed'] = df['basicProc'].apply(lambda x: gen_preproc.stem_text(x))\n",
    "df['lemmatized'] = df['basicProc'].apply(lambda x: ' '.join( [token.lemma_ for token in nlp(x)] ) )\n",
    "\n",
    "df.head()"
   ]
  },
  {
   "cell_type": "markdown",
   "id": "add5a630",
   "metadata": {},
   "source": [
    "## Load our Vectorizers. \n",
    "We include some ngrams, and a max feature count that is below our total word count. We also test out SVD (Singular Value Decomposition) as a means of dimensionality reduction and how that affects our models; in theory it should map synonyms and such to eachother. \n",
    "\n",
    "Ngrams are unfortunately not likely to be well taken into account, phrases such as \"not good\" are just not likely to have high enough frequency to appear compared to the liklihood unigrams are repeated. For A more in-depth analysis higher order ngrams should be identified seperately from the unigrams. Additionally, there is no particular reason to do dimensionality reduction to length 300 vectors; if we were doing true pipeline testing this is one parameter we would definitely wish to vary and see how it affected the result. "
   ]
  },
  {
   "cell_type": "code",
   "execution_count": 5,
   "id": "93910d9d",
   "metadata": {},
   "outputs": [],
   "source": [
    "bowVec = CountVectorizer(binary=True, ngram_range=(1,2), min_df=2, max_features=5000)\n",
    "cvVec = CountVectorizer(binary=False, ngram_range=(1,2), min_df=2, max_features=5000)\n",
    "tfidfVec = TfidfVectorizer(ngram_range=(1,2), min_df=2, max_features=5000)"
   ]
  },
  {
   "cell_type": "code",
   "execution_count": 6,
   "id": "db4f5db1",
   "metadata": {},
   "outputs": [],
   "source": [
    "bowSVD = TruncatedSVD(n_components=300)\n",
    "cvSVD = TruncatedSVD(n_components=300)\n",
    "tfidfSVD = TruncatedSVD(n_components=300)"
   ]
  },
  {
   "cell_type": "code",
   "execution_count": 7,
   "id": "40fb7170",
   "metadata": {},
   "outputs": [],
   "source": [
    "bowDTM = bowVec.fit_transform(df['lemmatized'])\n",
    "cvDTM = cvVec.fit_transform(df['lemmatized'])\n",
    "tfidfDTM = tfidfVec.fit_transform(df['lemmatized'])"
   ]
  },
  {
   "cell_type": "code",
   "execution_count": 8,
   "id": "a26e6652",
   "metadata": {},
   "outputs": [],
   "source": [
    "bow300DTM = bowSVD.fit_transform(bowDTM)\n",
    "cv300DTM = cvSVD.fit_transform(cvDTM)\n",
    "tfidf300DTM = tfidfSVD.fit_transform(tfidfDTM)"
   ]
  },
  {
   "cell_type": "code",
   "execution_count": 9,
   "id": "e13b6a0b",
   "metadata": {},
   "outputs": [],
   "source": [
    "bowModel = xgb.XGBClassifier(use_label_encoder=False)\n",
    "cvModel = xgb.XGBClassifier(use_label_encoder=False)\n",
    "tfidfModel = xgb.XGBClassifier(use_label_encoder=False)\n",
    "bowSVDModel = xgb.XGBClassifier(use_label_encoder=False)\n",
    "cvSVDModel = xgb.XGBClassifier(use_label_encoder=False)\n",
    "tfidfSVDModel = xgb.XGBClassifier(use_label_encoder=False)"
   ]
  },
  {
   "cell_type": "code",
   "execution_count": 10,
   "id": "44fb1649",
   "metadata": {},
   "outputs": [
    {
     "name": "stdout",
     "output_type": "stream",
     "text": [
      "[20:50:21] WARNING: C:/Users/Administrator/workspace/xgboost-win64_release_1.5.1/src/learner.cc:1115: Starting in XGBoost 1.3.0, the default evaluation metric used with the objective 'multi:softprob' was changed from 'merror' to 'mlogloss'. Explicitly set eval_metric if you'd like to restore the old behavior.\n"
     ]
    },
    {
     "data": {
      "text/plain": [
       "XGBClassifier(base_score=0.5, booster='gbtree', colsample_bylevel=1,\n",
       "              colsample_bynode=1, colsample_bytree=1, enable_categorical=False,\n",
       "              gamma=0, gpu_id=-1, importance_type=None,\n",
       "              interaction_constraints='', learning_rate=0.300000012,\n",
       "              max_delta_step=0, max_depth=6, min_child_weight=1, missing=nan,\n",
       "              monotone_constraints='()', n_estimators=100, n_jobs=8,\n",
       "              num_parallel_tree=1, objective='multi:softprob', predictor='auto',\n",
       "              random_state=0, reg_alpha=0, reg_lambda=1, scale_pos_weight=None,\n",
       "              subsample=1, tree_method='exact', use_label_encoder=False,\n",
       "              validate_parameters=1, verbosity=None)"
      ]
     },
     "execution_count": 10,
     "metadata": {},
     "output_type": "execute_result"
    }
   ],
   "source": [
    "bowModel.fit(bowDTM, df['label'])"
   ]
  },
  {
   "cell_type": "code",
   "execution_count": 11,
   "id": "9d4631a1",
   "metadata": {},
   "outputs": [
    {
     "name": "stdout",
     "output_type": "stream",
     "text": [
      "[20:50:23] WARNING: C:/Users/Administrator/workspace/xgboost-win64_release_1.5.1/src/learner.cc:1115: Starting in XGBoost 1.3.0, the default evaluation metric used with the objective 'multi:softprob' was changed from 'merror' to 'mlogloss'. Explicitly set eval_metric if you'd like to restore the old behavior.\n"
     ]
    },
    {
     "data": {
      "text/plain": [
       "XGBClassifier(base_score=0.5, booster='gbtree', colsample_bylevel=1,\n",
       "              colsample_bynode=1, colsample_bytree=1, enable_categorical=False,\n",
       "              gamma=0, gpu_id=-1, importance_type=None,\n",
       "              interaction_constraints='', learning_rate=0.300000012,\n",
       "              max_delta_step=0, max_depth=6, min_child_weight=1, missing=nan,\n",
       "              monotone_constraints='()', n_estimators=100, n_jobs=8,\n",
       "              num_parallel_tree=1, objective='multi:softprob', predictor='auto',\n",
       "              random_state=0, reg_alpha=0, reg_lambda=1, scale_pos_weight=None,\n",
       "              subsample=1, tree_method='exact', use_label_encoder=False,\n",
       "              validate_parameters=1, verbosity=None)"
      ]
     },
     "execution_count": 11,
     "metadata": {},
     "output_type": "execute_result"
    }
   ],
   "source": [
    "cvModel.fit(cvDTM, df['label'])"
   ]
  },
  {
   "cell_type": "code",
   "execution_count": 24,
   "id": "d35e9b8a",
   "metadata": {},
   "outputs": [
    {
     "name": "stdout",
     "output_type": "stream",
     "text": [
      "[20:52:51] WARNING: C:/Users/Administrator/workspace/xgboost-win64_release_1.5.1/src/learner.cc:1115: Starting in XGBoost 1.3.0, the default evaluation metric used with the objective 'multi:softprob' was changed from 'merror' to 'mlogloss'. Explicitly set eval_metric if you'd like to restore the old behavior.\n"
     ]
    },
    {
     "data": {
      "text/plain": [
       "XGBClassifier(base_score=0.5, booster='gbtree', colsample_bylevel=1,\n",
       "              colsample_bynode=1, colsample_bytree=1, enable_categorical=False,\n",
       "              gamma=0, gpu_id=-1, importance_type=None,\n",
       "              interaction_constraints='', learning_rate=0.300000012,\n",
       "              max_delta_step=0, max_depth=6, min_child_weight=1, missing=nan,\n",
       "              monotone_constraints='()', n_estimators=100, n_jobs=8,\n",
       "              num_parallel_tree=1, objective='multi:softprob', predictor='auto',\n",
       "              random_state=0, reg_alpha=0, reg_lambda=1, scale_pos_weight=None,\n",
       "              subsample=1, tree_method='exact', use_label_encoder=False,\n",
       "              validate_parameters=1, verbosity=None)"
      ]
     },
     "execution_count": 24,
     "metadata": {},
     "output_type": "execute_result"
    }
   ],
   "source": [
    "tfidfModel.fit(tfidfDTM, df['label'])"
   ]
  },
  {
   "cell_type": "code",
   "execution_count": 27,
   "id": "640e1b23",
   "metadata": {},
   "outputs": [
    {
     "name": "stdout",
     "output_type": "stream",
     "text": [
      "[20:53:24] WARNING: C:/Users/Administrator/workspace/xgboost-win64_release_1.5.1/src/learner.cc:1115: Starting in XGBoost 1.3.0, the default evaluation metric used with the objective 'multi:softprob' was changed from 'merror' to 'mlogloss'. Explicitly set eval_metric if you'd like to restore the old behavior.\n"
     ]
    },
    {
     "data": {
      "text/plain": [
       "XGBClassifier(base_score=0.5, booster='gbtree', colsample_bylevel=1,\n",
       "              colsample_bynode=1, colsample_bytree=1, enable_categorical=False,\n",
       "              gamma=0, gpu_id=-1, importance_type=None,\n",
       "              interaction_constraints='', learning_rate=0.300000012,\n",
       "              max_delta_step=0, max_depth=6, min_child_weight=1, missing=nan,\n",
       "              monotone_constraints='()', n_estimators=100, n_jobs=8,\n",
       "              num_parallel_tree=1, objective='multi:softprob', predictor='auto',\n",
       "              random_state=0, reg_alpha=0, reg_lambda=1, scale_pos_weight=None,\n",
       "              subsample=1, tree_method='exact', use_label_encoder=False,\n",
       "              validate_parameters=1, verbosity=None)"
      ]
     },
     "execution_count": 27,
     "metadata": {},
     "output_type": "execute_result"
    }
   ],
   "source": [
    "bowSVDModel.fit(bow300DTM, df['label'])"
   ]
  },
  {
   "cell_type": "code",
   "execution_count": 13,
   "id": "d3e35a27",
   "metadata": {},
   "outputs": [
    {
     "name": "stdout",
     "output_type": "stream",
     "text": [
      "[20:50:36] WARNING: C:/Users/Administrator/workspace/xgboost-win64_release_1.5.1/src/learner.cc:1115: Starting in XGBoost 1.3.0, the default evaluation metric used with the objective 'multi:softprob' was changed from 'merror' to 'mlogloss'. Explicitly set eval_metric if you'd like to restore the old behavior.\n"
     ]
    },
    {
     "data": {
      "text/plain": [
       "XGBClassifier(base_score=0.5, booster='gbtree', colsample_bylevel=1,\n",
       "              colsample_bynode=1, colsample_bytree=1, enable_categorical=False,\n",
       "              gamma=0, gpu_id=-1, importance_type=None,\n",
       "              interaction_constraints='', learning_rate=0.300000012,\n",
       "              max_delta_step=0, max_depth=6, min_child_weight=1, missing=nan,\n",
       "              monotone_constraints='()', n_estimators=100, n_jobs=8,\n",
       "              num_parallel_tree=1, objective='multi:softprob', predictor='auto',\n",
       "              random_state=0, reg_alpha=0, reg_lambda=1, scale_pos_weight=None,\n",
       "              subsample=1, tree_method='exact', use_label_encoder=False,\n",
       "              validate_parameters=1, verbosity=None)"
      ]
     },
     "execution_count": 13,
     "metadata": {},
     "output_type": "execute_result"
    }
   ],
   "source": [
    "cvSVDModel.fit(cv300DTM, df['label'])"
   ]
  },
  {
   "cell_type": "code",
   "execution_count": 31,
   "id": "badf3f90",
   "metadata": {},
   "outputs": [
    {
     "name": "stdout",
     "output_type": "stream",
     "text": [
      "[20:54:56] WARNING: C:/Users/Administrator/workspace/xgboost-win64_release_1.5.1/src/learner.cc:1115: Starting in XGBoost 1.3.0, the default evaluation metric used with the objective 'multi:softprob' was changed from 'merror' to 'mlogloss'. Explicitly set eval_metric if you'd like to restore the old behavior.\n"
     ]
    },
    {
     "data": {
      "text/plain": [
       "XGBClassifier(base_score=0.5, booster='gbtree', colsample_bylevel=1,\n",
       "              colsample_bynode=1, colsample_bytree=1, enable_categorical=False,\n",
       "              gamma=0, gpu_id=-1, importance_type=None,\n",
       "              interaction_constraints='', learning_rate=0.300000012,\n",
       "              max_delta_step=0, max_depth=6, min_child_weight=1, missing=nan,\n",
       "              monotone_constraints='()', n_estimators=100, n_jobs=8,\n",
       "              num_parallel_tree=1, objective='multi:softprob', predictor='auto',\n",
       "              random_state=0, reg_alpha=0, reg_lambda=1, scale_pos_weight=None,\n",
       "              subsample=1, tree_method='exact', use_label_encoder=False,\n",
       "              validate_parameters=1, verbosity=None)"
      ]
     },
     "execution_count": 31,
     "metadata": {},
     "output_type": "execute_result"
    }
   ],
   "source": [
    "tfidfSVDModel.fit(tfidf300DTM, df['label'])"
   ]
  },
  {
   "cell_type": "code",
   "execution_count": 14,
   "id": "6107101e",
   "metadata": {},
   "outputs": [
    {
     "data": {
      "text/html": [
       "<div>\n",
       "<style scoped>\n",
       "    .dataframe tbody tr th:only-of-type {\n",
       "        vertical-align: middle;\n",
       "    }\n",
       "\n",
       "    .dataframe tbody tr th {\n",
       "        vertical-align: top;\n",
       "    }\n",
       "\n",
       "    .dataframe thead th {\n",
       "        text-align: right;\n",
       "    }\n",
       "</style>\n",
       "<table border=\"1\" class=\"dataframe\">\n",
       "  <thead>\n",
       "    <tr style=\"text-align: right;\">\n",
       "      <th></th>\n",
       "      <th>label</th>\n",
       "      <th>text</th>\n",
       "      <th>basicProc</th>\n",
       "      <th>stemmed</th>\n",
       "      <th>lemmatized</th>\n",
       "    </tr>\n",
       "  </thead>\n",
       "  <tbody>\n",
       "    <tr>\n",
       "      <th>0</th>\n",
       "      <td>2</td>\n",
       "      <td>Effective but too-tepid biopic</td>\n",
       "      <td>effective but too tepid biopic</td>\n",
       "      <td>effect but too tepid biopic</td>\n",
       "      <td>effective but too tepid biopic</td>\n",
       "    </tr>\n",
       "    <tr>\n",
       "      <th>1</th>\n",
       "      <td>3</td>\n",
       "      <td>If you sometimes like to go to the movies to h...</td>\n",
       "      <td>if you sometimes like to go to the movies to h...</td>\n",
       "      <td>if you sometim like to go to the movi to have ...</td>\n",
       "      <td>if -PRON- sometimes like to go to the movie to...</td>\n",
       "    </tr>\n",
       "    <tr>\n",
       "      <th>2</th>\n",
       "      <td>4</td>\n",
       "      <td>Emerges as something rare , an issue movie tha...</td>\n",
       "      <td>emerges as something rare an issue movie that ...</td>\n",
       "      <td>emerg as someth rare an issu movi that s so ho...</td>\n",
       "      <td>emerge as something rare an issue movie that s...</td>\n",
       "    </tr>\n",
       "    <tr>\n",
       "      <th>3</th>\n",
       "      <td>2</td>\n",
       "      <td>The film provides some great insight into the ...</td>\n",
       "      <td>the film provides some great insight into the ...</td>\n",
       "      <td>the film provid some great insight into the ne...</td>\n",
       "      <td>the film provide some great insight into the n...</td>\n",
       "    </tr>\n",
       "    <tr>\n",
       "      <th>4</th>\n",
       "      <td>4</td>\n",
       "      <td>Offers that rare combination of entertainment ...</td>\n",
       "      <td>offers that rare combination of entertainment ...</td>\n",
       "      <td>offer that rare combin of entertain and educ</td>\n",
       "      <td>offer that rare combination of entertainment a...</td>\n",
       "    </tr>\n",
       "  </tbody>\n",
       "</table>\n",
       "</div>"
      ],
      "text/plain": [
       "   label                                               text  \\\n",
       "0      2                     Effective but too-tepid biopic   \n",
       "1      3  If you sometimes like to go to the movies to h...   \n",
       "2      4  Emerges as something rare , an issue movie tha...   \n",
       "3      2  The film provides some great insight into the ...   \n",
       "4      4  Offers that rare combination of entertainment ...   \n",
       "\n",
       "                                           basicProc  \\\n",
       "0                     effective but too tepid biopic   \n",
       "1  if you sometimes like to go to the movies to h...   \n",
       "2  emerges as something rare an issue movie that ...   \n",
       "3  the film provides some great insight into the ...   \n",
       "4  offers that rare combination of entertainment ...   \n",
       "\n",
       "                                             stemmed  \\\n",
       "0                        effect but too tepid biopic   \n",
       "1  if you sometim like to go to the movi to have ...   \n",
       "2  emerg as someth rare an issu movi that s so ho...   \n",
       "3  the film provid some great insight into the ne...   \n",
       "4       offer that rare combin of entertain and educ   \n",
       "\n",
       "                                          lemmatized  \n",
       "0                     effective but too tepid biopic  \n",
       "1  if -PRON- sometimes like to go to the movie to...  \n",
       "2  emerge as something rare an issue movie that s...  \n",
       "3  the film provide some great insight into the n...  \n",
       "4  offer that rare combination of entertainment a...  "
      ]
     },
     "execution_count": 14,
     "metadata": {},
     "output_type": "execute_result"
    }
   ],
   "source": [
    "test_df = pd.read_csv( 'parsed_test.txt', sep='\\t', header=None,\n",
    "                   names=['label', 'text'] )\n",
    "test_df['label'] = test_df['label'].apply(lambda x: int( x.replace(\"__label__\", \"\") ) - 1 )\n",
    "test_df['basicProc'] = test_df['text'].apply(lambda x: ' '.join( gen_preproc.preprocess_string(x, basicPreproc)))\n",
    "test_df['stemmed'] = test_df['basicProc'].apply(lambda x: gen_preproc.stem_text(x))\n",
    "test_df['lemmatized'] = test_df['basicProc'].apply(lambda x: ' '.join( [token.lemma_ for token in nlp(x)] ) )\n",
    "\n",
    "test_df.head()"
   ]
  },
  {
   "cell_type": "code",
   "execution_count": 15,
   "id": "15a116c8",
   "metadata": {},
   "outputs": [],
   "source": [
    "from sklearn.metrics import accuracy_score"
   ]
  },
  {
   "cell_type": "code",
   "execution_count": 16,
   "id": "7dd9b159",
   "metadata": {},
   "outputs": [],
   "source": [
    "Y_true = list( test_df['label'] )"
   ]
  },
  {
   "cell_type": "code",
   "execution_count": 17,
   "id": "62d26770",
   "metadata": {},
   "outputs": [],
   "source": [
    "testBowDTM = bowVec.transform( test_df['lemmatized'] )\n",
    "testCvDTM = cvVec.transform( test_df['lemmatized'] )\n",
    "testTfidfDTM = tfidfVec.transform( test_df['lemmatized'] )"
   ]
  },
  {
   "cell_type": "code",
   "execution_count": 18,
   "id": "b2e50dfb",
   "metadata": {},
   "outputs": [],
   "source": [
    "testBowSvdDTM = bowSVD.transform( testBowDTM )\n",
    "testCvSvdDTM = cvSVD.transform( testCvDTM )\n",
    "testTfidfSvdDTM = tfidfSVD.transform( testTfidfDTM )"
   ]
  },
  {
   "cell_type": "code",
   "execution_count": 19,
   "id": "0ffdddda",
   "metadata": {},
   "outputs": [],
   "source": [
    "bow_Y_predict = bowModel.predict(testBowDTM)"
   ]
  },
  {
   "cell_type": "code",
   "execution_count": 20,
   "id": "345b949d",
   "metadata": {},
   "outputs": [],
   "source": [
    "cv_Y_predict = cvModel.predict(testCvDTM)"
   ]
  },
  {
   "cell_type": "code",
   "execution_count": 25,
   "id": "7ddf8d29",
   "metadata": {},
   "outputs": [],
   "source": [
    "tfidf_Y_predict = tfidfModel.predict(testTfidfDTM)"
   ]
  },
  {
   "cell_type": "code",
   "execution_count": 28,
   "id": "52977d7d",
   "metadata": {},
   "outputs": [],
   "source": [
    "bow_svd_Y_predict = bowSVDModel.predict(testBowSvdDTM)"
   ]
  },
  {
   "cell_type": "code",
   "execution_count": 29,
   "id": "fefe49e2",
   "metadata": {},
   "outputs": [],
   "source": [
    "cv_svd_Y_predict = cvSVDModel.predict(testCvSvdDTM)"
   ]
  },
  {
   "cell_type": "code",
   "execution_count": 32,
   "id": "911c02fe",
   "metadata": {},
   "outputs": [],
   "source": [
    "tfidf_svd_Y_predict = tfidfSVDModel.predict(testTfidfSvdDTM)"
   ]
  },
  {
   "cell_type": "code",
   "execution_count": 33,
   "id": "76eb4254",
   "metadata": {},
   "outputs": [
    {
     "name": "stdout",
     "output_type": "stream",
     "text": [
      "0.36877828054298645\n",
      "0.36923076923076925\n",
      "0.36425339366515835\n",
      "0.3407239819004525\n",
      "0.35158371040723985\n",
      "0.33710407239819007\n"
     ]
    }
   ],
   "source": [
    "print( accuracy_score(Y_true, bow_Y_predict) )\n",
    "print( accuracy_score(Y_true, cv_Y_predict) )\n",
    "print( accuracy_score(Y_true, tfidf_Y_predict) )\n",
    "print( accuracy_score(Y_true, bow_svd_Y_predict) )\n",
    "print( accuracy_score(Y_true, cv_svd_Y_predict) )\n",
    "print( accuracy_score(Y_true, tfidf_svd_Y_predict) )"
   ]
  },
  {
   "cell_type": "markdown",
   "id": "4b42374e",
   "metadata": {},
   "source": [
    "## Results\n",
    "\n",
    "All non-SVD models had nearly identical accuracy to eachother! All SVD models were the same! It appears in this context that the specific kind of vectorization of the bunch did not impact things too much. It is surprising that SVD / Dimensionality Reduction made our results *worse*. It would definitely be worth exploring if this was true accross a different range of dimensions. \n",
    "\n",
    "Looking down at the confusion matrices, we can see there was a very large amount of miss-clasification towards our over-represented classes. We will later balance our classes to see how that changes the results. Note that the two confusion matrices are unnormalized then normalized, both for bag of words. The various other models confusion matrices look nearly identical, whether SVD or other models."
   ]
  },
  {
   "cell_type": "code",
   "execution_count": 34,
   "id": "cf7c01e4",
   "metadata": {},
   "outputs": [
    {
     "data": {
      "text/plain": [
       "<sklearn.metrics._plot.confusion_matrix.ConfusionMatrixDisplay at 0x29cd13c9a00>"
      ]
     },
     "execution_count": 34,
     "metadata": {},
     "output_type": "execute_result"
    },
    {
     "data": {
      "image/png": "[encoded data removed]",
      "text/plain": [
       "<Figure size 432x288 with 2 Axes>"
      ]
     },
     "metadata": {
      "needs_background": "light"
     },
     "output_type": "display_data"
    },
    {
     "data": {
      "image/png": "[encoded data removed]",
      "text/plain": [
       "<Figure size 432x288 with 2 Axes>"
      ]
     },
     "metadata": {
      "needs_background": "light"
     },
     "output_type": "display_data"
    }
   ],
   "source": [
    "bowCM = confusion_matrix( Y_true, bow_Y_predict )\n",
    "bowDisp = ConfusionMatrixDisplay( bowCM )\n",
    "bowDisp.plot()\n",
    "\n",
    "bowCMNorm = confusion_matrix( Y_true, bow_Y_predict, normalize='true' )\n",
    "bowDispNorm = ConfusionMatrixDisplay( bowCMNorm )\n",
    "bowDispNorm.plot()"
   ]
  },
  {
   "cell_type": "markdown",
   "id": "47b05c32",
   "metadata": {},
   "source": [
    "# Balancing Classes\n",
    "\n",
    "From our EDA notebook we had seen that classes 1 & 3 had significantly higher numbers of examples than the average. This caused our models to overpredict on those two classes. Here, we balance out all of our individual classes. Due to time constraints, we just cut all classes down to the same number of samples as our smallest class. This is obviously very unideal since it cuts our overall dataset size nearly in half. Ideally, we'd train via batches of balanced classes or do artifical data generation instead; this was just the fastest and simplest method of accounting for class imbalance, not the best."
   ]
  },
  {
   "cell_type": "code",
   "execution_count": 35,
   "id": "8d680900",
   "metadata": {},
   "outputs": [
    {
     "data": {
      "text/html": [
       "<div>\n",
       "<style scoped>\n",
       "    .dataframe tbody tr th:only-of-type {\n",
       "        vertical-align: middle;\n",
       "    }\n",
       "\n",
       "    .dataframe tbody tr th {\n",
       "        vertical-align: top;\n",
       "    }\n",
       "\n",
       "    .dataframe thead th {\n",
       "        text-align: right;\n",
       "    }\n",
       "</style>\n",
       "<table border=\"1\" class=\"dataframe\">\n",
       "  <thead>\n",
       "    <tr style=\"text-align: right;\">\n",
       "      <th></th>\n",
       "      <th></th>\n",
       "      <th>label</th>\n",
       "      <th>text</th>\n",
       "      <th>basicProc</th>\n",
       "      <th>stemmed</th>\n",
       "      <th>lemmatized</th>\n",
       "    </tr>\n",
       "    <tr>\n",
       "      <th>label</th>\n",
       "      <th></th>\n",
       "      <th></th>\n",
       "      <th></th>\n",
       "      <th></th>\n",
       "      <th></th>\n",
       "      <th></th>\n",
       "    </tr>\n",
       "  </thead>\n",
       "  <tbody>\n",
       "    <tr>\n",
       "      <th rowspan=\"5\" valign=\"top\">0</th>\n",
       "      <th>0</th>\n",
       "      <td>0</td>\n",
       "      <td>This little film is so slovenly done , so prim...</td>\n",
       "      <td>this little film is so slovenly done so primit...</td>\n",
       "      <td>thi littl film is so slovenli done so primit i...</td>\n",
       "      <td>this little film be so slovenly do so primitiv...</td>\n",
       "    </tr>\n",
       "    <tr>\n",
       "      <th>1</th>\n",
       "      <td>0</td>\n",
       "      <td>The entire film is one big excuse to play one ...</td>\n",
       "      <td>the entire film is one big excuse to play one ...</td>\n",
       "      <td>the entir film is on big excus to plai on lewd...</td>\n",
       "      <td>the entire film be one big excuse to play one ...</td>\n",
       "    </tr>\n",
       "    <tr>\n",
       "      <th>2</th>\n",
       "      <td>0</td>\n",
       "      <td>This is an ungainly movie , ill-fitting , with...</td>\n",
       "      <td>this is an ungainly movie ill fitting with its...</td>\n",
       "      <td>thi is an ungainli movi ill fit with it elbow ...</td>\n",
       "      <td>this be an ungainly movie ill fit with -PRON- ...</td>\n",
       "    </tr>\n",
       "    <tr>\n",
       "      <th>3</th>\n",
       "      <td>0</td>\n",
       "      <td>Every sequel you skip will be two hours gained .</td>\n",
       "      <td>every sequel you skip will be two hours gained</td>\n",
       "      <td>everi sequel you skip will be two hour gain</td>\n",
       "      <td>every sequel -PRON- skip will be two hour gain</td>\n",
       "    </tr>\n",
       "    <tr>\n",
       "      <th>4</th>\n",
       "      <td>0</td>\n",
       "      <td>Looks more like a travel-agency video targeted...</td>\n",
       "      <td>looks more like a travel agency video targeted...</td>\n",
       "      <td>look more like a travel agenc video target at ...</td>\n",
       "      <td>look more like a travel agency video target at...</td>\n",
       "    </tr>\n",
       "  </tbody>\n",
       "</table>\n",
       "</div>"
      ],
      "text/plain": [
       "         label                                               text  \\\n",
       "label                                                               \n",
       "0     0      0  This little film is so slovenly done , so prim...   \n",
       "      1      0  The entire film is one big excuse to play one ...   \n",
       "      2      0  This is an ungainly movie , ill-fitting , with...   \n",
       "      3      0   Every sequel you skip will be two hours gained .   \n",
       "      4      0  Looks more like a travel-agency video targeted...   \n",
       "\n",
       "                                                 basicProc  \\\n",
       "label                                                        \n",
       "0     0  this little film is so slovenly done so primit...   \n",
       "      1  the entire film is one big excuse to play one ...   \n",
       "      2  this is an ungainly movie ill fitting with its...   \n",
       "      3     every sequel you skip will be two hours gained   \n",
       "      4  looks more like a travel agency video targeted...   \n",
       "\n",
       "                                                   stemmed  \\\n",
       "label                                                        \n",
       "0     0  thi littl film is so slovenli done so primit i...   \n",
       "      1  the entir film is on big excus to plai on lewd...   \n",
       "      2  thi is an ungainli movi ill fit with it elbow ...   \n",
       "      3        everi sequel you skip will be two hour gain   \n",
       "      4  look more like a travel agenc video target at ...   \n",
       "\n",
       "                                                lemmatized  \n",
       "label                                                       \n",
       "0     0  this little film be so slovenly do so primitiv...  \n",
       "      1  the entire film be one big excuse to play one ...  \n",
       "      2  this be an ungainly movie ill fit with -PRON- ...  \n",
       "      3     every sequel -PRON- skip will be two hour gain  \n",
       "      4  look more like a travel agency video target at...  "
      ]
     },
     "execution_count": 35,
     "metadata": {},
     "output_type": "execute_result"
    }
   ],
   "source": [
    "g = df.groupby('label')\n",
    "g = g.apply(lambda x: x.sample(g.size().min()).reset_index(drop=True))\n",
    "g.head()"
   ]
  },
  {
   "cell_type": "code",
   "execution_count": 36,
   "id": "f790a460",
   "metadata": {},
   "outputs": [
    {
     "data": {
      "text/plain": [
       "(array([1092., 1092., 1092., 1092., 1092.]),\n",
       " array([0, 1, 2, 3, 4, 5]),\n",
       " <BarContainer object of 5 artists>)"
      ]
     },
     "execution_count": 36,
     "metadata": {},
     "output_type": "execute_result"
    },
    {
     "data": {
      "image/png": "[encoded data removed]",
      "text/plain": [
       "<Figure size 432x288 with 1 Axes>"
      ]
     },
     "metadata": {
      "needs_background": "light"
     },
     "output_type": "display_data"
    }
   ],
   "source": [
    "#Check to make sure our class balance worked.\n",
    "plt.hist(list( g['label'] ), bins=[0,1,2,3,4,5], align='left', rwidth=0.75)"
   ]
  },
  {
   "cell_type": "code",
   "execution_count": 37,
   "id": "96752516",
   "metadata": {},
   "outputs": [
    {
     "name": "stdout",
     "output_type": "stream",
     "text": [
      "[21:00:05] WARNING: C:/Users/Administrator/workspace/xgboost-win64_release_1.5.1/src/learner.cc:1115: Starting in XGBoost 1.3.0, the default evaluation metric used with the objective 'multi:softprob' was changed from 'merror' to 'mlogloss'. Explicitly set eval_metric if you'd like to restore the old behavior.\n"
     ]
    },
    {
     "data": {
      "text/plain": [
       "XGBClassifier(base_score=0.5, booster='gbtree', colsample_bylevel=1,\n",
       "              colsample_bynode=1, colsample_bytree=1, enable_categorical=False,\n",
       "              gamma=0, gpu_id=-1, importance_type=None,\n",
       "              interaction_constraints='', learning_rate=0.300000012,\n",
       "              max_delta_step=0, max_depth=6, min_child_weight=1, missing=nan,\n",
       "              monotone_constraints='()', n_estimators=100, n_jobs=8,\n",
       "              num_parallel_tree=1, objective='multi:softprob', predictor='auto',\n",
       "              random_state=0, reg_alpha=0, reg_lambda=1, scale_pos_weight=None,\n",
       "              subsample=1, tree_method='exact', use_label_encoder=False,\n",
       "              validate_parameters=1, verbosity=None)"
      ]
     },
     "execution_count": 37,
     "metadata": {},
     "output_type": "execute_result"
    }
   ],
   "source": [
    "bowVecBalLabels = CountVectorizer(binary=True, ngram_range=(1,2), min_df=2, max_features=5000)\n",
    "bowDTMBalLabels = bowVecBalLabels.fit_transform(g['lemmatized'])\n",
    "bowModelBalLabels = xgb.XGBClassifier(use_label_encoder=False)\n",
    "bowModelBalLabels.fit(bowDTMBalLabels, g['label'])"
   ]
  },
  {
   "cell_type": "code",
   "execution_count": 62,
   "id": "b029511e",
   "metadata": {},
   "outputs": [
    {
     "name": "stdout",
     "output_type": "stream",
     "text": [
      "0.3339366515837104\n"
     ]
    },
    {
     "data": {
      "text/plain": [
       "<sklearn.metrics._plot.confusion_matrix.ConfusionMatrixDisplay at 0x1e39014c2b0>"
      ]
     },
     "execution_count": 62,
     "metadata": {},
     "output_type": "execute_result"
    },
    {
     "data": {
      "image/png": "[encoded data removed]",
      "text/plain": [
       "<Figure size 432x288 with 2 Axes>"
      ]
     },
     "metadata": {
      "needs_background": "light"
     },
     "output_type": "display_data"
    }
   ],
   "source": [
    "testBowBalLabelsDTM = bowVecBalLabels.transform( test_df['lemmatized'] )\n",
    "bow_bal_labels_Y_predict = bowModelBalLabels.predict( testBowBalLabelsDTM )\n",
    "print( accuracy_score(Y_true, bow_bal_labels_Y_predict) )\n",
    "\n",
    "bowCMNormBalLabels = confusion_matrix( Y_true, bow_bal_labels_Y_predict, normalize='true' )\n",
    "bowDispNormBalLabels = ConfusionMatrixDisplay( bowCMNormBalLabels )\n",
    "bowDispNormBalLabels.plot()"
   ]
  },
  {
   "cell_type": "markdown",
   "id": "c934688c",
   "metadata": {},
   "source": [
    "# Word2Vec Time"
   ]
  },
  {
   "cell_type": "code",
   "execution_count": 38,
   "id": "1c1392e8",
   "metadata": {},
   "outputs": [],
   "source": [
    "df['tokenized'] = df['lemmatized'].apply(lambda x: x.split())\n",
    "w2vModel = Word2Vec( df['tokenized'], size=100, window=5, min_count=3, workers=10)\n",
    "df['num_words'] = df['tokenized'].apply(lambda x: len(x))\n",
    "w2vClassificationModel = xgb.XGBClassifier(use_label_encoder=False)"
   ]
  },
  {
   "cell_type": "code",
   "execution_count": 39,
   "id": "efc0d87e",
   "metadata": {},
   "outputs": [
    {
     "name": "stdout",
     "output_type": "stream",
     "text": [
      "[21:00:21] WARNING: C:/Users/Administrator/workspace/xgboost-win64_release_1.5.1/src/learner.cc:1115: Starting in XGBoost 1.3.0, the default evaluation metric used with the objective 'multi:softprob' was changed from 'merror' to 'mlogloss'. Explicitly set eval_metric if you'd like to restore the old behavior.\n"
     ]
    },
    {
     "data": {
      "text/plain": [
       "XGBClassifier(base_score=0.5, booster='gbtree', colsample_bylevel=1,\n",
       "              colsample_bynode=1, colsample_bytree=1, enable_categorical=False,\n",
       "              gamma=0, gpu_id=-1, importance_type=None,\n",
       "              interaction_constraints='', learning_rate=0.300000012,\n",
       "              max_delta_step=0, max_depth=6, min_child_weight=1, missing=nan,\n",
       "              monotone_constraints='()', n_estimators=100, n_jobs=8,\n",
       "              num_parallel_tree=1, objective='multi:softprob', predictor='auto',\n",
       "              random_state=0, reg_alpha=0, reg_lambda=1, scale_pos_weight=None,\n",
       "              subsample=1, tree_method='exact', use_label_encoder=False,\n",
       "              validate_parameters=1, verbosity=None)"
      ]
     },
     "execution_count": 39,
     "metadata": {},
     "output_type": "execute_result"
    }
   ],
   "source": [
    "vocab = list(w2vModel.wv.vocab)\n",
    "\n",
    "def calc_vec(tokensLst):\n",
    "    vecs = [w2vModel.wv[word] for word in tokensLst if word in vocab]\n",
    "    if len(vecs) == 0:\n",
    "        vecs = [np.zeros(100), np.zeros(100)]\n",
    "    return sum(vecs) / max([len(tokensLst), 1])\n",
    "\n",
    "df['w2vVectors'] = df['tokenized'].apply(lambda x: calc_vec(x))\n",
    "\n",
    "g = df.groupby('label')\n",
    "g = g.apply(lambda x: x.sample(g.size().min()).reset_index(drop=True))\n",
    "g.head()\n",
    "\n",
    "X = list( g['w2vVectors'] )\n",
    "\n",
    "w2vClassificationModel.fit( X, g['label'] )"
   ]
  },
  {
   "cell_type": "code",
   "execution_count": 40,
   "id": "255ddabb",
   "metadata": {},
   "outputs": [],
   "source": [
    "test_df['tokenized'] = test_df['lemmatized'].apply(lambda x: x.split())\n",
    "test_df['w2vVectors'] = test_df['tokenized'].apply(lambda x: calc_vec(x))\n",
    "testXW2V_vecs = list( test_df['w2vVectors'] )"
   ]
  },
  {
   "cell_type": "code",
   "execution_count": 41,
   "id": "f804287a",
   "metadata": {},
   "outputs": [
    {
     "name": "stdout",
     "output_type": "stream",
     "text": [
      "0.23031674208144795\n"
     ]
    },
    {
     "data": {
      "text/plain": [
       "<sklearn.metrics._plot.confusion_matrix.ConfusionMatrixDisplay at 0x29cd13c98b0>"
      ]
     },
     "execution_count": 41,
     "metadata": {},
     "output_type": "execute_result"
    },
    {
     "data": {
      "image/png": "[encoded data removed]",
      "text/plain": [
       "<Figure size 432x288 with 2 Axes>"
      ]
     },
     "metadata": {
      "needs_background": "light"
     },
     "output_type": "display_data"
    }
   ],
   "source": [
    "w2v_vecs_Y_predict = w2vClassificationModel.predict( testXW2V_vecs )\n",
    "print( accuracy_score(Y_true, w2v_vecs_Y_predict) )\n",
    "\n",
    "w2vConf_vecs = confusion_matrix( Y_true, w2v_vecs_Y_predict, normalize='true' )\n",
    "w2v_vecs_Disp = ConfusionMatrixDisplay( w2vConf_vecs )\n",
    "w2v_vecs_Disp.plot()"
   ]
  },
  {
   "cell_type": "code",
   "execution_count": 42,
   "id": "b62fe253",
   "metadata": {},
   "outputs": [],
   "source": [
    "def calc_matrix(tokensLst, max_words=35):\n",
    "    empty = np.zeros(100)\n",
    "    vecs = [w2vModel.wv[word] for word in tokensLst if word in vocab]\n",
    "    if len(vecs) < max_words:\n",
    "        vecs += [empty for i in range(len(vecs), max_words)]\n",
    "    else:\n",
    "        vecs = vecs[:max_words]\n",
    "    vecs = np.array(vecs).flatten()\n",
    "    return vecs\n",
    "\n",
    "df['w2vMatrices'] = df['tokenized'].apply(lambda x: calc_matrix(x))"
   ]
  },
  {
   "cell_type": "code",
   "execution_count": 43,
   "id": "9f1991e5",
   "metadata": {},
   "outputs": [
    {
     "name": "stdout",
     "output_type": "stream",
     "text": [
      "[21:03:54] WARNING: C:/Users/Administrator/workspace/xgboost-win64_release_1.5.1/src/learner.cc:1115: Starting in XGBoost 1.3.0, the default evaluation metric used with the objective 'multi:softprob' was changed from 'merror' to 'mlogloss'. Explicitly set eval_metric if you'd like to restore the old behavior.\n"
     ]
    },
    {
     "data": {
      "text/plain": [
       "XGBClassifier(base_score=0.5, booster='gbtree', colsample_bylevel=1,\n",
       "              colsample_bynode=1, colsample_bytree=1, enable_categorical=False,\n",
       "              gamma=0, gpu_id=-1, importance_type=None,\n",
       "              interaction_constraints='', learning_rate=0.300000012,\n",
       "              max_delta_step=0, max_depth=6, min_child_weight=1, missing=nan,\n",
       "              monotone_constraints='()', n_estimators=100, n_jobs=8,\n",
       "              num_parallel_tree=1, objective='multi:softprob', predictor='auto',\n",
       "              random_state=0, reg_alpha=0, reg_lambda=1, scale_pos_weight=None,\n",
       "              subsample=1, tree_method='exact', use_label_encoder=False,\n",
       "              validate_parameters=1, verbosity=None)"
      ]
     },
     "execution_count": 43,
     "metadata": {},
     "output_type": "execute_result"
    }
   ],
   "source": [
    "g = df.groupby('label')\n",
    "g = g.apply(lambda x: x.sample(g.size().min()).reset_index(drop=True))\n",
    "g.head()\n",
    "\n",
    "XMat = list( g['w2vMatrices'] )\n",
    "w2vMatModel = xgb.XGBClassifier(use_label_encoder=False)\n",
    "w2vMatModel.fit( XMat, g['label'] )"
   ]
  },
  {
   "cell_type": "code",
   "execution_count": 44,
   "id": "6ce54cea",
   "metadata": {},
   "outputs": [
    {
     "name": "stdout",
     "output_type": "stream",
     "text": [
      "0.267420814479638\n"
     ]
    },
    {
     "data": {
      "text/plain": [
       "<sklearn.metrics._plot.confusion_matrix.ConfusionMatrixDisplay at 0x29cd865dd90>"
      ]
     },
     "execution_count": 44,
     "metadata": {},
     "output_type": "execute_result"
    },
    {
     "data": {
      "image/png": "[encoded data removed]",
      "text/plain": [
       "<Figure size 432x288 with 2 Axes>"
      ]
     },
     "metadata": {
      "needs_background": "light"
     },
     "output_type": "display_data"
    }
   ],
   "source": [
    "test_df['w2vMatrices'] = test_df['tokenized'].apply(lambda x: calc_matrix(x))\n",
    "testMatX = list( test_df['w2vMatrices'] )\n",
    "\n",
    "w2vMatPredictions = w2vMatModel.predict( testMatX )\n",
    "print( accuracy_score(Y_true, w2vMatPredictions) )\n",
    "\n",
    "w2vConf_Mats = confusion_matrix( Y_true, w2vMatPredictions, normalize='true' )\n",
    "w2v_Mats_Disp = ConfusionMatrixDisplay( w2vConf_Mats )\n",
    "w2v_Mats_Disp.plot()"
   ]
  },
  {
   "cell_type": "code",
   "execution_count": null,
   "id": "abda5213",
   "metadata": {},
   "outputs": [],
   "source": []
  }
 ],
 "metadata": {
  "kernelspec": {
   "display_name": "Python 3 (ipykernel)",
   "language": "python",
   "name": "python3"
  },
  "language_info": {
   "codemirror_mode": {
    "name": "ipython",
    "version": 3
   },
   "file_extension": ".py",
   "mimetype": "text/x-python",
   "name": "python",
   "nbconvert_exporter": "python",
   "pygments_lexer": "ipython3",
   "version": "3.8.12"
  }
 },
 "nbformat": 4,
 "nbformat_minor": 5
}
