{
 "cells": [
  {
   "cell_type": "markdown",
   "id": "950a0d0d",
   "metadata": {},
   "source": [
    "Here we use BERT (or rather the smaller DistillBert) pre-trained model to make our embedding vectors. We don't include\n",
    "any additional training on our corpus due to time constraints. \n",
    "\n",
    "BERT embeddings will depend on the context a word is seen in - eg even words with only one meaning can have different \n",
    "embeddings depending on the surounding context. We have standard length input vectors, using padding and masking to \n",
    "ensure this does not create issues with the model. "
   ]
  },
  {
   "cell_type": "code",
   "execution_count": 1,
   "id": "98461fa9",
   "metadata": {},
   "outputs": [],
   "source": [
    "import numpy as np\n",
    "import pandas as pd\n",
    "from sklearn.model_selection import train_test_split\n",
    "from sklearn.linear_model import LogisticRegression\n",
    "from sklearn.model_selection import GridSearchCV\n",
    "from sklearn.model_selection import cross_val_score\n",
    "import torch\n",
    "import transformers as ppb\n",
    "import warnings\n",
    "\n",
    "from nltk.tokenize import sent_tokenize\n",
    "import gensim.parsing.preprocessing as gen_preproc\n",
    "\n",
    "import spacy\n",
    "nlp = spacy.load('en_core_web_sm')\n",
    "\n",
    "warnings.filterwarnings('ignore')"
   ]
  },
  {
   "cell_type": "markdown",
   "id": "e3f65e11",
   "metadata": {},
   "source": [
    "# Data Import \n",
    "The same stuff I've done in all the file / models."
   ]
  },
  {
   "cell_type": "code",
   "execution_count": 2,
   "id": "656793e6",
   "metadata": {},
   "outputs": [
    {
     "data": {
      "text/html": [
       "<div>\n",
       "<style scoped>\n",
       "    .dataframe tbody tr th:only-of-type {\n",
       "        vertical-align: middle;\n",
       "    }\n",
       "\n",
       "    .dataframe tbody tr th {\n",
       "        vertical-align: top;\n",
       "    }\n",
       "\n",
       "    .dataframe thead th {\n",
       "        text-align: right;\n",
       "    }\n",
       "</style>\n",
       "<table border=\"1\" class=\"dataframe\">\n",
       "  <thead>\n",
       "    <tr style=\"text-align: right;\">\n",
       "      <th></th>\n",
       "      <th>label</th>\n",
       "      <th>text</th>\n",
       "      <th>basicProc</th>\n",
       "      <th>stemmed</th>\n",
       "      <th>lemmatized</th>\n",
       "    </tr>\n",
       "  </thead>\n",
       "  <tbody>\n",
       "    <tr>\n",
       "      <th>0</th>\n",
       "      <td>3</td>\n",
       "      <td>The Rock is destined to be the 21st Century 's...</td>\n",
       "      <td>the rock is destined to be the 21st century s ...</td>\n",
       "      <td>the rock is destin to be the 21st centuri s ne...</td>\n",
       "      <td>the rock be destine to be the 21st century s n...</td>\n",
       "    </tr>\n",
       "    <tr>\n",
       "      <th>1</th>\n",
       "      <td>4</td>\n",
       "      <td>The gorgeously elaborate continuation of `` Th...</td>\n",
       "      <td>the gorgeously elaborate continuation of the l...</td>\n",
       "      <td>the gorgeous elabor continu of the lord of the...</td>\n",
       "      <td>the gorgeously elaborate continuation of the l...</td>\n",
       "    </tr>\n",
       "    <tr>\n",
       "      <th>2</th>\n",
       "      <td>3</td>\n",
       "      <td>Singer/composer Bryan Adams contributes a slew...</td>\n",
       "      <td>singer composer bryan adams contributes a slew...</td>\n",
       "      <td>singer compos bryan adam contribut a slew of s...</td>\n",
       "      <td>singer composer bryan adams contribute a slew ...</td>\n",
       "    </tr>\n",
       "    <tr>\n",
       "      <th>3</th>\n",
       "      <td>2</td>\n",
       "      <td>You 'd think by now America would have had eno...</td>\n",
       "      <td>you d think by now america would have had enou...</td>\n",
       "      <td>you d think by now america would have had enou...</td>\n",
       "      <td>-PRON- d think by now america would have have ...</td>\n",
       "    </tr>\n",
       "    <tr>\n",
       "      <th>4</th>\n",
       "      <td>3</td>\n",
       "      <td>Yet the act is still charming here .</td>\n",
       "      <td>yet the act is still charming here</td>\n",
       "      <td>yet the act is still charm here</td>\n",
       "      <td>yet the act be still charm here</td>\n",
       "    </tr>\n",
       "  </tbody>\n",
       "</table>\n",
       "</div>"
      ],
      "text/plain": [
       "   label                                               text  \\\n",
       "0      3  The Rock is destined to be the 21st Century 's...   \n",
       "1      4  The gorgeously elaborate continuation of `` Th...   \n",
       "2      3  Singer/composer Bryan Adams contributes a slew...   \n",
       "3      2  You 'd think by now America would have had eno...   \n",
       "4      3               Yet the act is still charming here .   \n",
       "\n",
       "                                           basicProc  \\\n",
       "0  the rock is destined to be the 21st century s ...   \n",
       "1  the gorgeously elaborate continuation of the l...   \n",
       "2  singer composer bryan adams contributes a slew...   \n",
       "3  you d think by now america would have had enou...   \n",
       "4                 yet the act is still charming here   \n",
       "\n",
       "                                             stemmed  \\\n",
       "0  the rock is destin to be the 21st centuri s ne...   \n",
       "1  the gorgeous elabor continu of the lord of the...   \n",
       "2  singer compos bryan adam contribut a slew of s...   \n",
       "3  you d think by now america would have had enou...   \n",
       "4                    yet the act is still charm here   \n",
       "\n",
       "                                          lemmatized  \n",
       "0  the rock be destine to be the 21st century s n...  \n",
       "1  the gorgeously elaborate continuation of the l...  \n",
       "2  singer composer bryan adams contribute a slew ...  \n",
       "3  -PRON- d think by now america would have have ...  \n",
       "4                    yet the act be still charm here  "
      ]
     },
     "execution_count": 2,
     "metadata": {},
     "output_type": "execute_result"
    }
   ],
   "source": [
    "df = pd.read_csv( 'parsed_train.txt', sep='\\t', header=None,\n",
    "                   names=['label', 'text'] )\n",
    "df['label'] = df['label'].apply(lambda x: int( x.replace(\"__label__\", \"\") ) - 1)\n",
    "\n",
    "basicPreproc = [lambda x: x.lower(), gen_preproc.strip_tags, \\\n",
    "    gen_preproc.strip_punctuation, gen_preproc.strip_non_alphanum, \\\n",
    "    gen_preproc.strip_multiple_whitespaces] #, gen_preproc.strip_short, gen_preproc.remove_stopwords\n",
    "\n",
    "df['basicProc'] = df['text'].apply(lambda x: ' '.join( gen_preproc.preprocess_string(x, basicPreproc)))\n",
    "df['stemmed'] = df['basicProc'].apply(lambda x: gen_preproc.stem_text(x))\n",
    "df['lemmatized'] = df['basicProc'].apply(lambda x: ' '.join( [token.lemma_ for token in nlp(x)] ) )\n",
    "df.head()"
   ]
  },
  {
   "cell_type": "markdown",
   "id": "2a07b9c5",
   "metadata": {},
   "source": [
    "### Test Loading"
   ]
  },
  {
   "cell_type": "code",
   "execution_count": 3,
   "id": "068d316b",
   "metadata": {},
   "outputs": [
    {
     "data": {
      "text/html": [
       "<div>\n",
       "<style scoped>\n",
       "    .dataframe tbody tr th:only-of-type {\n",
       "        vertical-align: middle;\n",
       "    }\n",
       "\n",
       "    .dataframe tbody tr th {\n",
       "        vertical-align: top;\n",
       "    }\n",
       "\n",
       "    .dataframe thead th {\n",
       "        text-align: right;\n",
       "    }\n",
       "</style>\n",
       "<table border=\"1\" class=\"dataframe\">\n",
       "  <thead>\n",
       "    <tr style=\"text-align: right;\">\n",
       "      <th></th>\n",
       "      <th>label</th>\n",
       "      <th>text</th>\n",
       "      <th>basicProc</th>\n",
       "      <th>stemmed</th>\n",
       "      <th>lemmatized</th>\n",
       "    </tr>\n",
       "  </thead>\n",
       "  <tbody>\n",
       "    <tr>\n",
       "      <th>0</th>\n",
       "      <td>2</td>\n",
       "      <td>Effective but too-tepid biopic</td>\n",
       "      <td>effective but too tepid biopic</td>\n",
       "      <td>effect but too tepid biopic</td>\n",
       "      <td>effective but too tepid biopic</td>\n",
       "    </tr>\n",
       "    <tr>\n",
       "      <th>1</th>\n",
       "      <td>3</td>\n",
       "      <td>If you sometimes like to go to the movies to h...</td>\n",
       "      <td>if you sometimes like to go to the movies to h...</td>\n",
       "      <td>if you sometim like to go to the movi to have ...</td>\n",
       "      <td>if -PRON- sometimes like to go to the movie to...</td>\n",
       "    </tr>\n",
       "    <tr>\n",
       "      <th>2</th>\n",
       "      <td>4</td>\n",
       "      <td>Emerges as something rare , an issue movie tha...</td>\n",
       "      <td>emerges as something rare an issue movie that ...</td>\n",
       "      <td>emerg as someth rare an issu movi that s so ho...</td>\n",
       "      <td>emerge as something rare an issue movie that s...</td>\n",
       "    </tr>\n",
       "    <tr>\n",
       "      <th>3</th>\n",
       "      <td>2</td>\n",
       "      <td>The film provides some great insight into the ...</td>\n",
       "      <td>the film provides some great insight into the ...</td>\n",
       "      <td>the film provid some great insight into the ne...</td>\n",
       "      <td>the film provide some great insight into the n...</td>\n",
       "    </tr>\n",
       "    <tr>\n",
       "      <th>4</th>\n",
       "      <td>4</td>\n",
       "      <td>Offers that rare combination of entertainment ...</td>\n",
       "      <td>offers that rare combination of entertainment ...</td>\n",
       "      <td>offer that rare combin of entertain and educ</td>\n",
       "      <td>offer that rare combination of entertainment a...</td>\n",
       "    </tr>\n",
       "  </tbody>\n",
       "</table>\n",
       "</div>"
      ],
      "text/plain": [
       "   label                                               text  \\\n",
       "0      2                     Effective but too-tepid biopic   \n",
       "1      3  If you sometimes like to go to the movies to h...   \n",
       "2      4  Emerges as something rare , an issue movie tha...   \n",
       "3      2  The film provides some great insight into the ...   \n",
       "4      4  Offers that rare combination of entertainment ...   \n",
       "\n",
       "                                           basicProc  \\\n",
       "0                     effective but too tepid biopic   \n",
       "1  if you sometimes like to go to the movies to h...   \n",
       "2  emerges as something rare an issue movie that ...   \n",
       "3  the film provides some great insight into the ...   \n",
       "4  offers that rare combination of entertainment ...   \n",
       "\n",
       "                                             stemmed  \\\n",
       "0                        effect but too tepid biopic   \n",
       "1  if you sometim like to go to the movi to have ...   \n",
       "2  emerg as someth rare an issu movi that s so ho...   \n",
       "3  the film provid some great insight into the ne...   \n",
       "4       offer that rare combin of entertain and educ   \n",
       "\n",
       "                                          lemmatized  \n",
       "0                     effective but too tepid biopic  \n",
       "1  if -PRON- sometimes like to go to the movie to...  \n",
       "2  emerge as something rare an issue movie that s...  \n",
       "3  the film provide some great insight into the n...  \n",
       "4  offer that rare combination of entertainment a...  "
      ]
     },
     "execution_count": 3,
     "metadata": {},
     "output_type": "execute_result"
    }
   ],
   "source": [
    "test_df = pd.read_csv( 'parsed_test.txt', sep='\\t', header=None,\n",
    "                   names=['label', 'text'] )\n",
    "test_df['label'] = test_df['label'].apply(lambda x: int( x.replace(\"__label__\", \"\") ) - 1)\n",
    "test_df['basicProc'] = test_df['text'].apply(lambda x: ' '.join( gen_preproc.preprocess_string(x, basicPreproc)))\n",
    "test_df['stemmed'] = test_df['basicProc'].apply(lambda x: gen_preproc.stem_text(x))\n",
    "test_df['lemmatized'] = test_df['basicProc'].apply(lambda x: ' '.join( [token.lemma_ for token in nlp(x)] ) )\n",
    "test_df.head()"
   ]
  },
  {
   "cell_type": "code",
   "execution_count": 4,
   "id": "b42f80c7",
   "metadata": {},
   "outputs": [],
   "source": [
    "# Load Bert\n",
    "# For DistilBERT:\n",
    "model_class, tokenizer_class, pretrained_weights = \\\n",
    "    ppb.DistilBertModel, ppb.DistilBertTokenizer, 'distilbert-base-uncased'"
   ]
  },
  {
   "cell_type": "code",
   "execution_count": 5,
   "id": "b3b76255",
   "metadata": {},
   "outputs": [],
   "source": [
    "tokenizer = tokenizer_class.from_pretrained(pretrained_weights)\n",
    "model = model_class.from_pretrained(pretrained_weights)"
   ]
  },
  {
   "cell_type": "markdown",
   "id": "d9202358",
   "metadata": {},
   "source": [
    "### Prep BERT Input Format\n",
    "Note that we are using BERT's pretrained tokenizer, but Not refining it further on our own corpus vocabulary or context. This is definitely an area of potential improvement, BERT apparently only needs a minimal number of samples to learn from our data. We cannot even gaurentee that the pre-trained model has seen all of our vocabulary for tokenization."
   ]
  },
  {
   "cell_type": "code",
   "execution_count": 6,
   "id": "7bc6cfe9",
   "metadata": {},
   "outputs": [
    {
     "data": {
      "text/plain": [
       "[101,\n",
       " 1996,\n",
       " 2600,\n",
       " 2022,\n",
       " 4078,\n",
       " 10196,\n",
       " 2000,\n",
       " 2022,\n",
       " 1996,\n",
       " 7398,\n",
       " 2301,\n",
       " 1055,\n",
       " 2047,\n",
       " 16608,\n",
       " 1998,\n",
       " 2008,\n",
       " 1011,\n",
       " 4013,\n",
       " 2078,\n",
       " 1011,\n",
       " 1055,\n",
       " 2175,\n",
       " 2000,\n",
       " 2191,\n",
       " 1037,\n",
       " 17624,\n",
       " 2130,\n",
       " 2307,\n",
       " 2084,\n",
       " 7779,\n",
       " 29058,\n",
       " 8625,\n",
       " 13327,\n",
       " 3744,\n",
       " 18856,\n",
       " 19513,\n",
       " 3158,\n",
       " 5477,\n",
       " 4168,\n",
       " 2030,\n",
       " 7112,\n",
       " 16562,\n",
       " 2140,\n",
       " 102]"
      ]
     },
     "execution_count": 6,
     "metadata": {},
     "output_type": "execute_result"
    }
   ],
   "source": [
    "tokenized = df['lemmatized'].apply((lambda x: tokenizer.encode(x, add_special_tokens=True)))\n",
    "tokenized[0]"
   ]
  },
  {
   "cell_type": "code",
   "execution_count": 7,
   "id": "9b23e754",
   "metadata": {},
   "outputs": [
    {
     "data": {
      "text/plain": [
       "(8544, 71)"
      ]
     },
     "execution_count": 7,
     "metadata": {},
     "output_type": "execute_result"
    }
   ],
   "source": [
    "#Padding where everything is padded to the max length. Could use other functions for padding as well.\n",
    "max_len = 0\n",
    "for i in tokenized.values:\n",
    "    if len(i) > max_len:\n",
    "        max_len = len(i)\n",
    "\n",
    "padded = np.array([i + [0]*(max_len-len(i)) for i in tokenized.values])\n",
    "np.array(padded).shape"
   ]
  },
  {
   "cell_type": "code",
   "execution_count": 8,
   "id": "2bce8767",
   "metadata": {},
   "outputs": [
    {
     "data": {
      "text/plain": [
       "array([  101,  1996,  2600,  2022,  4078, 10196,  2000,  2022,  1996,\n",
       "        7398,  2301,  1055,  2047, 16608,  1998,  2008,  1011,  4013,\n",
       "        2078,  1011,  1055,  2175,  2000,  2191,  1037, 17624,  2130,\n",
       "        2307,  2084,  7779, 29058,  8625, 13327,  3744, 18856, 19513,\n",
       "        3158,  5477,  4168,  2030,  7112, 16562,  2140,   102,     0,\n",
       "           0,     0,     0,     0,     0,     0,     0,     0,     0,\n",
       "           0,     0,     0,     0,     0,     0,     0,     0,     0,\n",
       "           0,     0,     0,     0,     0,     0,     0,     0])"
      ]
     },
     "execution_count": 8,
     "metadata": {},
     "output_type": "execute_result"
    }
   ],
   "source": [
    "padded[0]"
   ]
  },
  {
   "cell_type": "markdown",
   "id": "31ac1826",
   "metadata": {},
   "source": [
    "Masked features tell BERT to Ignore the padding bits. This is important b.c. it means we're not diluting our information when padding, and that having long padding doesn't matter. Note that our max length is only the max length for the training dataset, a sample in the test dataset could be longer (forshadow)."
   ]
  },
  {
   "cell_type": "code",
   "execution_count": 9,
   "id": "3a569f6e",
   "metadata": {},
   "outputs": [
    {
     "data": {
      "text/plain": [
       "(8544, 71)"
      ]
     },
     "execution_count": 9,
     "metadata": {},
     "output_type": "execute_result"
    }
   ],
   "source": [
    "attention_mask = np.where(padded != 0, 1, 0)\n",
    "attention_mask.shape"
   ]
  },
  {
   "cell_type": "code",
   "execution_count": 10,
   "id": "75d3e2f2",
   "metadata": {},
   "outputs": [
    {
     "data": {
      "text/plain": [
       "array([1, 1, 1, 1, 1, 1, 1, 1, 1, 1, 1, 1, 1, 1, 1, 1, 1, 1, 1, 1, 1, 1,\n",
       "       1, 1, 1, 1, 1, 1, 1, 1, 1, 1, 1, 1, 1, 1, 1, 1, 1, 1, 1, 1, 1, 1,\n",
       "       0, 0, 0, 0, 0, 0, 0, 0, 0, 0, 0, 0, 0, 0, 0, 0, 0, 0, 0, 0, 0, 0,\n",
       "       0, 0, 0, 0, 0])"
      ]
     },
     "execution_count": 10,
     "metadata": {},
     "output_type": "execute_result"
    }
   ],
   "source": [
    "attention_mask[0]"
   ]
  },
  {
   "cell_type": "code",
   "execution_count": 11,
   "id": "6c2a3a1c",
   "metadata": {},
   "outputs": [],
   "source": [
    "input_ids = torch.tensor(padded)\n",
    "input_ids = input_ids.to(input_ids.device).long() \n",
    "attention_mask = torch.tensor(attention_mask)\n",
    "attention_mask = attention_mask.to(attention_mask.device).long()\n",
    "\n",
    "with torch.no_grad():\n",
    "    last_hidden_states = model(input_ids, attention_mask=attention_mask)"
   ]
  },
  {
   "cell_type": "markdown",
   "id": "31ffa766",
   "metadata": {},
   "source": [
    "# Not Enough RAM hahaha\n",
    "\n",
    "Fun fact: The previous command does not always fail due to out of RAM errors. I have ~32 GB ram. That used only 7.5 gb, but other processes may be taking up RAM as well. It does not always fail on my own PC, and will presumably depend on the PC used to run this notebook. Anyways...\n",
    "\n",
    "Ok... lets cut our data down into smaller chunks so that each is processed seperately and we don't need as much RAM. 180 Million Parameters or so is still huge, even if I'm only trying to run 8k sentances through it. This is why Cloud systems are very helpful with modern Huge Models (and also why newer models are not necessarily the best solution for every use case). Its very interesting to look at efficency in algorithms, what performs the best with minimal training and computer requirements? Obviously there's a difference between something that only needs to be refined on smaller datasets and trained from scratch as well. There's lot of interesting things to look into there (like how modern cutting edge models deal with so much data and its quality and scaling!) but so little time!\n",
    "\n",
    "Note that numpy array split will keep the indexing the same, so don't needa zip & unzip stuff."
   ]
  },
  {
   "cell_type": "code",
   "execution_count": 24,
   "id": "3304a830",
   "metadata": {},
   "outputs": [
    {
     "data": {
      "text/plain": [
       "7.454195712"
      ]
     },
     "execution_count": 24,
     "metadata": {},
     "output_type": "execute_result"
    }
   ],
   "source": [
    "7454195712 / 1e9"
   ]
  },
  {
   "cell_type": "code",
   "execution_count": 12,
   "id": "4b1d58e2",
   "metadata": {},
   "outputs": [],
   "source": [
    "paddedChunks = np.array_split( padded, 5 )\n",
    "attentionChunks = np.array_split( attention_mask, 5 )"
   ]
  },
  {
   "cell_type": "code",
   "execution_count": 13,
   "id": "cede660f",
   "metadata": {},
   "outputs": [
    {
     "data": {
      "text/plain": [
       "(1709, 71)"
      ]
     },
     "execution_count": 13,
     "metadata": {},
     "output_type": "execute_result"
    }
   ],
   "source": [
    "paddedChunks[0].shape"
   ]
  },
  {
   "cell_type": "code",
   "execution_count": 14,
   "id": "4e3f00b2",
   "metadata": {},
   "outputs": [],
   "source": [
    "def get_hidden_states(paddedChunk, attentionChunk):\n",
    "    input_ids = torch.tensor(paddedChunk)\n",
    "    input_ids = input_ids.to(input_ids.device).long() \n",
    "    attention_mask = torch.tensor(attentionChunk)\n",
    "    attention_mask = attention_mask.to(attention_mask.device).long()\n",
    "\n",
    "    with torch.no_grad():\n",
    "        last_hidden_states = model(input_ids, attention_mask=attention_mask)\n",
    "        \n",
    "    return last_hidden_states\n"
   ]
  },
  {
   "cell_type": "code",
   "execution_count": 15,
   "id": "8ea69689",
   "metadata": {},
   "outputs": [],
   "source": [
    "last_hidden_states_0 = get_hidden_states(paddedChunks[0], attentionChunks[0])\n",
    "features_0 = last_hidden_states_0[0][:,0,:].numpy()"
   ]
  },
  {
   "cell_type": "code",
   "execution_count": 16,
   "id": "a3faba2f",
   "metadata": {},
   "outputs": [],
   "source": [
    "last_hidden_states_1 = get_hidden_states(paddedChunks[1], attentionChunks[1])\n",
    "features_1 = last_hidden_states_1[0][:,0,:].numpy()"
   ]
  },
  {
   "cell_type": "code",
   "execution_count": 17,
   "id": "3beabd3b",
   "metadata": {},
   "outputs": [],
   "source": [
    "last_hidden_states_2 = get_hidden_states(paddedChunks[2], attentionChunks[2])\n",
    "features_2 = last_hidden_states_2[0][:,0,:].numpy()"
   ]
  },
  {
   "cell_type": "code",
   "execution_count": 18,
   "id": "1e272a28",
   "metadata": {},
   "outputs": [],
   "source": [
    "last_hidden_states_3 = get_hidden_states(paddedChunks[3], attentionChunks[3])\n",
    "features_3 = last_hidden_states_3[0][:,0,:].numpy()"
   ]
  },
  {
   "cell_type": "code",
   "execution_count": 19,
   "id": "feece4da",
   "metadata": {},
   "outputs": [],
   "source": [
    "last_hidden_states_4 = get_hidden_states(paddedChunks[4], attentionChunks[4])\n",
    "features_4 = last_hidden_states_4[0][:,0,:].numpy()"
   ]
  },
  {
   "cell_type": "code",
   "execution_count": 20,
   "id": "0c5afba8",
   "metadata": {},
   "outputs": [],
   "source": [
    "train_Y = np.array_split( np.array( list( df['label'] ) ), 5 )\n",
    "train_Y_0 = train_Y[0]\n",
    "train_Y_1 = train_Y[1]\n",
    "train_Y_2 = train_Y[2]\n",
    "train_Y_3 = train_Y[3]\n",
    "train_Y_4 = train_Y[4]"
   ]
  },
  {
   "cell_type": "code",
   "execution_count": 21,
   "id": "88ecdbfd",
   "metadata": {},
   "outputs": [
    {
     "data": {
      "text/plain": [
       "LogisticRegression()"
      ]
     },
     "execution_count": 21,
     "metadata": {},
     "output_type": "execute_result"
    }
   ],
   "source": [
    "lr_clf = LogisticRegression()\n",
    "lr_clf.fit(features_0, train_Y_0)\n",
    "lr_clf.fit(features_1, train_Y_1)\n",
    "lr_clf.fit(features_2, train_Y_2)\n",
    "lr_clf.fit(features_3, train_Y_3)\n",
    "lr_clf.fit(features_4, train_Y_4)"
   ]
  },
  {
   "cell_type": "code",
   "execution_count": 28,
   "id": "a691a5ec",
   "metadata": {},
   "outputs": [
    {
     "name": "stdout",
     "output_type": "stream",
     "text": [
      "[22:17:56] WARNING: C:/Users/Administrator/workspace/xgboost-win64_release_1.5.1/src/learner.cc:1115: Starting in XGBoost 1.3.0, the default evaluation metric used with the objective 'multi:softprob' was changed from 'merror' to 'mlogloss'. Explicitly set eval_metric if you'd like to restore the old behavior.\n",
      "[22:18:18] WARNING: C:/Users/Administrator/workspace/xgboost-win64_release_1.5.1/src/learner.cc:1115: Starting in XGBoost 1.3.0, the default evaluation metric used with the objective 'multi:softprob' was changed from 'merror' to 'mlogloss'. Explicitly set eval_metric if you'd like to restore the old behavior.\n",
      "[22:18:39] WARNING: C:/Users/Administrator/workspace/xgboost-win64_release_1.5.1/src/learner.cc:1115: Starting in XGBoost 1.3.0, the default evaluation metric used with the objective 'multi:softprob' was changed from 'merror' to 'mlogloss'. Explicitly set eval_metric if you'd like to restore the old behavior.\n",
      "[22:19:03] WARNING: C:/Users/Administrator/workspace/xgboost-win64_release_1.5.1/src/learner.cc:1115: Starting in XGBoost 1.3.0, the default evaluation metric used with the objective 'multi:softprob' was changed from 'merror' to 'mlogloss'. Explicitly set eval_metric if you'd like to restore the old behavior.\n",
      "[22:19:27] WARNING: C:/Users/Administrator/workspace/xgboost-win64_release_1.5.1/src/learner.cc:1115: Starting in XGBoost 1.3.0, the default evaluation metric used with the objective 'multi:softprob' was changed from 'merror' to 'mlogloss'. Explicitly set eval_metric if you'd like to restore the old behavior.\n"
     ]
    },
    {
     "data": {
      "text/plain": [
       "XGBClassifier(base_score=0.5, booster='gbtree', colsample_bylevel=1,\n",
       "              colsample_bynode=1, colsample_bytree=1, enable_categorical=False,\n",
       "              gamma=0, gpu_id=-1, importance_type=None,\n",
       "              interaction_constraints='', learning_rate=0.300000012,\n",
       "              max_delta_step=0, max_depth=6, min_child_weight=1, missing=nan,\n",
       "              monotone_constraints='()', n_estimators=100, n_jobs=8,\n",
       "              num_parallel_tree=1, objective='multi:softprob', predictor='auto',\n",
       "              random_state=0, reg_alpha=0, reg_lambda=1, scale_pos_weight=None,\n",
       "              subsample=1, tree_method='exact', use_label_encoder=False,\n",
       "              validate_parameters=1, verbosity=None)"
      ]
     },
     "execution_count": 28,
     "metadata": {},
     "output_type": "execute_result"
    }
   ],
   "source": [
    "import xgboost as xgb\n",
    "\n",
    "xgb_model = xgb.XGBClassifier(use_label_encoder=False)\n",
    "xgb_model.fit(features_0, train_Y_0)\n",
    "xgb_model.fit(features_1, train_Y_1)\n",
    "xgb_model.fit(features_2, train_Y_2)\n",
    "xgb_model.fit(features_3, train_Y_3)\n",
    "xgb_model.fit(features_4, train_Y_4)"
   ]
  },
  {
   "cell_type": "markdown",
   "id": "770e3e7a",
   "metadata": {},
   "source": [
    "## Running with Test"
   ]
  },
  {
   "cell_type": "code",
   "execution_count": 22,
   "id": "2bcbdf04",
   "metadata": {},
   "outputs": [
    {
     "name": "stdout",
     "output_type": "stream",
     "text": [
      "False\n",
      "159 76\n",
      "\n",
      "[101, 1996, 2143, 2022, 11633, 2000, 2054, 2028, 3653, 23545, 2022, 1996, 2338, 1055, 5519, 18458, 2008, 1011, 4013, 2078, 1011, 2468, 2040, 1011, 4013, 2078, 1011, 2022, 2006, 1996, 2067, 1997, 1011, 4013, 2078, 1011, 6687, 2021, 1011, 4013, 2078, 1011, 2031, 2053, 2801, 2040, 1011, 4013, 2078, 1011, 2022, 2012, 1011, 4013, 2078, 1011, 2287, 1998, 2008, 2051, 2022, 1037, 25085, 1998, 9062, 19502, 2053, 3043, 2129, 2214, 1011, 4013, 2078, 1011, 2022, 102]\n",
      "(2210, 71)\n",
      "(2210, 71)\n"
     ]
    }
   ],
   "source": [
    "test_tokenized = test_df['lemmatized'].apply((lambda x: tokenizer.encode(x, add_special_tokens=True)))\n",
    "test_padded = np.array( [i + [0]*(max_len-len(i)) for i in test_tokenized.values] )\n",
    "\n",
    "#AHHHH, The longest in Test Padded is Longer than in the Training set! \n",
    "#This caused test_padded to be an array of lists instead of 2d array\n",
    "lens = [len(i) for i in test_padded]\n",
    "print(all([i == 71 for i in lens]))\n",
    "for i, length in enumerate(lens):\n",
    "    if length != 71:\n",
    "        print(i, length)\n",
    "        print()\n",
    "        print(test_padded[i])\n",
    "\n",
    "#Cut off to len 71 only, as that was our original max length.\n",
    "test_padded = np.array( [np.array( i[:max_len] ) for i in test_padded] )\n",
    "\n",
    "test_attention_mask = np.where(test_padded != 0, 1, 0)\n",
    "print( np.array(test_padded).shape )\n",
    "print( np.array(test_attention_mask).shape )\n"
   ]
  },
  {
   "cell_type": "code",
   "execution_count": 23,
   "id": "fa6420fa",
   "metadata": {},
   "outputs": [],
   "source": [
    "test_input_ids = torch.tensor(test_padded)\n",
    "test_input_ids = test_input_ids.to(test_input_ids.device).long() \n",
    "test_attention_mask = torch.tensor(test_attention_mask)\n",
    "test_attention_mask = test_attention_mask.to(test_attention_mask.device).long()\n",
    "\n",
    "with torch.no_grad():\n",
    "    test_hidden_states = model(test_input_ids, attention_mask=test_attention_mask)"
   ]
  },
  {
   "cell_type": "code",
   "execution_count": 24,
   "id": "2fe5a2d7",
   "metadata": {},
   "outputs": [
    {
     "data": {
      "text/plain": [
       "array([3, 2, 1, ..., 1, 1, 0])"
      ]
     },
     "execution_count": 24,
     "metadata": {},
     "output_type": "execute_result"
    }
   ],
   "source": [
    "test_features = test_hidden_states[0][:,0,:].numpy()\n",
    "test_predict_Y = lr_clf.predict(test_features)\n",
    "test_predict_Y"
   ]
  },
  {
   "cell_type": "code",
   "execution_count": 25,
   "id": "260e017e",
   "metadata": {},
   "outputs": [
    {
     "data": {
      "text/plain": [
       "0       2\n",
       "1       3\n",
       "2       4\n",
       "3       2\n",
       "4       4\n",
       "       ..\n",
       "2205    3\n",
       "2206    4\n",
       "2207    4\n",
       "2208    3\n",
       "2209    0\n",
       "Name: label, Length: 2210, dtype: int64"
      ]
     },
     "execution_count": 25,
     "metadata": {},
     "output_type": "execute_result"
    }
   ],
   "source": [
    "true_Y = test_df['label']\n",
    "true_Y"
   ]
  },
  {
   "cell_type": "markdown",
   "id": "58d40666",
   "metadata": {},
   "source": [
    "### Logisitc Regression Unbalaned Classes"
   ]
  },
  {
   "cell_type": "code",
   "execution_count": 26,
   "id": "68d25257",
   "metadata": {},
   "outputs": [
    {
     "name": "stdout",
     "output_type": "stream",
     "text": [
      "0.3438914027149321\n"
     ]
    },
    {
     "data": {
      "text/plain": [
       "<sklearn.metrics._plot.confusion_matrix.ConfusionMatrixDisplay at 0x243492abb20>"
      ]
     },
     "execution_count": 26,
     "metadata": {},
     "output_type": "execute_result"
    },
    {
     "data": {
      "image/png": "[encoded data removed]",
      "text/plain": [
       "<Figure size 432x288 with 2 Axes>"
      ]
     },
     "metadata": {
      "needs_background": "light"
     },
     "output_type": "display_data"
    }
   ],
   "source": [
    "from sklearn.metrics import confusion_matrix, ConfusionMatrixDisplay, accuracy_score\n",
    "import matplotlib.pyplot as plt\n",
    "print( accuracy_score(true_Y, test_predict_Y) )\n",
    "MulticlassCM = confusion_matrix( true_Y, test_predict_Y, normalize='true' )\n",
    "MultiClassDisp = ConfusionMatrixDisplay( MulticlassCM )\n",
    "MultiClassDisp.plot()"
   ]
  },
  {
   "cell_type": "markdown",
   "id": "09e6f6fa",
   "metadata": {},
   "source": [
    "### XGBoost Unbalaned Classes"
   ]
  },
  {
   "cell_type": "code",
   "execution_count": 29,
   "id": "e06b5806",
   "metadata": {},
   "outputs": [
    {
     "name": "stdout",
     "output_type": "stream",
     "text": [
      "0.31040723981900453\n"
     ]
    },
    {
     "data": {
      "text/plain": [
       "<sklearn.metrics._plot.confusion_matrix.ConfusionMatrixDisplay at 0x24349bd1580>"
      ]
     },
     "execution_count": 29,
     "metadata": {},
     "output_type": "execute_result"
    },
    {
     "data": {
      "image/png": "[encoded data removed]",
      "text/plain": [
       "<Figure size 432x288 with 2 Axes>"
      ]
     },
     "metadata": {
      "needs_background": "light"
     },
     "output_type": "display_data"
    }
   ],
   "source": [
    "xgb_predict_Y = xgb_model.predict(test_features)\n",
    "print( accuracy_score(true_Y, xgb_predict_Y) )\n",
    "\n",
    "xgbCM = confusion_matrix( true_Y, xgb_predict_Y, normalize='true' )\n",
    "xgbDisp = ConfusionMatrixDisplay( xgbCM )\n",
    "xgbDisp.plot()"
   ]
  },
  {
   "cell_type": "markdown",
   "id": "19202f64",
   "metadata": {},
   "source": [
    "## Lets try with Balanced Data? \n",
    "We saw in our unbalanced dataset we were Wildly overfitting to class 1. Interestly, we did not significantly overfit to class 3 as well, which was our other label with a signficiantly higher number of samples. Of course we'd normally fix these issues by having hyperparameters like early stopping enabled, and use a validation split (train, test, validation) to identify good parameters to stop at; but since those are outside the scope of the project they were not included. "
   ]
  },
  {
   "cell_type": "code",
   "execution_count": 30,
   "id": "e8c7f328",
   "metadata": {},
   "outputs": [
    {
     "data": {
      "text/html": [
       "<div>\n",
       "<style scoped>\n",
       "    .dataframe tbody tr th:only-of-type {\n",
       "        vertical-align: middle;\n",
       "    }\n",
       "\n",
       "    .dataframe tbody tr th {\n",
       "        vertical-align: top;\n",
       "    }\n",
       "\n",
       "    .dataframe thead th {\n",
       "        text-align: right;\n",
       "    }\n",
       "</style>\n",
       "<table border=\"1\" class=\"dataframe\">\n",
       "  <thead>\n",
       "    <tr style=\"text-align: right;\">\n",
       "      <th></th>\n",
       "      <th></th>\n",
       "      <th>label</th>\n",
       "      <th>text</th>\n",
       "      <th>basicProc</th>\n",
       "      <th>stemmed</th>\n",
       "      <th>lemmatized</th>\n",
       "    </tr>\n",
       "    <tr>\n",
       "      <th>label</th>\n",
       "      <th></th>\n",
       "      <th></th>\n",
       "      <th></th>\n",
       "      <th></th>\n",
       "      <th></th>\n",
       "      <th></th>\n",
       "    </tr>\n",
       "  </thead>\n",
       "  <tbody>\n",
       "    <tr>\n",
       "      <th rowspan=\"5\" valign=\"top\">0</th>\n",
       "      <th>0</th>\n",
       "      <td>0</td>\n",
       "      <td>A low-budget affair , Tadpole was shot on digi...</td>\n",
       "      <td>a low budget affair tadpole was shot on digita...</td>\n",
       "      <td>a low budget affair tadpol wa shot on digit vi...</td>\n",
       "      <td>a low budget affair tadpole be shoot on digita...</td>\n",
       "    </tr>\n",
       "    <tr>\n",
       "      <th>1</th>\n",
       "      <td>0</td>\n",
       "      <td>( Sam 's ) self-flagellation is more depressin...</td>\n",
       "      <td>sam s self flagellation is more depressing tha...</td>\n",
       "      <td>sam s self flagel is more depress than entertain</td>\n",
       "      <td>sam s self flagellation be more depressing tha...</td>\n",
       "    </tr>\n",
       "    <tr>\n",
       "      <th>2</th>\n",
       "      <td>0</td>\n",
       "      <td>An incoherent jumble of a film that 's rarely ...</td>\n",
       "      <td>an incoherent jumble of a film that s rarely a...</td>\n",
       "      <td>an incoher jumbl of a film that s rare as ente...</td>\n",
       "      <td>an incoherent jumble of a film that s rarely a...</td>\n",
       "    </tr>\n",
       "    <tr>\n",
       "      <th>3</th>\n",
       "      <td>0</td>\n",
       "      <td>If I could have looked into my future and saw ...</td>\n",
       "      <td>if i could have looked into my future and saw ...</td>\n",
       "      <td>if i could have look into my futur and saw how...</td>\n",
       "      <td>if i could have look into -PRON- future and se...</td>\n",
       "    </tr>\n",
       "    <tr>\n",
       "      <th>4</th>\n",
       "      <td>0</td>\n",
       "      <td>Movies like High Crimes flog the dead horse of...</td>\n",
       "      <td>movies like high crimes flog the dead horse of...</td>\n",
       "      <td>movi like high crime flog the dead hors of sur...</td>\n",
       "      <td>movie like high crime flog the dead horse of s...</td>\n",
       "    </tr>\n",
       "  </tbody>\n",
       "</table>\n",
       "</div>"
      ],
      "text/plain": [
       "         label                                               text  \\\n",
       "label                                                               \n",
       "0     0      0  A low-budget affair , Tadpole was shot on digi...   \n",
       "      1      0  ( Sam 's ) self-flagellation is more depressin...   \n",
       "      2      0  An incoherent jumble of a film that 's rarely ...   \n",
       "      3      0  If I could have looked into my future and saw ...   \n",
       "      4      0  Movies like High Crimes flog the dead horse of...   \n",
       "\n",
       "                                                 basicProc  \\\n",
       "label                                                        \n",
       "0     0  a low budget affair tadpole was shot on digita...   \n",
       "      1  sam s self flagellation is more depressing tha...   \n",
       "      2  an incoherent jumble of a film that s rarely a...   \n",
       "      3  if i could have looked into my future and saw ...   \n",
       "      4  movies like high crimes flog the dead horse of...   \n",
       "\n",
       "                                                   stemmed  \\\n",
       "label                                                        \n",
       "0     0  a low budget affair tadpol wa shot on digit vi...   \n",
       "      1   sam s self flagel is more depress than entertain   \n",
       "      2  an incoher jumbl of a film that s rare as ente...   \n",
       "      3  if i could have look into my futur and saw how...   \n",
       "      4  movi like high crime flog the dead hors of sur...   \n",
       "\n",
       "                                                lemmatized  \n",
       "label                                                       \n",
       "0     0  a low budget affair tadpole be shoot on digita...  \n",
       "      1  sam s self flagellation be more depressing tha...  \n",
       "      2  an incoherent jumble of a film that s rarely a...  \n",
       "      3  if i could have look into -PRON- future and se...  \n",
       "      4  movie like high crime flog the dead horse of s...  "
      ]
     },
     "execution_count": 30,
     "metadata": {},
     "output_type": "execute_result"
    }
   ],
   "source": [
    "g = df.groupby('label')\n",
    "g = g.apply(lambda x: x.sample(g.size().min()).reset_index(drop=True))\n",
    "g.head()"
   ]
  },
  {
   "cell_type": "code",
   "execution_count": 31,
   "id": "bc91bc44",
   "metadata": {},
   "outputs": [],
   "source": [
    "tokenized_bal = g['lemmatized'].apply((lambda x: tokenizer.encode(x, add_special_tokens=True)))"
   ]
  },
  {
   "cell_type": "code",
   "execution_count": 32,
   "id": "0974b62b",
   "metadata": {},
   "outputs": [],
   "source": [
    "padded_bal = np.array([i + [0]*(max_len-len(i)) for i in tokenized_bal.values])"
   ]
  },
  {
   "cell_type": "code",
   "execution_count": 33,
   "id": "63e71c4a",
   "metadata": {},
   "outputs": [],
   "source": [
    "attention_mask_bal = np.where(padded_bal != 0, 1, 0)"
   ]
  },
  {
   "cell_type": "code",
   "execution_count": 34,
   "id": "ee26b9fc",
   "metadata": {},
   "outputs": [],
   "source": [
    "input_ids_bal = torch.tensor(padded_bal)\n",
    "input_ids_bal = input_ids_bal.to(input_ids_bal.device).long() \n",
    "attention_mask_bal = torch.tensor(attention_mask_bal)\n",
    "attention_mask_bal = attention_mask_bal.to(attention_mask_bal.device).long()\n",
    "\n",
    "with torch.no_grad():\n",
    "    last_hidden_states_bal = model(input_ids_bal, attention_mask=attention_mask_bal)"
   ]
  },
  {
   "cell_type": "code",
   "execution_count": 66,
   "id": "f2455be9",
   "metadata": {},
   "outputs": [],
   "source": [
    "features_bal = last_hidden_states_bal[0][:,0,:].numpy()\n",
    "train_Y_bal = np.array( list( g['label'] ) )"
   ]
  },
  {
   "cell_type": "code",
   "execution_count": 67,
   "id": "7ae354e0",
   "metadata": {},
   "outputs": [
    {
     "name": "stdout",
     "output_type": "stream",
     "text": [
      "[14:13:09] WARNING: ..\\src\\learner.cc:1115: Starting in XGBoost 1.3.0, the default evaluation metric used with the objective 'multi:softprob' was changed from 'merror' to 'mlogloss'. Explicitly set eval_metric if you'd like to restore the old behavior.\n"
     ]
    },
    {
     "data": {
      "text/plain": [
       "XGBClassifier(base_score=0.5, booster='gbtree', colsample_bylevel=1,\n",
       "              colsample_bynode=1, colsample_bytree=1, enable_categorical=False,\n",
       "              gamma=0, gpu_id=-1, importance_type=None,\n",
       "              interaction_constraints='', learning_rate=0.300000012,\n",
       "              max_delta_step=0, max_depth=6, min_child_weight=1, missing=nan,\n",
       "              monotone_constraints='()', n_estimators=100, n_jobs=8,\n",
       "              num_parallel_tree=1, objective='multi:softprob', predictor='auto',\n",
       "              random_state=0, reg_alpha=0, reg_lambda=1, scale_pos_weight=None,\n",
       "              subsample=1, tree_method='exact', use_label_encoder=False,\n",
       "              validate_parameters=1, verbosity=None)"
      ]
     },
     "execution_count": 67,
     "metadata": {},
     "output_type": "execute_result"
    }
   ],
   "source": [
    "xgb_model_bal = xgb.XGBClassifier(use_label_encoder=False)\n",
    "xgb_model_bal.fit(features_bal, train_Y_bal)"
   ]
  },
  {
   "cell_type": "code",
   "execution_count": 68,
   "id": "970d6491",
   "metadata": {},
   "outputs": [
    {
     "name": "stdout",
     "output_type": "stream",
     "text": [
      "0.38868778280542987\n"
     ]
    },
    {
     "data": {
      "text/plain": [
       "<sklearn.metrics._plot.confusion_matrix.ConfusionMatrixDisplay at 0x20c91591910>"
      ]
     },
     "execution_count": 68,
     "metadata": {},
     "output_type": "execute_result"
    },
    {
     "data": {
      "image/png": "[encoded data removed]",
      "text/plain": [
       "<Figure size 432x288 with 2 Axes>"
      ]
     },
     "metadata": {
      "needs_background": "light"
     },
     "output_type": "display_data"
    }
   ],
   "source": [
    "xgb_predict_Y_bal = xgb_model_bal.predict(test_features)\n",
    "print( accuracy_score(true_Y, xgb_predict_Y_bal) )\n",
    "\n",
    "xgbBalCM = confusion_matrix( true_Y, xgb_predict_Y_bal, normalize='true' )\n",
    "xgbBalDisp = ConfusionMatrixDisplay( xgbBalCM )\n",
    "xgbBalDisp.plot()"
   ]
  },
  {
   "cell_type": "markdown",
   "id": "82dbedd4",
   "metadata": {},
   "source": [
    "Significantly better. We see alot less bias towards a single class. We have a somewhat nice diagnol, though there is issues with identifying the precisely correct class we are at least not predicting randomly or the opposite classes. Interesting that it seems more easy to predict a label the more extreme that label is, and that the model seems to prefer predicting more extreme labels than less extreme ones (eg if the true label is 1, it's more likely to predict 0 than 2, or if true=3, more likely to predict 4 than 2)."
   ]
  },
  {
   "cell_type": "code",
   "execution_count": null,
   "id": "0021bd42",
   "metadata": {},
   "outputs": [],
   "source": []
  }
 ],
 "metadata": {
  "kernelspec": {
   "display_name": "Python 3 (ipykernel)",
   "language": "python",
   "name": "python3"
  },
  "language_info": {
   "codemirror_mode": {
    "name": "ipython",
    "version": 3
   },
   "file_extension": ".py",
   "mimetype": "text/x-python",
   "name": "python",
   "nbconvert_exporter": "python",
   "pygments_lexer": "ipython3",
   "version": "3.8.12"
  }
 },
 "nbformat": 4,
 "nbformat_minor": 5
}
