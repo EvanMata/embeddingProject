{
 "cells": [
  {
   "cell_type": "code",
   "execution_count": 2,
   "id": "94cba226",
   "metadata": {},
   "outputs": [
    {
     "name": "stderr",
     "output_type": "stream",
     "text": [
      "C:\\Users\\601969\\Anaconda3\\envs\\nlp-bert-proj\\lib\\site-packages\\gensim\\similarities\\__init__.py:15: UserWarning: The gensim.similarities.levenshtein submodule is disabled, because the optional Levenshtein package <https://pypi.org/project/python-Levenshtein/> is unavailable. Install Levenhstein (e.g. `pip install python-Levenshtein`) to suppress this warning.\n",
      "  warnings.warn(msg)\n"
     ]
    }
   ],
   "source": [
    "import pandas as pd\n",
    "import matplotlib.pyplot as plt\n",
    "import gensim.parsing.preprocessing as gen_preproc\n",
    "\n",
    "import spacy\n",
    "nlp = spacy.load('en_core_web_sm')\n",
    "\n",
    "import numpy as np\n",
    "from gensim.models import FastText\n",
    "from gensim.models import Word2Vec\n",
    "from nltk.tokenize import sent_tokenize\n",
    "from sklearn.feature_extraction.text import CountVectorizer\n",
    "from sklearn.feature_extraction.text import TfidfVectorizer\n",
    "from sklearn.metrics import confusion_matrix, ConfusionMatrixDisplay\n",
    "from sklearn.decomposition import TruncatedSVD\n",
    "\n",
    "from sklearn import svm, tree\n",
    "from sklearn.neural_network import MLPRegressor\n",
    "from sklearn.linear_model import LinearRegression\n",
    "from sklearn.naive_bayes import MultinomialNB"
   ]
  },
  {
   "cell_type": "markdown",
   "id": "8cb0b8e5",
   "metadata": {},
   "source": [
    "## Data Preview & Basic Cleanup\n",
    "\n",
    "Simple open the file and preview the basic data in the training set."
   ]
  },
  {
   "cell_type": "code",
   "execution_count": 3,
   "id": "af6b0567",
   "metadata": {},
   "outputs": [
    {
     "data": {
      "text/html": [
       "<div>\n",
       "<style scoped>\n",
       "    .dataframe tbody tr th:only-of-type {\n",
       "        vertical-align: middle;\n",
       "    }\n",
       "\n",
       "    .dataframe tbody tr th {\n",
       "        vertical-align: top;\n",
       "    }\n",
       "\n",
       "    .dataframe thead th {\n",
       "        text-align: right;\n",
       "    }\n",
       "</style>\n",
       "<table border=\"1\" class=\"dataframe\">\n",
       "  <thead>\n",
       "    <tr style=\"text-align: right;\">\n",
       "      <th></th>\n",
       "      <th>label</th>\n",
       "      <th>text</th>\n",
       "    </tr>\n",
       "  </thead>\n",
       "  <tbody>\n",
       "    <tr>\n",
       "      <th>0</th>\n",
       "      <td>__label__4</td>\n",
       "      <td>The Rock is destined to be the 21st Century 's...</td>\n",
       "    </tr>\n",
       "    <tr>\n",
       "      <th>1</th>\n",
       "      <td>__label__5</td>\n",
       "      <td>The gorgeously elaborate continuation of `` Th...</td>\n",
       "    </tr>\n",
       "    <tr>\n",
       "      <th>2</th>\n",
       "      <td>__label__4</td>\n",
       "      <td>Singer/composer Bryan Adams contributes a slew...</td>\n",
       "    </tr>\n",
       "    <tr>\n",
       "      <th>3</th>\n",
       "      <td>__label__3</td>\n",
       "      <td>You 'd think by now America would have had eno...</td>\n",
       "    </tr>\n",
       "    <tr>\n",
       "      <th>4</th>\n",
       "      <td>__label__4</td>\n",
       "      <td>Yet the act is still charming here .</td>\n",
       "    </tr>\n",
       "  </tbody>\n",
       "</table>\n",
       "</div>"
      ],
      "text/plain": [
       "        label                                               text\n",
       "0  __label__4  The Rock is destined to be the 21st Century 's...\n",
       "1  __label__5  The gorgeously elaborate continuation of `` Th...\n",
       "2  __label__4  Singer/composer Bryan Adams contributes a slew...\n",
       "3  __label__3  You 'd think by now America would have had eno...\n",
       "4  __label__4               Yet the act is still charming here ."
      ]
     },
     "execution_count": 3,
     "metadata": {},
     "output_type": "execute_result"
    }
   ],
   "source": [
    "df = pd.read_csv( 'parsed_train.txt', sep='\\t', header=None,\n",
    "                   names=['label', 'text'] )\n",
    "df.head()"
   ]
  },
  {
   "cell_type": "markdown",
   "id": "94932737",
   "metadata": {},
   "source": [
    "Do some basic cleanup of labels, not yet preprocessing the text at all."
   ]
  },
  {
   "cell_type": "code",
   "execution_count": 4,
   "id": "3559c6b4",
   "metadata": {},
   "outputs": [
    {
     "data": {
      "text/html": [
       "<div>\n",
       "<style scoped>\n",
       "    .dataframe tbody tr th:only-of-type {\n",
       "        vertical-align: middle;\n",
       "    }\n",
       "\n",
       "    .dataframe tbody tr th {\n",
       "        vertical-align: top;\n",
       "    }\n",
       "\n",
       "    .dataframe thead th {\n",
       "        text-align: right;\n",
       "    }\n",
       "</style>\n",
       "<table border=\"1\" class=\"dataframe\">\n",
       "  <thead>\n",
       "    <tr style=\"text-align: right;\">\n",
       "      <th></th>\n",
       "      <th>label</th>\n",
       "      <th>text</th>\n",
       "    </tr>\n",
       "  </thead>\n",
       "  <tbody>\n",
       "    <tr>\n",
       "      <th>0</th>\n",
       "      <td>4</td>\n",
       "      <td>The Rock is destined to be the 21st Century 's...</td>\n",
       "    </tr>\n",
       "    <tr>\n",
       "      <th>1</th>\n",
       "      <td>5</td>\n",
       "      <td>The gorgeously elaborate continuation of `` Th...</td>\n",
       "    </tr>\n",
       "    <tr>\n",
       "      <th>2</th>\n",
       "      <td>4</td>\n",
       "      <td>Singer/composer Bryan Adams contributes a slew...</td>\n",
       "    </tr>\n",
       "    <tr>\n",
       "      <th>3</th>\n",
       "      <td>3</td>\n",
       "      <td>You 'd think by now America would have had eno...</td>\n",
       "    </tr>\n",
       "    <tr>\n",
       "      <th>4</th>\n",
       "      <td>4</td>\n",
       "      <td>Yet the act is still charming here .</td>\n",
       "    </tr>\n",
       "  </tbody>\n",
       "</table>\n",
       "</div>"
      ],
      "text/plain": [
       "   label                                               text\n",
       "0      4  The Rock is destined to be the 21st Century 's...\n",
       "1      5  The gorgeously elaborate continuation of `` Th...\n",
       "2      4  Singer/composer Bryan Adams contributes a slew...\n",
       "3      3  You 'd think by now America would have had eno...\n",
       "4      4               Yet the act is still charming here ."
      ]
     },
     "execution_count": 4,
     "metadata": {},
     "output_type": "execute_result"
    }
   ],
   "source": [
    "df['label'] = df['label'].apply(lambda x: int( x.replace(\"__label__\", \"\") ) )\n",
    "\n",
    "df.head()"
   ]
  },
  {
   "cell_type": "markdown",
   "id": "e00ac2b0",
   "metadata": {},
   "source": [
    "#### Are my labels balanced and evenly distributed? \n",
    "\n",
    "Or do I need to pay special care to my input data?"
   ]
  },
  {
   "cell_type": "code",
   "execution_count": 5,
   "id": "c184ca6b",
   "metadata": {},
   "outputs": [
    {
     "data": {
      "text/plain": [
       "(array([1092., 2218., 1624., 2322., 1288.]),\n",
       " array([1, 2, 3, 4, 5, 6]),\n",
       " <BarContainer object of 5 artists>)"
      ]
     },
     "execution_count": 5,
     "metadata": {},
     "output_type": "execute_result"
    },
    {
     "data": {
      "image/png": "[encoded data removed]",
      "text/plain": [
       "<Figure size 432x288 with 1 Axes>"
      ]
     },
     "metadata": {
      "needs_background": "light"
     },
     "output_type": "display_data"
    }
   ],
   "source": [
    "plt.hist(df['label'], bins=[1,2,3,4,5,6], align='left', rwidth=0.75)"
   ]
  },
  {
   "cell_type": "markdown",
   "id": "86bf9516",
   "metadata": {},
   "source": [
    "A bit unbalanced, but not too much. Also a symetrical distrobution, not many extra positive or negative reviews; though theres slight more positive items."
   ]
  },
  {
   "cell_type": "markdown",
   "id": "cf353e18",
   "metadata": {},
   "source": [
    "#### How many reviews are more than a single sentence?\n",
    "\n",
    "When getting to embedding models, can I treat each item as a single sentence? Based on the results, yes; nearly everything is a single sentence. "
   ]
  },
  {
   "cell_type": "code",
   "execution_count": 6,
   "id": "8e32328d",
   "metadata": {},
   "outputs": [
    {
     "data": {
      "text/plain": [
       "(array([8.457e+03, 8.500e+01, 2.000e+00, 0.000e+00, 0.000e+00]),\n",
       " array([1, 2, 3, 4, 5, 6]),\n",
       " <BarContainer object of 5 artists>)"
      ]
     },
     "execution_count": 6,
     "metadata": {},
     "output_type": "execute_result"
    },
    {
     "data": {
      "image/png": "[encoded data removed]",
      "text/plain": [
       "<Figure size 432x288 with 1 Axes>"
      ]
     },
     "metadata": {
      "needs_background": "light"
     },
     "output_type": "display_data"
    }
   ],
   "source": [
    "df['sentences'] = df['text'].apply(lambda x: len( sent_tokenize(x) ) )\n",
    "plt.hist(df['sentences'], bins=[1,2,3,4,5,6], align='left', rwidth=0.75)"
   ]
  },
  {
   "cell_type": "code",
   "execution_count": 7,
   "id": "ea83602d",
   "metadata": {},
   "outputs": [
    {
     "data": {
      "text/plain": [
       "1      The gorgeously elaborate continuation of `` Th...\n",
       "45     ... a sour little movie at its core ; an explo...\n",
       "68     I walked away from this new version of E.T. ju...\n",
       "199    As comedic spotlights go , Notorious C.H.O. hi...\n",
       "537    E.T. works because its flabbergasting principa...\n",
       "Name: text, dtype: object"
      ]
     },
     "execution_count": 7,
     "metadata": {},
     "output_type": "execute_result"
    }
   ],
   "source": [
    "df2 = df.loc[df['sentences'] >= 2]\n",
    "df2 = df2['text']\n",
    "df2.head()"
   ]
  },
  {
   "cell_type": "markdown",
   "id": "3555d874",
   "metadata": {},
   "source": [
    "## Preprocessing\n",
    "\n",
    "Time to do a bit of preprocessing for different items. All items will be lowercase, punctuation & stop words stripped as well as some other basic preprocessing; plus one column thats stemmed and another lemmatized."
   ]
  },
  {
   "cell_type": "code",
   "execution_count": 8,
   "id": "6912153e",
   "metadata": {},
   "outputs": [
    {
     "data": {
      "text/html": [
       "<div>\n",
       "<style scoped>\n",
       "    .dataframe tbody tr th:only-of-type {\n",
       "        vertical-align: middle;\n",
       "    }\n",
       "\n",
       "    .dataframe tbody tr th {\n",
       "        vertical-align: top;\n",
       "    }\n",
       "\n",
       "    .dataframe thead th {\n",
       "        text-align: right;\n",
       "    }\n",
       "</style>\n",
       "<table border=\"1\" class=\"dataframe\">\n",
       "  <thead>\n",
       "    <tr style=\"text-align: right;\">\n",
       "      <th></th>\n",
       "      <th>label</th>\n",
       "      <th>text</th>\n",
       "      <th>sentences</th>\n",
       "      <th>basicProc</th>\n",
       "      <th>stemmed</th>\n",
       "      <th>lemmatized</th>\n",
       "    </tr>\n",
       "  </thead>\n",
       "  <tbody>\n",
       "    <tr>\n",
       "      <th>0</th>\n",
       "      <td>4</td>\n",
       "      <td>The Rock is destined to be the 21st Century 's...</td>\n",
       "      <td>1</td>\n",
       "      <td>the rock is destined to be the 21st century s ...</td>\n",
       "      <td>the rock is destin to be the 21st centuri s ne...</td>\n",
       "      <td>the rock be destine to be the 21st century s n...</td>\n",
       "    </tr>\n",
       "    <tr>\n",
       "      <th>1</th>\n",
       "      <td>5</td>\n",
       "      <td>The gorgeously elaborate continuation of `` Th...</td>\n",
       "      <td>2</td>\n",
       "      <td>the gorgeously elaborate continuation of the l...</td>\n",
       "      <td>the gorgeous elabor continu of the lord of the...</td>\n",
       "      <td>the gorgeously elaborate continuation of the l...</td>\n",
       "    </tr>\n",
       "    <tr>\n",
       "      <th>2</th>\n",
       "      <td>4</td>\n",
       "      <td>Singer/composer Bryan Adams contributes a slew...</td>\n",
       "      <td>1</td>\n",
       "      <td>singer composer bryan adams contributes a slew...</td>\n",
       "      <td>singer compos bryan adam contribut a slew of s...</td>\n",
       "      <td>singer composer bryan adams contribute a slew ...</td>\n",
       "    </tr>\n",
       "    <tr>\n",
       "      <th>3</th>\n",
       "      <td>3</td>\n",
       "      <td>You 'd think by now America would have had eno...</td>\n",
       "      <td>1</td>\n",
       "      <td>you d think by now america would have had enou...</td>\n",
       "      <td>you d think by now america would have had enou...</td>\n",
       "      <td>-PRON- d think by now america would have have ...</td>\n",
       "    </tr>\n",
       "    <tr>\n",
       "      <th>4</th>\n",
       "      <td>4</td>\n",
       "      <td>Yet the act is still charming here .</td>\n",
       "      <td>1</td>\n",
       "      <td>yet the act is still charming here</td>\n",
       "      <td>yet the act is still charm here</td>\n",
       "      <td>yet the act be still charm here</td>\n",
       "    </tr>\n",
       "  </tbody>\n",
       "</table>\n",
       "</div>"
      ],
      "text/plain": [
       "   label                                               text  sentences  \\\n",
       "0      4  The Rock is destined to be the 21st Century 's...          1   \n",
       "1      5  The gorgeously elaborate continuation of `` Th...          2   \n",
       "2      4  Singer/composer Bryan Adams contributes a slew...          1   \n",
       "3      3  You 'd think by now America would have had eno...          1   \n",
       "4      4               Yet the act is still charming here .          1   \n",
       "\n",
       "                                           basicProc  \\\n",
       "0  the rock is destined to be the 21st century s ...   \n",
       "1  the gorgeously elaborate continuation of the l...   \n",
       "2  singer composer bryan adams contributes a slew...   \n",
       "3  you d think by now america would have had enou...   \n",
       "4                 yet the act is still charming here   \n",
       "\n",
       "                                             stemmed  \\\n",
       "0  the rock is destin to be the 21st centuri s ne...   \n",
       "1  the gorgeous elabor continu of the lord of the...   \n",
       "2  singer compos bryan adam contribut a slew of s...   \n",
       "3  you d think by now america would have had enou...   \n",
       "4                    yet the act is still charm here   \n",
       "\n",
       "                                          lemmatized  \n",
       "0  the rock be destine to be the 21st century s n...  \n",
       "1  the gorgeously elaborate continuation of the l...  \n",
       "2  singer composer bryan adams contribute a slew ...  \n",
       "3  -PRON- d think by now america would have have ...  \n",
       "4                    yet the act be still charm here  "
      ]
     },
     "execution_count": 8,
     "metadata": {},
     "output_type": "execute_result"
    }
   ],
   "source": [
    "basicPreproc = [lambda x: x.lower(), gen_preproc.strip_tags, \\\n",
    "    gen_preproc.strip_punctuation, gen_preproc.strip_non_alphanum, \\\n",
    "    gen_preproc.strip_multiple_whitespaces] #, gen_preproc.strip_short, gen_preproc.remove_stopwords\n",
    "\n",
    "df['basicProc'] = df['text'].apply(lambda x: ' '.join( gen_preproc.preprocess_string(x, basicPreproc)))\n",
    "df['stemmed'] = df['basicProc'].apply(lambda x: gen_preproc.stem_text(x))\n",
    "df['lemmatized'] = df['basicProc'].apply(lambda x: ' '.join( [token.lemma_ for token in nlp(x)] ) )\n",
    "\n",
    "df.head()"
   ]
  },
  {
   "cell_type": "code",
   "execution_count": 9,
   "id": "ecda7ce6",
   "metadata": {},
   "outputs": [
    {
     "data": {
      "text/plain": [
       "(array([ 726., 1370., 1754., 1430., 1430., 1028.,  439.,  249.,   95.,\n",
       "          23.]),\n",
       " array([ 1. ,  5.7, 10.4, 15.1, 19.8, 24.5, 29.2, 33.9, 38.6, 43.3, 48. ]),\n",
       " <BarContainer object of 10 artists>)"
      ]
     },
     "execution_count": 9,
     "metadata": {},
     "output_type": "execute_result"
    },
    {
     "data": {
      "image/png": "[encoded data removed]",
      "text/plain": [
       "<Figure size 432x288 with 1 Axes>"
      ]
     },
     "metadata": {
      "needs_background": "light"
     },
     "output_type": "display_data"
    }
   ],
   "source": [
    "df['wordCount'] = df['lemmatized'].apply(lambda x: len(x.split()))\n",
    "plt.hist(df['wordCount'], align='left', rwidth=0.75)"
   ]
  },
  {
   "cell_type": "markdown",
   "id": "f3b3f1c2",
   "metadata": {},
   "source": [
    "Unsurpisingly the distrobution is right skewed, though the tail is a bit shorter than expected still. Given that a relatively high percentage of reviews are short, I wonder how our predictions would get better if only juding on longer texts? "
   ]
  },
  {
   "cell_type": "markdown",
   "id": "bebd6c2b",
   "metadata": {},
   "source": [
    "## Creating BOW-Esk Input Vectors & Models"
   ]
  },
  {
   "cell_type": "code",
   "execution_count": 10,
   "id": "f27df76f",
   "metadata": {},
   "outputs": [],
   "source": [
    "bowVec = CountVectorizer(binary=True, ngram_range=(1,2), min_df=2, max_features=5000)\n",
    "cvVec = CountVectorizer(binary=False, ngram_range=(1,2), min_df=2, max_features=5000)\n",
    "tfidfVec = TfidfVectorizer(ngram_range=(1,2), min_df=2, max_features=5000)\n",
    "\n",
    "bowDTM = bowVec.fit_transform(df['lemmatized'])\n",
    "cvDTM = cvVec.fit_transform(df['lemmatized'])\n",
    "tfidfDTM = tfidfVec.fit_transform(df['lemmatized'])\n",
    "\n",
    "bowSVD = TruncatedSVD(n_components=300)\n",
    "cvSVD = TruncatedSVD(n_components=300)\n",
    "tfidfSVD = TruncatedSVD(n_components=300)\n",
    "\n",
    "bow300DTM = bowSVD.fit_transform(bowDTM)\n",
    "cv300DTM = cvSVD.fit_transform(cvDTM)\n",
    "tfidf300DTM = tfidfSVD.fit_transform(tfidfDTM)"
   ]
  },
  {
   "cell_type": "code",
   "execution_count": 11,
   "id": "c2b175f3",
   "metadata": {},
   "outputs": [
    {
     "data": {
      "text/plain": [
       "SVR()"
      ]
     },
     "execution_count": 11,
     "metadata": {},
     "output_type": "execute_result"
    }
   ],
   "source": [
    "bowModel = svm.SVR()\n",
    "cvModel = svm.SVR()\n",
    "tfidfModel = svm.SVR()\n",
    "bowSVDModel = svm.SVR()\n",
    "cvSVDModel = svm.SVR()\n",
    "tfidfSVDModel = svm.SVR()\n",
    "\n",
    "bowModel.fit(bowDTM, df['label'])\n",
    "cvModel.fit(cvDTM, df['label'])\n",
    "tfidfModel.fit(tfidfDTM, df['label'])\n",
    "bowSVDModel.fit(bow300DTM, df['label'])\n",
    "cvSVDModel.fit(cv300DTM, df['label'])\n",
    "tfidfSVDModel.fit(tfidf300DTM, df['label'])"
   ]
  },
  {
   "cell_type": "markdown",
   "id": "6350310c",
   "metadata": {},
   "source": [
    "Trying some other models"
   ]
  },
  {
   "cell_type": "code",
   "execution_count": 12,
   "id": "89b25624",
   "metadata": {},
   "outputs": [
    {
     "data": {
      "text/plain": [
       "MultinomialNB()"
      ]
     },
     "execution_count": 12,
     "metadata": {},
     "output_type": "execute_result"
    }
   ],
   "source": [
    "bowModelSvm = svm.SVR()\n",
    "bowModelNN = MLPRegressor(random_state=1, max_iter=200)\n",
    "bowModelTree = tree.DecisionTreeRegressor()\n",
    "bowModelLinReg = LinearRegression()\n",
    "bowModelBayes = MultinomialNB() #Doesn't work w. negative values.\n",
    "\n",
    "bowModelSvm.fit(bowDTM, df['label'])\n",
    "bowModelNN.fit(bowDTM, df['label'])\n",
    "bowModelTree.fit(bowDTM, df['label'])\n",
    "bowModelLinReg.fit(bowDTM, df['label'])\n",
    "bowModelBayes.fit(bowDTM, df['label'])"
   ]
  },
  {
   "cell_type": "markdown",
   "id": "ec340d0f",
   "metadata": {},
   "source": [
    "## Load in the Test Dataset And Parse the same way as Train"
   ]
  },
  {
   "cell_type": "code",
   "execution_count": 13,
   "id": "91d5b269",
   "metadata": {},
   "outputs": [
    {
     "data": {
      "text/html": [
       "<div>\n",
       "<style scoped>\n",
       "    .dataframe tbody tr th:only-of-type {\n",
       "        vertical-align: middle;\n",
       "    }\n",
       "\n",
       "    .dataframe tbody tr th {\n",
       "        vertical-align: top;\n",
       "    }\n",
       "\n",
       "    .dataframe thead th {\n",
       "        text-align: right;\n",
       "    }\n",
       "</style>\n",
       "<table border=\"1\" class=\"dataframe\">\n",
       "  <thead>\n",
       "    <tr style=\"text-align: right;\">\n",
       "      <th></th>\n",
       "      <th>label</th>\n",
       "      <th>text</th>\n",
       "      <th>basicProc</th>\n",
       "      <th>stemmed</th>\n",
       "      <th>lemmatized</th>\n",
       "    </tr>\n",
       "  </thead>\n",
       "  <tbody>\n",
       "    <tr>\n",
       "      <th>0</th>\n",
       "      <td>3</td>\n",
       "      <td>Effective but too-tepid biopic</td>\n",
       "      <td>effective but too tepid biopic</td>\n",
       "      <td>effect but too tepid biopic</td>\n",
       "      <td>effective but too tepid biopic</td>\n",
       "    </tr>\n",
       "    <tr>\n",
       "      <th>1</th>\n",
       "      <td>4</td>\n",
       "      <td>If you sometimes like to go to the movies to h...</td>\n",
       "      <td>if you sometimes like to go to the movies to h...</td>\n",
       "      <td>if you sometim like to go to the movi to have ...</td>\n",
       "      <td>if -PRON- sometimes like to go to the movie to...</td>\n",
       "    </tr>\n",
       "    <tr>\n",
       "      <th>2</th>\n",
       "      <td>5</td>\n",
       "      <td>Emerges as something rare , an issue movie tha...</td>\n",
       "      <td>emerges as something rare an issue movie that ...</td>\n",
       "      <td>emerg as someth rare an issu movi that s so ho...</td>\n",
       "      <td>emerge as something rare an issue movie that s...</td>\n",
       "    </tr>\n",
       "    <tr>\n",
       "      <th>3</th>\n",
       "      <td>3</td>\n",
       "      <td>The film provides some great insight into the ...</td>\n",
       "      <td>the film provides some great insight into the ...</td>\n",
       "      <td>the film provid some great insight into the ne...</td>\n",
       "      <td>the film provide some great insight into the n...</td>\n",
       "    </tr>\n",
       "    <tr>\n",
       "      <th>4</th>\n",
       "      <td>5</td>\n",
       "      <td>Offers that rare combination of entertainment ...</td>\n",
       "      <td>offers that rare combination of entertainment ...</td>\n",
       "      <td>offer that rare combin of entertain and educ</td>\n",
       "      <td>offer that rare combination of entertainment a...</td>\n",
       "    </tr>\n",
       "  </tbody>\n",
       "</table>\n",
       "</div>"
      ],
      "text/plain": [
       "   label                                               text  \\\n",
       "0      3                     Effective but too-tepid biopic   \n",
       "1      4  If you sometimes like to go to the movies to h...   \n",
       "2      5  Emerges as something rare , an issue movie tha...   \n",
       "3      3  The film provides some great insight into the ...   \n",
       "4      5  Offers that rare combination of entertainment ...   \n",
       "\n",
       "                                           basicProc  \\\n",
       "0                     effective but too tepid biopic   \n",
       "1  if you sometimes like to go to the movies to h...   \n",
       "2  emerges as something rare an issue movie that ...   \n",
       "3  the film provides some great insight into the ...   \n",
       "4  offers that rare combination of entertainment ...   \n",
       "\n",
       "                                             stemmed  \\\n",
       "0                        effect but too tepid biopic   \n",
       "1  if you sometim like to go to the movi to have ...   \n",
       "2  emerg as someth rare an issu movi that s so ho...   \n",
       "3  the film provid some great insight into the ne...   \n",
       "4       offer that rare combin of entertain and educ   \n",
       "\n",
       "                                          lemmatized  \n",
       "0                     effective but too tepid biopic  \n",
       "1  if -PRON- sometimes like to go to the movie to...  \n",
       "2  emerge as something rare an issue movie that s...  \n",
       "3  the film provide some great insight into the n...  \n",
       "4  offer that rare combination of entertainment a...  "
      ]
     },
     "execution_count": 13,
     "metadata": {},
     "output_type": "execute_result"
    }
   ],
   "source": [
    "test_df = pd.read_csv( 'parsed_test.txt', sep='\\t', header=None,\n",
    "                   names=['label', 'text'] )\n",
    "test_df['label'] = test_df['label'].apply(lambda x: int( x.replace(\"__label__\", \"\") ) )\n",
    "test_df['basicProc'] = test_df['text'].apply(lambda x: ' '.join( gen_preproc.preprocess_string(x, basicPreproc)))\n",
    "test_df['stemmed'] = test_df['basicProc'].apply(lambda x: gen_preproc.stem_text(x))\n",
    "test_df['lemmatized'] = test_df['basicProc'].apply(lambda x: ' '.join( [token.lemma_ for token in nlp(x)] ) )\n",
    "\n",
    "test_df.head()"
   ]
  },
  {
   "cell_type": "markdown",
   "id": "5149e20c",
   "metadata": {},
   "source": [
    "## BOW - Esk Evaluation"
   ]
  },
  {
   "cell_type": "code",
   "execution_count": 14,
   "id": "77907f3f",
   "metadata": {},
   "outputs": [],
   "source": [
    "testBowDTM = bowVec.transform( test_df['lemmatized'] )\n",
    "testCvDTM = cvVec.transform( test_df['lemmatized'] )\n",
    "testTfidfDTM = tfidfVec.transform( test_df['lemmatized'] )\n",
    "\n",
    "testBowSvdDTM = bowSVD.transform( testBowDTM )\n",
    "testCvSvdDTM = cvSVD.transform( testCvDTM )\n",
    "testTfidfSvdDTM = tfidfSVD.transform( testTfidfDTM )"
   ]
  },
  {
   "cell_type": "code",
   "execution_count": 15,
   "id": "ece44f3a",
   "metadata": {},
   "outputs": [
    {
     "name": "stdout",
     "output_type": "stream",
     "text": [
      "Bow R^2:  0.33200996559026075\n",
      "Cv R^2:  0.3229852810198336\n",
      "Tfidf R^2:  0.3627280831959865\n",
      "Bow SVD R^2:  0.22824341553004335\n",
      "Cv SVD R^2:  0.224378932650797\n",
      "Tfidf SVD R^2:  0.29761311762636544\n"
     ]
    }
   ],
   "source": [
    "print( 'Bow R^2: ',  bowModel.score( testBowDTM, test_df['label']) )\n",
    "print( 'Cv R^2: ',  cvModel.score( testCvDTM, test_df['label'])  )\n",
    "print( 'Tfidf R^2: ',  tfidfModel.score( testTfidfDTM, test_df['label'])  )\n",
    "\n",
    "print( 'Bow SVD R^2: ',  bowSVDModel.score( testBowSvdDTM, test_df['label']) )\n",
    "print( 'Cv SVD R^2: ',  cvSVDModel.score( testCvSvdDTM, test_df['label']) )\n",
    "print( 'Tfidf SVD R^2: ',  tfidfSVDModel.score( testTfidfSvdDTM, test_df['label']) )"
   ]
  },
  {
   "cell_type": "markdown",
   "id": "d3dbfded",
   "metadata": {},
   "source": [
    "Fairly Comparable results amongst the SVM methods. Probably impacted by the fact that each text is relatively short. We didn't do any analysis of our actual vectorizer's here; technically we did keep max 5k vocab words but we don't know if we even hit that many. We don't know how sparse our input vectors are either. \n",
    "\n",
    "Very surprising that SVD accross the board made results significantly worse. I wonder why? Obviously it compresses information, but I would have guessed improved features would have been more important than not. As is clear, intuition is not always correct. Now time to examine our other methods."
   ]
  },
  {
   "cell_type": "code",
   "execution_count": 16,
   "id": "205bcd27",
   "metadata": {},
   "outputs": [
    {
     "name": "stdout",
     "output_type": "stream",
     "text": [
      "Bow Neural Net R^2:  -0.0016589641529320964\n",
      "Bow Tree R^2:  -0.34553119236286345\n",
      "Bow Linear Regression R^2:  -0.3481873108439011\n",
      "Bow Naive Bayes R^2:  0.39638009049773754\n"
     ]
    }
   ],
   "source": [
    "print( 'Bow Neural Net R^2: ',  bowModelNN.score(testBowDTM, test_df['label']) )\n",
    "print( 'Bow Tree R^2: ',  bowModelTree.score(testBowDTM, test_df['label']) )\n",
    "print( 'Bow Linear Regression R^2: ',  bowModelLinReg.score(testBowDTM, test_df['label']) )\n",
    "print( 'Bow Naive Bayes R^2: ',  bowModelBayes.score(testBowDTM, test_df['label']) )"
   ]
  },
  {
   "cell_type": "markdown",
   "id": "168cbbfc",
   "metadata": {},
   "source": [
    "#### Lets look a little more in-depth at our results. \n",
    "\n",
    "Using confusion matrices, we * should hopefully * see that most of our errors are between adjacent classes. We can also further look at error Mean Square Error. Also wild that alot of the different algorithms have Negative R^2 values. The tree & linear regression in particular. Probably n-grams messing them up?"
   ]
  },
  {
   "cell_type": "code",
   "execution_count": 17,
   "id": "a76f5737",
   "metadata": {},
   "outputs": [],
   "source": [
    "bowPredictions = bowModel.predict( testBowDTM )\n",
    "cvPredictions = cvModel.predict( testCvDTM )\n",
    "tfidfPredictions = tfidfModel.predict( testTfidfDTM )\n",
    "\n",
    "bowSvdPredictions = bowSVDModel.predict( testBowSvdDTM )\n",
    "cvSvdPredictions = cvSVDModel.predict( testCvSvdDTM )\n",
    "tfidfSvdPredictions = tfidfSVDModel.predict( testTfidfSvdDTM )"
   ]
  },
  {
   "cell_type": "code",
   "execution_count": 18,
   "id": "f8a77861",
   "metadata": {},
   "outputs": [
    {
     "data": {
      "text/plain": [
       "<sklearn.metrics._plot.confusion_matrix.ConfusionMatrixDisplay at 0x29fe5c51a00>"
      ]
     },
     "execution_count": 18,
     "metadata": {},
     "output_type": "execute_result"
    },
    {
     "data": {
      "image/png": "[encoded data removed]",
      "text/plain": [
       "<Figure size 432x288 with 2 Axes>"
      ]
     },
     "metadata": {
      "needs_background": "light"
     },
     "output_type": "display_data"
    },
    {
     "data": {
      "image/png": "[encoded data removed]",
      "text/plain": [
       "<Figure size 432x288 with 2 Axes>"
      ]
     },
     "metadata": {
      "needs_background": "light"
     },
     "output_type": "display_data"
    },
    {
     "data": {
      "image/png": "[encoded data removed]",
      "text/plain": [
       "<Figure size 432x288 with 2 Axes>"
      ]
     },
     "metadata": {
      "needs_background": "light"
     },
     "output_type": "display_data"
    }
   ],
   "source": [
    "truth = test_df['label']\n",
    "bowPredictions = [round( pred ) for pred in bowPredictions]\n",
    "tfidfPredictions = [round( pred ) for pred in tfidfPredictions]\n",
    "tfidfSvdPredictions = [round( pred ) for pred in tfidfSvdPredictions]\n",
    "\n",
    "bowCM = confusion_matrix( truth, bowPredictions )\n",
    "tfidfCM = confusion_matrix( truth, tfidfPredictions )\n",
    "tfidfSvdCM = confusion_matrix( truth, tfidfSvdPredictions )\n",
    "bowDisp = ConfusionMatrixDisplay( bowCM )\n",
    "tfidfDisp = ConfusionMatrixDisplay( tfidfCM )\n",
    "tfidfSvdDisp = ConfusionMatrixDisplay( tfidfSvdCM )\n",
    "bowDisp.plot()\n",
    "tfidfDisp.plot()\n",
    "tfidfSvdDisp.plot()"
   ]
  },
  {
   "cell_type": "markdown",
   "id": "b054b12e",
   "metadata": {},
   "source": [
    "We very clearly see that our models are all predicting neutral way too often. Perhaps some regression to the mean issue? Furthermore, all modesl are very bad at handling the outermost items, namely if the True label is 0|4 then the models are wrong a significant majority of the time. For the most part, we do at least stay within a good distance of the actual label (eg true 0's are very unlikely to be predicted as 4's or vice versa)."
   ]
  },
  {
   "cell_type": "markdown",
   "id": "0e41cde9",
   "metadata": {},
   "source": [
    "## Embedding Model Time\n",
    "\n",
    "Here we are treating each doc (since they are very short) as a single sentence, just for simplicity. There's a tiny bit more data examination on the lengths of reviews, as we didn't need to tokenize until now."
   ]
  },
  {
   "cell_type": "code",
   "execution_count": 19,
   "id": "39e3180a",
   "metadata": {},
   "outputs": [
    {
     "data": {
      "text/plain": [
       "(array([ 726., 1370., 1754., 1430., 1430., 1028.,  439.,  249.,   95.,\n",
       "          23.]),\n",
       " array([ 1. ,  5.7, 10.4, 15.1, 19.8, 24.5, 29.2, 33.9, 38.6, 43.3, 48. ]),\n",
       " <BarContainer object of 10 artists>)"
      ]
     },
     "execution_count": 19,
     "metadata": {},
     "output_type": "execute_result"
    },
    {
     "data": {
      "image/png": "[encoded data removed]",
      "text/plain": [
       "<Figure size 432x288 with 1 Axes>"
      ]
     },
     "metadata": {
      "needs_background": "light"
     },
     "output_type": "display_data"
    }
   ],
   "source": [
    "df['tokenized'] = df['lemmatized'].apply(lambda x: x.split())\n",
    "w2vModel = Word2Vec( df['tokenized'], vector_size=100, window=5, min_count=3, workers=10)\n",
    "w2vSvmModel = svm.SVR()\n",
    "\n",
    "df['num_words'] = df['tokenized'].apply(lambda x: len(x))\n",
    "plt.hist(df['num_words'], align='left', rwidth=0.75)"
   ]
  },
  {
   "cell_type": "code",
   "execution_count": 20,
   "id": "332a6bd1",
   "metadata": {},
   "outputs": [
    {
     "data": {
      "text/plain": [
       "SVR()"
      ]
     },
     "execution_count": 20,
     "metadata": {},
     "output_type": "execute_result"
    }
   ],
   "source": [
    "vocab = list(w2vModel.wv.index_to_key)\n",
    "\n",
    "#Turns out with stop word removal some items have 0 words so deleted that out of preprocessing.\n",
    "#Also turns out some items only have 2 word phrases, so deleted that out of preprocessing.\n",
    "badsDf = df[df['tokenized'].apply(lambda x: len(x) < 1)] \n",
    "badsDf.head()\n",
    "\n",
    "def calc_vec(tokensLst):\n",
    "    vecs = [w2vModel.wv[word] for word in tokensLst if word in vocab]\n",
    "    if len(vecs) == 0:\n",
    "        vecs = [np.zeros(100), np.zeros(100)]\n",
    "    return sum(vecs) / max([len(tokensLst), 1])\n",
    "\n",
    "df['w2vVectors'] = df['tokenized'].apply(lambda x: calc_vec(x))\n",
    "X = list( df['w2vVectors'] )\n",
    "y = list( df['label'] )\n",
    "\n",
    "w2vSvmModel.fit( X, y )"
   ]
  },
  {
   "cell_type": "code",
   "execution_count": 21,
   "id": "9e77b05d",
   "metadata": {},
   "outputs": [
    {
     "data": {
      "text/plain": [
       "0.03746779071683759"
      ]
     },
     "execution_count": 21,
     "metadata": {},
     "output_type": "execute_result"
    }
   ],
   "source": [
    "test_df['tokenized'] = test_df['lemmatized'].apply(lambda x: x.split())\n",
    "test_df['w2vVectors'] = test_df['tokenized'].apply(lambda x: calc_vec(x))\n",
    "testX = list( test_df['w2vVectors'] )\n",
    "testy = list( test_df['label'] )\n",
    "w2vPredictions = w2vSvmModel.predict( testX )\n",
    "w2vSvmModel.score( testX, testy )"
   ]
  },
  {
   "cell_type": "markdown",
   "id": "1085ad86",
   "metadata": {},
   "source": [
    "Interestingly, much worse performance than the non-embedding models. I wonder why?"
   ]
  },
  {
   "cell_type": "code",
   "execution_count": 22,
   "id": "e1c273b7",
   "metadata": {},
   "outputs": [
    {
     "data": {
      "text/plain": [
       "<sklearn.metrics._plot.confusion_matrix.ConfusionMatrixDisplay at 0x29f89f6d550>"
      ]
     },
     "execution_count": 22,
     "metadata": {},
     "output_type": "execute_result"
    },
    {
     "data": {
      "image/png": "[encoded data removed]",
      "text/plain": [
       "<Figure size 432x288 with 2 Axes>"
      ]
     },
     "metadata": {
      "needs_background": "light"
     },
     "output_type": "display_data"
    }
   ],
   "source": [
    "w2vPredictions = [round( pred ) for pred in w2vPredictions]\n",
    "w2vCM = confusion_matrix( testy, w2vPredictions )\n",
    "w2vDisp = ConfusionMatrixDisplay( w2vCM )\n",
    "w2vDisp.plot()"
   ]
  },
  {
   "cell_type": "markdown",
   "id": "12e09ecb",
   "metadata": {},
   "source": [
    "Almost everythng is predicted as neutral...\n",
    "This could very well be because we're drowning out the important words by averaging them, so everything is regressed towards the center, which is causing everything to be classified there as well. This time, lets attempt to feed in a matrix of w2v vectors instead of a single averages vector for our reviews."
   ]
  },
  {
   "cell_type": "code",
   "execution_count": 28,
   "id": "bade419b",
   "metadata": {},
   "outputs": [
    {
     "name": "stdout",
     "output_type": "stream",
     "text": [
      "[-0.66571319  0.07679484 -0.24761917 ...  0.          0.\n",
      "  0.        ]\n"
     ]
    }
   ],
   "source": [
    "def calc_matrix(tokensLst, max_words=35):\n",
    "    empty = np.zeros(100)\n",
    "    vecs = [w2vModel.wv[word] for word in tokensLst if word in vocab]\n",
    "    if len(vecs) < max_words:\n",
    "        vecs += [empty for i in range(len(vecs), max_words)]\n",
    "    else:\n",
    "        vecs = vecs[:max_words]\n",
    "    vecs = np.array(vecs).flatten()\n",
    "    return vecs\n",
    "\n",
    "df['w2vMatrices'] = df['tokenized'].apply(lambda x: calc_matrix(x))\n",
    "XMat = list( df['w2vMatrices'] )\n",
    "y = list( df['label'] )\n",
    "\n",
    "w2vMatModel = svm.SVR()\n",
    "w2vMatModel.fit( XMat, y )\n",
    "Xmat[0]"
   ]
  },
  {
   "cell_type": "code",
   "execution_count": 37,
   "id": "831cf291",
   "metadata": {},
   "outputs": [
    {
     "data": {
      "text/plain": [
       "3500"
      ]
     },
     "execution_count": 37,
     "metadata": {},
     "output_type": "execute_result"
    }
   ],
   "source": [
    "len( XMat[0] )"
   ]
  },
  {
   "cell_type": "code",
   "execution_count": 35,
   "id": "a1307d3e",
   "metadata": {},
   "outputs": [
    {
     "data": {
      "text/plain": [
       "-0.010587043919003891"
      ]
     },
     "execution_count": 35,
     "metadata": {},
     "output_type": "execute_result"
    }
   ],
   "source": [
    "test_df['w2vMatrices'] = test_df['tokenized'].apply(lambda x: calc_matrix(x))\n",
    "testMatX = list( test_df['w2vMatrices'] )\n",
    "\n",
    "w2vMatPredictions = w2vMatModel.predict( testMatX )\n",
    "w2vMatModel.score( testMatX, testy )"
   ]
  },
  {
   "cell_type": "code",
   "execution_count": 36,
   "id": "b0f3e550",
   "metadata": {},
   "outputs": [
    {
     "data": {
      "text/plain": [
       "<sklearn.metrics._plot.confusion_matrix.ConfusionMatrixDisplay at 0x29f88210670>"
      ]
     },
     "execution_count": 36,
     "metadata": {},
     "output_type": "execute_result"
    },
    {
     "data": {
      "image/png": "[encoded data removed]",
      "text/plain": [
       "<Figure size 432x288 with 2 Axes>"
      ]
     },
     "metadata": {
      "needs_background": "light"
     },
     "output_type": "display_data"
    }
   ],
   "source": [
    "w2vMatPredictions = [round( pred ) for pred in w2vMatPredictions]\n",
    "w2vMatCM = confusion_matrix( testy, w2vMatPredictions )\n",
    "w2vMatDisp = ConfusionMatrixDisplay( w2vMatCM )\n",
    "w2vMatDisp.plot()"
   ]
  },
  {
   "cell_type": "markdown",
   "id": "0cf58ea4",
   "metadata": {},
   "source": [
    "## Potential Additions:\n",
    "\n",
    "- Try FastText\n",
    "- Compare results of stemming instead of lemmatization\n",
    "- Use RMSE in addition to R^2 \n",
    "- Include pretrained vectors"
   ]
  },
  {
   "cell_type": "code",
   "execution_count": null,
   "id": "4422d72f",
   "metadata": {},
   "outputs": [],
   "source": []
  }
 ],
 "metadata": {
  "kernelspec": {
   "display_name": "Python 3 (ipykernel)",
   "language": "python",
   "name": "python3"
  },
  "language_info": {
   "codemirror_mode": {
    "name": "ipython",
    "version": 3
   },
   "file_extension": ".py",
   "mimetype": "text/x-python",
   "name": "python",
   "nbconvert_exporter": "python",
   "pygments_lexer": "ipython3",
   "version": "3.8.11"
  }
 },
 "nbformat": 4,
 "nbformat_minor": 5
}
