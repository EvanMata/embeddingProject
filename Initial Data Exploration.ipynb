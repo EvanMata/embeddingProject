{
 "cells": [
  {
   "cell_type": "markdown",
   "id": "4a2b4b48",
   "metadata": {},
   "source": [
    "In this notebook I begin to explore my data and perform some simple data transformations. A brief discussion is avaiable in the Early Vectorizers notebook on some of the data transformation techniques (lemmatization & stemming).  "
   ]
  },
  {
   "cell_type": "code",
   "execution_count": 1,
   "id": "94cba226",
   "metadata": {},
   "outputs": [],
   "source": [
    "import pandas as pd\n",
    "import matplotlib.pyplot as plt\n",
    "import gensim.parsing.preprocessing as gen_preproc\n",
    "\n",
    "import spacy\n",
    "nlp = spacy.load('en_core_web_sm')\n",
    "\n",
    "import numpy as np\n",
    "from gensim.models import FastText\n",
    "from gensim.models import Word2Vec\n",
    "from nltk.tokenize import sent_tokenize\n",
    "from sklearn.feature_extraction.text import CountVectorizer\n",
    "from sklearn.feature_extraction.text import TfidfVectorizer\n",
    "from sklearn.metrics import confusion_matrix, ConfusionMatrixDisplay\n",
    "from sklearn.decomposition import TruncatedSVD\n",
    "\n",
    "from sklearn import svm, tree\n",
    "from sklearn.neural_network import MLPRegressor\n",
    "from sklearn.linear_model import LinearRegression\n",
    "from sklearn.naive_bayes import MultinomialNB"
   ]
  },
  {
   "cell_type": "markdown",
   "id": "8cb0b8e5",
   "metadata": {},
   "source": [
    "## Data Preview & Basic Cleanup\n",
    "\n",
    "Simply opening the file and preview the basic data in the training set."
   ]
  },
  {
   "cell_type": "code",
   "execution_count": 2,
   "id": "af6b0567",
   "metadata": {},
   "outputs": [
    {
     "data": {
      "text/html": [
       "<div>\n",
       "<style scoped>\n",
       "    .dataframe tbody tr th:only-of-type {\n",
       "        vertical-align: middle;\n",
       "    }\n",
       "\n",
       "    .dataframe tbody tr th {\n",
       "        vertical-align: top;\n",
       "    }\n",
       "\n",
       "    .dataframe thead th {\n",
       "        text-align: right;\n",
       "    }\n",
       "</style>\n",
       "<table border=\"1\" class=\"dataframe\">\n",
       "  <thead>\n",
       "    <tr style=\"text-align: right;\">\n",
       "      <th></th>\n",
       "      <th>label</th>\n",
       "      <th>text</th>\n",
       "    </tr>\n",
       "  </thead>\n",
       "  <tbody>\n",
       "    <tr>\n",
       "      <th>0</th>\n",
       "      <td>__label__4</td>\n",
       "      <td>The Rock is destined to be the 21st Century 's...</td>\n",
       "    </tr>\n",
       "    <tr>\n",
       "      <th>1</th>\n",
       "      <td>__label__5</td>\n",
       "      <td>The gorgeously elaborate continuation of `` Th...</td>\n",
       "    </tr>\n",
       "    <tr>\n",
       "      <th>2</th>\n",
       "      <td>__label__4</td>\n",
       "      <td>Singer/composer Bryan Adams contributes a slew...</td>\n",
       "    </tr>\n",
       "    <tr>\n",
       "      <th>3</th>\n",
       "      <td>__label__3</td>\n",
       "      <td>You 'd think by now America would have had eno...</td>\n",
       "    </tr>\n",
       "    <tr>\n",
       "      <th>4</th>\n",
       "      <td>__label__4</td>\n",
       "      <td>Yet the act is still charming here .</td>\n",
       "    </tr>\n",
       "  </tbody>\n",
       "</table>\n",
       "</div>"
      ],
      "text/plain": [
       "        label                                               text\n",
       "0  __label__4  The Rock is destined to be the 21st Century 's...\n",
       "1  __label__5  The gorgeously elaborate continuation of `` Th...\n",
       "2  __label__4  Singer/composer Bryan Adams contributes a slew...\n",
       "3  __label__3  You 'd think by now America would have had eno...\n",
       "4  __label__4               Yet the act is still charming here ."
      ]
     },
     "execution_count": 2,
     "metadata": {},
     "output_type": "execute_result"
    }
   ],
   "source": [
    "df = pd.read_csv( 'parsed_train.txt', sep='\\t', header=None,\n",
    "                   names=['label', 'text'] )\n",
    "df.head()"
   ]
  },
  {
   "cell_type": "markdown",
   "id": "94932737",
   "metadata": {},
   "source": [
    "Do some basic cleanup of labels, not yet preprocessing the text at all."
   ]
  },
  {
   "cell_type": "code",
   "execution_count": 3,
   "id": "3559c6b4",
   "metadata": {},
   "outputs": [
    {
     "data": {
      "text/html": [
       "<div>\n",
       "<style scoped>\n",
       "    .dataframe tbody tr th:only-of-type {\n",
       "        vertical-align: middle;\n",
       "    }\n",
       "\n",
       "    .dataframe tbody tr th {\n",
       "        vertical-align: top;\n",
       "    }\n",
       "\n",
       "    .dataframe thead th {\n",
       "        text-align: right;\n",
       "    }\n",
       "</style>\n",
       "<table border=\"1\" class=\"dataframe\">\n",
       "  <thead>\n",
       "    <tr style=\"text-align: right;\">\n",
       "      <th></th>\n",
       "      <th>label</th>\n",
       "      <th>text</th>\n",
       "    </tr>\n",
       "  </thead>\n",
       "  <tbody>\n",
       "    <tr>\n",
       "      <th>0</th>\n",
       "      <td>4</td>\n",
       "      <td>The Rock is destined to be the 21st Century 's...</td>\n",
       "    </tr>\n",
       "    <tr>\n",
       "      <th>1</th>\n",
       "      <td>5</td>\n",
       "      <td>The gorgeously elaborate continuation of `` Th...</td>\n",
       "    </tr>\n",
       "    <tr>\n",
       "      <th>2</th>\n",
       "      <td>4</td>\n",
       "      <td>Singer/composer Bryan Adams contributes a slew...</td>\n",
       "    </tr>\n",
       "    <tr>\n",
       "      <th>3</th>\n",
       "      <td>3</td>\n",
       "      <td>You 'd think by now America would have had eno...</td>\n",
       "    </tr>\n",
       "    <tr>\n",
       "      <th>4</th>\n",
       "      <td>4</td>\n",
       "      <td>Yet the act is still charming here .</td>\n",
       "    </tr>\n",
       "  </tbody>\n",
       "</table>\n",
       "</div>"
      ],
      "text/plain": [
       "   label                                               text\n",
       "0      4  The Rock is destined to be the 21st Century 's...\n",
       "1      5  The gorgeously elaborate continuation of `` Th...\n",
       "2      4  Singer/composer Bryan Adams contributes a slew...\n",
       "3      3  You 'd think by now America would have had eno...\n",
       "4      4               Yet the act is still charming here ."
      ]
     },
     "execution_count": 3,
     "metadata": {},
     "output_type": "execute_result"
    }
   ],
   "source": [
    "df['label'] = df['label'].apply(lambda x: int( x.replace(\"__label__\", \"\") ) )\n",
    "\n",
    "df.head()"
   ]
  },
  {
   "cell_type": "markdown",
   "id": "e00ac2b0",
   "metadata": {},
   "source": [
    "#### Are my labels balanced and evenly distributed? \n",
    "\n",
    "Or do I need to pay special care to my input data?"
   ]
  },
  {
   "cell_type": "code",
   "execution_count": 4,
   "id": "c184ca6b",
   "metadata": {},
   "outputs": [
    {
     "data": {
      "text/plain": [
       "(array([1092., 2218., 1624., 2322., 1288.]),\n",
       " array([1, 2, 3, 4, 5, 6]),\n",
       " <BarContainer object of 5 artists>)"
      ]
     },
     "execution_count": 4,
     "metadata": {},
     "output_type": "execute_result"
    },
    {
     "data": {
      "image/png": "[encoded data removed]",
      "text/plain": [
       "<Figure size 432x288 with 1 Axes>"
      ]
     },
     "metadata": {
      "needs_background": "light"
     },
     "output_type": "display_data"
    }
   ],
   "source": [
    "plt.hist(df['label'], bins=[1,2,3,4,5,6], align='left', rwidth=0.75)"
   ]
  },
  {
   "cell_type": "markdown",
   "id": "86bf9516",
   "metadata": {},
   "source": [
    "A bit unbalanced, but not too much. Also a symetrical distrobution, not many extra positive or negative reviews; though theres slight more positive items. The lack of extreme imbalance implies I'm not going to be doing outlier detection algorithms, but the significant deviations in data quantity is probably going to result in some skewed learning from algorithms. We can always try class balancing to remedy it if it becomes an issue. "
   ]
  },
  {
   "cell_type": "markdown",
   "id": "cf353e18",
   "metadata": {},
   "source": [
    "#### How many reviews are more than a single sentence?\n",
    "\n",
    "When getting to embedding models, can I treat each item as a single sentence? Based on the results, yes; nearly everything is a single sentence. Due to the overwhelming quantity of single sentances, rather than spend time parsing sentances I'll just treat everything as effectively one sentence. This will likely have extremely minor affects on algorithms like Word2Vec."
   ]
  },
  {
   "cell_type": "code",
   "execution_count": 15,
   "id": "8e32328d",
   "metadata": {},
   "outputs": [
    {
     "data": {
      "text/plain": [
       "(array([8.457e+03, 0.000e+00, 0.000e+00, 0.000e+00, 0.000e+00, 8.500e+01,\n",
       "        0.000e+00, 0.000e+00, 0.000e+00, 2.000e+00]),\n",
       " array([1. , 1.2, 1.4, 1.6, 1.8, 2. , 2.2, 2.4, 2.6, 2.8, 3. ]),\n",
       " <BarContainer object of 10 artists>)"
      ]
     },
     "execution_count": 15,
     "metadata": {},
     "output_type": "execute_result"
    },
    {
     "data": {
      "image/png": "[encoded data removed]",
      "text/plain": [
       "<Figure size 432x288 with 1 Axes>"
      ]
     },
     "metadata": {
      "needs_background": "light"
     },
     "output_type": "display_data"
    }
   ],
   "source": [
    "df['sentences'] = df['text'].apply(lambda x: len( sent_tokenize(x) ) )\n",
    "plt.hist(df['sentences'], align='left', rwidth=0.75)"
   ]
  },
  {
   "cell_type": "code",
   "execution_count": 6,
   "id": "ea83602d",
   "metadata": {},
   "outputs": [
    {
     "data": {
      "text/plain": [
       "1      The gorgeously elaborate continuation of `` Th...\n",
       "45     ... a sour little movie at its core ; an explo...\n",
       "68     I walked away from this new version of E.T. ju...\n",
       "199    As comedic spotlights go , Notorious C.H.O. hi...\n",
       "537    E.T. works because its flabbergasting principa...\n",
       "Name: text, dtype: object"
      ]
     },
     "execution_count": 6,
     "metadata": {},
     "output_type": "execute_result"
    }
   ],
   "source": [
    "df2 = df.loc[df['sentences'] >= 2]\n",
    "df2 = df2['text']\n",
    "df2.head()"
   ]
  },
  {
   "cell_type": "markdown",
   "id": "3555d874",
   "metadata": {},
   "source": [
    "## Preprocessing\n",
    "\n",
    "Time to do a bit of preprocessing for different items. All items will be lowercase, punctuation & stop words stripped as well as some other basic preprocessing; plus one column thats stemmed and another lemmatized. We want to do these sorts of preprocessing because we do not want words that are effectively identical being treated differently. A capitolized word & uncapitolized version should not be treated as meaning different things. Similarily for plurality or other changes which lemmatization normalizes."
   ]
  },
  {
   "cell_type": "code",
   "execution_count": 7,
   "id": "6912153e",
   "metadata": {},
   "outputs": [
    {
     "data": {
      "text/html": [
       "<div>\n",
       "<style scoped>\n",
       "    .dataframe tbody tr th:only-of-type {\n",
       "        vertical-align: middle;\n",
       "    }\n",
       "\n",
       "    .dataframe tbody tr th {\n",
       "        vertical-align: top;\n",
       "    }\n",
       "\n",
       "    .dataframe thead th {\n",
       "        text-align: right;\n",
       "    }\n",
       "</style>\n",
       "<table border=\"1\" class=\"dataframe\">\n",
       "  <thead>\n",
       "    <tr style=\"text-align: right;\">\n",
       "      <th></th>\n",
       "      <th>label</th>\n",
       "      <th>text</th>\n",
       "      <th>sentences</th>\n",
       "      <th>basicProc</th>\n",
       "      <th>stemmed</th>\n",
       "      <th>lemmatized</th>\n",
       "    </tr>\n",
       "  </thead>\n",
       "  <tbody>\n",
       "    <tr>\n",
       "      <th>0</th>\n",
       "      <td>4</td>\n",
       "      <td>The Rock is destined to be the 21st Century 's...</td>\n",
       "      <td>1</td>\n",
       "      <td>the rock is destined to be the 21st century s ...</td>\n",
       "      <td>the rock is destin to be the 21st centuri s ne...</td>\n",
       "      <td>the rock be destine to be the 21st century s n...</td>\n",
       "    </tr>\n",
       "    <tr>\n",
       "      <th>1</th>\n",
       "      <td>5</td>\n",
       "      <td>The gorgeously elaborate continuation of `` Th...</td>\n",
       "      <td>2</td>\n",
       "      <td>the gorgeously elaborate continuation of the l...</td>\n",
       "      <td>the gorgeous elabor continu of the lord of the...</td>\n",
       "      <td>the gorgeously elaborate continuation of the l...</td>\n",
       "    </tr>\n",
       "    <tr>\n",
       "      <th>2</th>\n",
       "      <td>4</td>\n",
       "      <td>Singer/composer Bryan Adams contributes a slew...</td>\n",
       "      <td>1</td>\n",
       "      <td>singer composer bryan adams contributes a slew...</td>\n",
       "      <td>singer compos bryan adam contribut a slew of s...</td>\n",
       "      <td>singer composer bryan adams contribute a slew ...</td>\n",
       "    </tr>\n",
       "    <tr>\n",
       "      <th>3</th>\n",
       "      <td>3</td>\n",
       "      <td>You 'd think by now America would have had eno...</td>\n",
       "      <td>1</td>\n",
       "      <td>you d think by now america would have had enou...</td>\n",
       "      <td>you d think by now america would have had enou...</td>\n",
       "      <td>-PRON- d think by now america would have have ...</td>\n",
       "    </tr>\n",
       "    <tr>\n",
       "      <th>4</th>\n",
       "      <td>4</td>\n",
       "      <td>Yet the act is still charming here .</td>\n",
       "      <td>1</td>\n",
       "      <td>yet the act is still charming here</td>\n",
       "      <td>yet the act is still charm here</td>\n",
       "      <td>yet the act be still charm here</td>\n",
       "    </tr>\n",
       "  </tbody>\n",
       "</table>\n",
       "</div>"
      ],
      "text/plain": [
       "   label                                               text  sentences  \\\n",
       "0      4  The Rock is destined to be the 21st Century 's...          1   \n",
       "1      5  The gorgeously elaborate continuation of `` Th...          2   \n",
       "2      4  Singer/composer Bryan Adams contributes a slew...          1   \n",
       "3      3  You 'd think by now America would have had eno...          1   \n",
       "4      4               Yet the act is still charming here .          1   \n",
       "\n",
       "                                           basicProc  \\\n",
       "0  the rock is destined to be the 21st century s ...   \n",
       "1  the gorgeously elaborate continuation of the l...   \n",
       "2  singer composer bryan adams contributes a slew...   \n",
       "3  you d think by now america would have had enou...   \n",
       "4                 yet the act is still charming here   \n",
       "\n",
       "                                             stemmed  \\\n",
       "0  the rock is destin to be the 21st centuri s ne...   \n",
       "1  the gorgeous elabor continu of the lord of the...   \n",
       "2  singer compos bryan adam contribut a slew of s...   \n",
       "3  you d think by now america would have had enou...   \n",
       "4                    yet the act is still charm here   \n",
       "\n",
       "                                          lemmatized  \n",
       "0  the rock be destine to be the 21st century s n...  \n",
       "1  the gorgeously elaborate continuation of the l...  \n",
       "2  singer composer bryan adams contribute a slew ...  \n",
       "3  -PRON- d think by now america would have have ...  \n",
       "4                    yet the act be still charm here  "
      ]
     },
     "execution_count": 7,
     "metadata": {},
     "output_type": "execute_result"
    }
   ],
   "source": [
    "basicPreproc = [lambda x: x.lower(), gen_preproc.strip_tags, \\\n",
    "    gen_preproc.strip_punctuation, gen_preproc.strip_non_alphanum, \\\n",
    "    gen_preproc.strip_multiple_whitespaces] #, gen_preproc.strip_short, gen_preproc.remove_stopwords\n",
    "\n",
    "df['basicProc'] = df['text'].apply(lambda x: ' '.join( gen_preproc.preprocess_string(x, basicPreproc)))\n",
    "df['stemmed'] = df['basicProc'].apply(lambda x: gen_preproc.stem_text(x))\n",
    "df['lemmatized'] = df['basicProc'].apply(lambda x: ' '.join( [token.lemma_ for token in nlp(x)] ) )\n",
    "\n",
    "df.head()"
   ]
  },
  {
   "cell_type": "markdown",
   "id": "83fa2dab",
   "metadata": {},
   "source": [
    "#### Word Count Distrobution"
   ]
  },
  {
   "cell_type": "code",
   "execution_count": 8,
   "id": "ecda7ce6",
   "metadata": {},
   "outputs": [
    {
     "data": {
      "text/plain": [
       "(array([ 726., 1370., 1754., 1430., 1430., 1028.,  439.,  249.,   95.,\n",
       "          23.]),\n",
       " array([ 1. ,  5.7, 10.4, 15.1, 19.8, 24.5, 29.2, 33.9, 38.6, 43.3, 48. ]),\n",
       " <BarContainer object of 10 artists>)"
      ]
     },
     "execution_count": 8,
     "metadata": {},
     "output_type": "execute_result"
    },
    {
     "data": {
      "image/png": "[encoded data removed]",
      "text/plain": [
       "<Figure size 432x288 with 1 Axes>"
      ]
     },
     "metadata": {
      "needs_background": "light"
     },
     "output_type": "display_data"
    }
   ],
   "source": [
    "df['wordCount'] = df['lemmatized'].apply(lambda x: len(x.split()))\n",
    "plt.hist(df['wordCount'], align='left', rwidth=0.75)"
   ]
  },
  {
   "cell_type": "markdown",
   "id": "f3b3f1c2",
   "metadata": {},
   "source": [
    "Unsurpisingly the distrobution is right skewed, though the tail is a bit shorter than expected still. Given that a relatively high percentage of reviews are short, I wonder how our predictions would get change if only juding on longer texts? Interesting how there are some very very short items. It would be potentially useful to delve into them and see if they're worth discarding alltogether. "
   ]
  },
  {
   "cell_type": "code",
   "execution_count": null,
   "id": "4422d72f",
   "metadata": {},
   "outputs": [],
   "source": []
  }
 ],
 "metadata": {
  "kernelspec": {
   "display_name": "Python 3 (ipykernel)",
   "language": "python",
   "name": "python3"
  },
  "language_info": {
   "codemirror_mode": {
    "name": "ipython",
    "version": 3
   },
   "file_extension": ".py",
   "mimetype": "text/x-python",
   "name": "python",
   "nbconvert_exporter": "python",
   "pygments_lexer": "ipython3",
   "version": "3.8.12"
  }
 },
 "nbformat": 4,
 "nbformat_minor": 5
}
