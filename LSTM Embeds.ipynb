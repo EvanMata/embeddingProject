{
 "cells": [
  {
   "cell_type": "code",
   "execution_count": 15,
   "id": "f44f6e60",
   "metadata": {},
   "outputs": [],
   "source": [
    "import pandas as pd \n",
    "import numpy as np\n",
    "import torch\n",
    "import torch.nn as nn\n",
    "from nltk.tokenize import sent_tokenize\n",
    "import gensim.parsing.preprocessing as gen_preproc\n",
    "from sklearn.metrics import confusion_matrix, ConfusionMatrixDisplay\n",
    "import matplotlib.pyplot as plt\n",
    "\n",
    "import spacy\n",
    "nlp = spacy.load('en_core_web_sm')\n",
    "\n",
    "import keras\n",
    "import keras.backend as K\n",
    "from keras.preprocessing.text import Tokenizer\n",
    "from keras.preprocessing.sequence import pad_sequences\n",
    "from keras.models import Sequential\n",
    "from keras.layers import Dense, Embedding, LSTM, SpatialDropout1D\n",
    "from keras.callbacks import EarlyStopping\n",
    "from keras.layers import Dropout\n",
    "\n",
    "import xgboost as xgb\n",
    "from sklearn.metrics import accuracy_score"
   ]
  },
  {
   "cell_type": "code",
   "execution_count": 2,
   "id": "d1c000cf",
   "metadata": {},
   "outputs": [
    {
     "data": {
      "text/html": [
       "<div>\n",
       "<style scoped>\n",
       "    .dataframe tbody tr th:only-of-type {\n",
       "        vertical-align: middle;\n",
       "    }\n",
       "\n",
       "    .dataframe tbody tr th {\n",
       "        vertical-align: top;\n",
       "    }\n",
       "\n",
       "    .dataframe thead th {\n",
       "        text-align: right;\n",
       "    }\n",
       "</style>\n",
       "<table border=\"1\" class=\"dataframe\">\n",
       "  <thead>\n",
       "    <tr style=\"text-align: right;\">\n",
       "      <th></th>\n",
       "      <th>label</th>\n",
       "      <th>text</th>\n",
       "      <th>basicProc</th>\n",
       "      <th>stemmed</th>\n",
       "      <th>lemmatized</th>\n",
       "    </tr>\n",
       "  </thead>\n",
       "  <tbody>\n",
       "    <tr>\n",
       "      <th>0</th>\n",
       "      <td>3</td>\n",
       "      <td>The Rock is destined to be the 21st Century 's...</td>\n",
       "      <td>the rock is destined to be the 21st century s ...</td>\n",
       "      <td>the rock is destin to be the 21st centuri s ne...</td>\n",
       "      <td>the rock be destine to be the 21st century s n...</td>\n",
       "    </tr>\n",
       "    <tr>\n",
       "      <th>1</th>\n",
       "      <td>4</td>\n",
       "      <td>The gorgeously elaborate continuation of `` Th...</td>\n",
       "      <td>the gorgeously elaborate continuation of the l...</td>\n",
       "      <td>the gorgeous elabor continu of the lord of the...</td>\n",
       "      <td>the gorgeously elaborate continuation of the l...</td>\n",
       "    </tr>\n",
       "    <tr>\n",
       "      <th>2</th>\n",
       "      <td>3</td>\n",
       "      <td>Singer/composer Bryan Adams contributes a slew...</td>\n",
       "      <td>singer composer bryan adams contributes a slew...</td>\n",
       "      <td>singer compos bryan adam contribut a slew of s...</td>\n",
       "      <td>singer composer bryan adams contribute a slew ...</td>\n",
       "    </tr>\n",
       "    <tr>\n",
       "      <th>3</th>\n",
       "      <td>2</td>\n",
       "      <td>You 'd think by now America would have had eno...</td>\n",
       "      <td>you d think by now america would have had enou...</td>\n",
       "      <td>you d think by now america would have had enou...</td>\n",
       "      <td>-PRON- d think by now america would have have ...</td>\n",
       "    </tr>\n",
       "    <tr>\n",
       "      <th>4</th>\n",
       "      <td>3</td>\n",
       "      <td>Yet the act is still charming here .</td>\n",
       "      <td>yet the act is still charming here</td>\n",
       "      <td>yet the act is still charm here</td>\n",
       "      <td>yet the act be still charm here</td>\n",
       "    </tr>\n",
       "  </tbody>\n",
       "</table>\n",
       "</div>"
      ],
      "text/plain": [
       "   label                                               text  \\\n",
       "0      3  The Rock is destined to be the 21st Century 's...   \n",
       "1      4  The gorgeously elaborate continuation of `` Th...   \n",
       "2      3  Singer/composer Bryan Adams contributes a slew...   \n",
       "3      2  You 'd think by now America would have had eno...   \n",
       "4      3               Yet the act is still charming here .   \n",
       "\n",
       "                                           basicProc  \\\n",
       "0  the rock is destined to be the 21st century s ...   \n",
       "1  the gorgeously elaborate continuation of the l...   \n",
       "2  singer composer bryan adams contributes a slew...   \n",
       "3  you d think by now america would have had enou...   \n",
       "4                 yet the act is still charming here   \n",
       "\n",
       "                                             stemmed  \\\n",
       "0  the rock is destin to be the 21st centuri s ne...   \n",
       "1  the gorgeous elabor continu of the lord of the...   \n",
       "2  singer compos bryan adam contribut a slew of s...   \n",
       "3  you d think by now america would have had enou...   \n",
       "4                    yet the act is still charm here   \n",
       "\n",
       "                                          lemmatized  \n",
       "0  the rock be destine to be the 21st century s n...  \n",
       "1  the gorgeously elaborate continuation of the l...  \n",
       "2  singer composer bryan adams contribute a slew ...  \n",
       "3  -PRON- d think by now america would have have ...  \n",
       "4                    yet the act be still charm here  "
      ]
     },
     "execution_count": 2,
     "metadata": {},
     "output_type": "execute_result"
    }
   ],
   "source": [
    "df = pd.read_csv( 'parsed_train.txt', sep='\\t', header=None,\n",
    "                   names=['label', 'text'] )\n",
    "df['label'] = df['label'].apply(lambda x: int( x.replace(\"__label__\", \"\") ) - 1 )\n",
    "\n",
    "basicPreproc = [lambda x: x.lower(), gen_preproc.strip_tags, \\\n",
    "    gen_preproc.strip_punctuation, gen_preproc.strip_non_alphanum, \\\n",
    "    gen_preproc.strip_multiple_whitespaces] #, gen_preproc.strip_short, gen_preproc.remove_stopwords\n",
    "\n",
    "df['basicProc'] = df['text'].apply(lambda x: ' '.join( gen_preproc.preprocess_string(x, basicPreproc)))\n",
    "df['stemmed'] = df['basicProc'].apply(lambda x: gen_preproc.stem_text(x))\n",
    "df['lemmatized'] = df['basicProc'].apply(lambda x: ' '.join( [token.lemma_ for token in nlp(x)] ) )\n",
    "df.head()"
   ]
  },
  {
   "cell_type": "code",
   "execution_count": 3,
   "id": "7cd53100",
   "metadata": {},
   "outputs": [
    {
     "data": {
      "text/html": [
       "<div>\n",
       "<style scoped>\n",
       "    .dataframe tbody tr th:only-of-type {\n",
       "        vertical-align: middle;\n",
       "    }\n",
       "\n",
       "    .dataframe tbody tr th {\n",
       "        vertical-align: top;\n",
       "    }\n",
       "\n",
       "    .dataframe thead th {\n",
       "        text-align: right;\n",
       "    }\n",
       "</style>\n",
       "<table border=\"1\" class=\"dataframe\">\n",
       "  <thead>\n",
       "    <tr style=\"text-align: right;\">\n",
       "      <th></th>\n",
       "      <th>label</th>\n",
       "      <th>text</th>\n",
       "      <th>basicProc</th>\n",
       "      <th>stemmed</th>\n",
       "      <th>lemmatized</th>\n",
       "    </tr>\n",
       "  </thead>\n",
       "  <tbody>\n",
       "    <tr>\n",
       "      <th>0</th>\n",
       "      <td>2</td>\n",
       "      <td>Effective but too-tepid biopic</td>\n",
       "      <td>effective but too tepid biopic</td>\n",
       "      <td>effect but too tepid biopic</td>\n",
       "      <td>effective but too tepid biopic</td>\n",
       "    </tr>\n",
       "    <tr>\n",
       "      <th>1</th>\n",
       "      <td>3</td>\n",
       "      <td>If you sometimes like to go to the movies to h...</td>\n",
       "      <td>if you sometimes like to go to the movies to h...</td>\n",
       "      <td>if you sometim like to go to the movi to have ...</td>\n",
       "      <td>if -PRON- sometimes like to go to the movie to...</td>\n",
       "    </tr>\n",
       "    <tr>\n",
       "      <th>2</th>\n",
       "      <td>4</td>\n",
       "      <td>Emerges as something rare , an issue movie tha...</td>\n",
       "      <td>emerges as something rare an issue movie that ...</td>\n",
       "      <td>emerg as someth rare an issu movi that s so ho...</td>\n",
       "      <td>emerge as something rare an issue movie that s...</td>\n",
       "    </tr>\n",
       "    <tr>\n",
       "      <th>3</th>\n",
       "      <td>2</td>\n",
       "      <td>The film provides some great insight into the ...</td>\n",
       "      <td>the film provides some great insight into the ...</td>\n",
       "      <td>the film provid some great insight into the ne...</td>\n",
       "      <td>the film provide some great insight into the n...</td>\n",
       "    </tr>\n",
       "    <tr>\n",
       "      <th>4</th>\n",
       "      <td>4</td>\n",
       "      <td>Offers that rare combination of entertainment ...</td>\n",
       "      <td>offers that rare combination of entertainment ...</td>\n",
       "      <td>offer that rare combin of entertain and educ</td>\n",
       "      <td>offer that rare combination of entertainment a...</td>\n",
       "    </tr>\n",
       "  </tbody>\n",
       "</table>\n",
       "</div>"
      ],
      "text/plain": [
       "   label                                               text  \\\n",
       "0      2                     Effective but too-tepid biopic   \n",
       "1      3  If you sometimes like to go to the movies to h...   \n",
       "2      4  Emerges as something rare , an issue movie tha...   \n",
       "3      2  The film provides some great insight into the ...   \n",
       "4      4  Offers that rare combination of entertainment ...   \n",
       "\n",
       "                                           basicProc  \\\n",
       "0                     effective but too tepid biopic   \n",
       "1  if you sometimes like to go to the movies to h...   \n",
       "2  emerges as something rare an issue movie that ...   \n",
       "3  the film provides some great insight into the ...   \n",
       "4  offers that rare combination of entertainment ...   \n",
       "\n",
       "                                             stemmed  \\\n",
       "0                        effect but too tepid biopic   \n",
       "1  if you sometim like to go to the movi to have ...   \n",
       "2  emerg as someth rare an issu movi that s so ho...   \n",
       "3  the film provid some great insight into the ne...   \n",
       "4       offer that rare combin of entertain and educ   \n",
       "\n",
       "                                          lemmatized  \n",
       "0                     effective but too tepid biopic  \n",
       "1  if -PRON- sometimes like to go to the movie to...  \n",
       "2  emerge as something rare an issue movie that s...  \n",
       "3  the film provide some great insight into the n...  \n",
       "4  offer that rare combination of entertainment a...  "
      ]
     },
     "execution_count": 3,
     "metadata": {},
     "output_type": "execute_result"
    }
   ],
   "source": [
    "test_df = pd.read_csv( 'parsed_test.txt', sep='\\t', header=None,\n",
    "                   names=['label', 'text'] )\n",
    "test_df['label'] = test_df['label'].apply(lambda x: int( x.replace(\"__label__\", \"\") ) - 1 )\n",
    "test_df['basicProc'] = test_df['text'].apply(lambda x: ' '.join( gen_preproc.preprocess_string(x, basicPreproc)))\n",
    "test_df['stemmed'] = test_df['basicProc'].apply(lambda x: gen_preproc.stem_text(x))\n",
    "test_df['lemmatized'] = test_df['basicProc'].apply(lambda x: ' '.join( [token.lemma_ for token in nlp(x)] ) )\n",
    "test_df.head()"
   ]
  },
  {
   "cell_type": "code",
   "execution_count": null,
   "id": "40a6b079",
   "metadata": {},
   "outputs": [],
   "source": [
    "df['label'] = df['label'].apply(lambda x: float(x))\n",
    "test_df['label'] = test_df['label'].apply(lambda x: float(x))\n",
    "df.head()"
   ]
  },
  {
   "cell_type": "code",
   "execution_count": 4,
   "id": "d6921633",
   "metadata": {},
   "outputs": [],
   "source": [
    "maxNumWords = 5000 #Most frequent\n",
    "maxSeqLeng = 45 #See Initial Models file for reviews length distro justifying this. \n",
    "embedDim = 100\n",
    "epochs = 10\n",
    "batch_size = 64"
   ]
  },
  {
   "cell_type": "code",
   "execution_count": 5,
   "id": "62979997",
   "metadata": {},
   "outputs": [
    {
     "name": "stdout",
     "output_type": "stream",
     "text": [
      "Found 12724 unique tokens.\n"
     ]
    }
   ],
   "source": [
    "tokenizer = Tokenizer( num_words=maxNumWords ) #already did other preproc, but could include more here\n",
    "tokenizer.fit_on_texts(df['lemmatized'].values)\n",
    "word_index = tokenizer.word_index\n",
    "print('Found %s unique tokens.' % len(word_index))"
   ]
  },
  {
   "cell_type": "code",
   "execution_count": 6,
   "id": "a796bd8b",
   "metadata": {},
   "outputs": [],
   "source": [
    "X = tokenizer.texts_to_sequences( df['lemmatized'].values )\n",
    "X = pad_sequences( X, maxlen=maxSeqLeng) #Adds 0's in front of my sentances that are shorter than maxSeqLen\n",
    "Y = np.array( list( df['label'] ) )"
   ]
  },
  {
   "cell_type": "code",
   "execution_count": 9,
   "id": "d1b744d3",
   "metadata": {},
   "outputs": [
    {
     "name": "stdout",
     "output_type": "stream",
     "text": [
      "Model: \"sequential_1\"\n",
      "_________________________________________________________________\n",
      "Layer (type)                 Output Shape              Param #   \n",
      "=================================================================\n",
      "embedding_1 (Embedding)      (None, 45, 100)           500000    \n",
      "_________________________________________________________________\n",
      "spatial_dropout1d_1 (Spatial (None, 45, 100)           0         \n",
      "_________________________________________________________________\n",
      "lstm_1 (LSTM)                (None, 100)               80400     \n",
      "_________________________________________________________________\n",
      "dense_1 (Dense)              (None, 5)                 505       \n",
      "=================================================================\n",
      "Total params: 580,905\n",
      "Trainable params: 580,905\n",
      "Non-trainable params: 0\n",
      "_________________________________________________________________\n",
      "None\n"
     ]
    }
   ],
   "source": [
    "opt = keras.optimizers.Adam(learning_rate=0.0003) \n",
    "embedDim = 100\n",
    "epochs = 100\n",
    "\n",
    "modelMCCrossEntropyFull = Sequential()\n",
    "modelMCCrossEntropyFull.add(Embedding(maxNumWords, embedDim, input_length=X.shape[1]))\n",
    "modelMCCrossEntropyFull.add(SpatialDropout1D(0.2))\n",
    "modelMCCrossEntropyFull.add(LSTM(embedDim, dropout=0.2, recurrent_dropout=0.2))\n",
    "modelMCCrossEntropyFull.add(Dense(5, activation='softmax'))\n",
    "modelMCCrossEntropyFull.compile(optimizer=opt,loss='categorical_crossentropy', metrics=['mean_squared_error']) \n",
    "print(modelMCCrossEntropyFull.summary())"
   ]
  },
  {
   "cell_type": "code",
   "execution_count": 10,
   "id": "6e05312a",
   "metadata": {},
   "outputs": [
    {
     "name": "stdout",
     "output_type": "stream",
     "text": [
      "Epoch 1/100\n",
      "121/121 [==============================] - 11s 92ms/step - loss: 1.5735 - mean_squared_error: 0.1572 - val_loss: 1.6167 - val_mean_squared_error: 0.1603\n",
      "Epoch 2/100\n",
      "121/121 [==============================] - 11s 88ms/step - loss: 1.5483 - mean_squared_error: 0.1551 - val_loss: 1.6102 - val_mean_squared_error: 0.1597\n",
      "Epoch 3/100\n",
      "121/121 [==============================] - 10s 84ms/step - loss: 1.4606 - mean_squared_error: 0.1479 - val_loss: 1.5785 - val_mean_squared_error: 0.1577\n",
      "Epoch 4/100\n",
      "121/121 [==============================] - 11s 93ms/step - loss: 1.2956 - mean_squared_error: 0.1345 - val_loss: 1.5396 - val_mean_squared_error: 0.1554\n",
      "Epoch 5/100\n",
      "121/121 [==============================] - 10s 83ms/step - loss: 1.1601 - mean_squared_error: 0.1225 - val_loss: 1.3882 - val_mean_squared_error: 0.1435\n",
      "Epoch 6/100\n",
      "121/121 [==============================] - 10s 83ms/step - loss: 1.0641 - mean_squared_error: 0.1135 - val_loss: 1.4108 - val_mean_squared_error: 0.1465\n",
      "Epoch 7/100\n",
      "121/121 [==============================] - 20s 167ms/step - loss: 0.9718 - mean_squared_error: 0.1042 - val_loss: 1.3882 - val_mean_squared_error: 0.1435\n",
      "Epoch 8/100\n",
      "121/121 [==============================] - 15s 124ms/step - loss: 0.8974 - mean_squared_error: 0.0965 - val_loss: 1.5235 - val_mean_squared_error: 0.1513\n"
     ]
    }
   ],
   "source": [
    "from keras.utils import to_categorical\n",
    "YMultiClass = to_categorical(Y)\n",
    "\n",
    "history = modelMCCrossEntropyFull.fit(X, YMultiClass, epochs=epochs, batch_size=batch_size, \\\n",
    "            validation_split=0.1, callbacks=[EarlyStopping( \\\n",
    "                               monitor='val_loss', patience=3, min_delta=0.0001)])"
   ]
  },
  {
   "cell_type": "code",
   "execution_count": 16,
   "id": "11a86e0c",
   "metadata": {},
   "outputs": [],
   "source": [
    "test_X = tokenizer.texts_to_sequences( test_df['lemmatized'].values )\n",
    "test_X = pad_sequences( test_X, maxlen=maxSeqLeng)"
   ]
  },
  {
   "cell_type": "code",
   "execution_count": 18,
   "id": "9375aec7",
   "metadata": {},
   "outputs": [],
   "source": [
    "predict_Y = modelMCCrossEntropyFull.predict( test_X )\n",
    "predict_Y = np.argmax(predict_Y, axis=1)\n",
    "\n",
    "test_df['label'] = test_df['label'].apply(lambda x: int(x))\n",
    "true_Y = list( test_df['label'] )"
   ]
  },
  {
   "cell_type": "code",
   "execution_count": 21,
   "id": "a5dafd21",
   "metadata": {},
   "outputs": [
    {
     "name": "stdout",
     "output_type": "stream",
     "text": [
      "0.3606334841628959\n"
     ]
    },
    {
     "data": {
      "text/plain": [
       "<sklearn.metrics._plot.confusion_matrix.ConfusionMatrixDisplay at 0x1ac353bba30>"
      ]
     },
     "execution_count": 21,
     "metadata": {},
     "output_type": "execute_result"
    },
    {
     "data": {
      "image/png": "[encoded data removed]",
      "text/plain": [
       "<Figure size 432x288 with 2 Axes>"
      ]
     },
     "metadata": {
      "needs_background": "light"
     },
     "output_type": "display_data"
    }
   ],
   "source": [
    "print( accuracy_score( true_Y , predict_Y ) )\n",
    "\n",
    "MulticlassCM = confusion_matrix( true_Y, predict_Y, normalize='true' )\n",
    "MultiClassDisp = ConfusionMatrixDisplay( MulticlassCM )\n",
    "MultiClassDisp.plot()"
   ]
  },
  {
   "cell_type": "code",
   "execution_count": 11,
   "id": "33fe0acb",
   "metadata": {},
   "outputs": [
    {
     "data": {
      "text/html": [
       "<div>\n",
       "<style scoped>\n",
       "    .dataframe tbody tr th:only-of-type {\n",
       "        vertical-align: middle;\n",
       "    }\n",
       "\n",
       "    .dataframe tbody tr th {\n",
       "        vertical-align: top;\n",
       "    }\n",
       "\n",
       "    .dataframe thead th {\n",
       "        text-align: right;\n",
       "    }\n",
       "</style>\n",
       "<table border=\"1\" class=\"dataframe\">\n",
       "  <thead>\n",
       "    <tr style=\"text-align: right;\">\n",
       "      <th></th>\n",
       "      <th></th>\n",
       "      <th>label</th>\n",
       "      <th>text</th>\n",
       "      <th>basicProc</th>\n",
       "      <th>stemmed</th>\n",
       "      <th>lemmatized</th>\n",
       "    </tr>\n",
       "    <tr>\n",
       "      <th>label</th>\n",
       "      <th></th>\n",
       "      <th></th>\n",
       "      <th></th>\n",
       "      <th></th>\n",
       "      <th></th>\n",
       "      <th></th>\n",
       "    </tr>\n",
       "  </thead>\n",
       "  <tbody>\n",
       "    <tr>\n",
       "      <th rowspan=\"5\" valign=\"top\">0</th>\n",
       "      <th>0</th>\n",
       "      <td>0</td>\n",
       "      <td>Starts out strongly before quickly losing its ...</td>\n",
       "      <td>starts out strongly before quickly losing its ...</td>\n",
       "      <td>start out strongli befor quickli lose it focu ...</td>\n",
       "      <td>start out strongly before quickly lose -PRON- ...</td>\n",
       "    </tr>\n",
       "    <tr>\n",
       "      <th>1</th>\n",
       "      <td>0</td>\n",
       "      <td>A period story about a Catholic boy who tries ...</td>\n",
       "      <td>a period story about a catholic boy who tries ...</td>\n",
       "      <td>a period stori about a cathol boi who tri to h...</td>\n",
       "      <td>a period story about a catholic boy who try to...</td>\n",
       "    </tr>\n",
       "    <tr>\n",
       "      <th>2</th>\n",
       "      <td>0</td>\n",
       "      <td>The following things are not at all entertaini...</td>\n",
       "      <td>the following things are not at all entertaini...</td>\n",
       "      <td>the follow thing ar not at all entertain the b...</td>\n",
       "      <td>the follow thing be not at all entertain the b...</td>\n",
       "    </tr>\n",
       "    <tr>\n",
       "      <th>3</th>\n",
       "      <td>0</td>\n",
       "      <td>This overproduced piece of dreck is shockingly...</td>\n",
       "      <td>this overproduced piece of dreck is shockingly...</td>\n",
       "      <td>thi overproduc piec of dreck is shockingli bad...</td>\n",
       "      <td>this overproduced piece of dreck be shockingly...</td>\n",
       "    </tr>\n",
       "    <tr>\n",
       "      <th>4</th>\n",
       "      <td>0</td>\n",
       "      <td>It just did n't mean much to me and played too...</td>\n",
       "      <td>it just did n t mean much to me and played too...</td>\n",
       "      <td>it just did n t mean much to me and plai too s...</td>\n",
       "      <td>-PRON- just do n t mean much to -PRON- and pla...</td>\n",
       "    </tr>\n",
       "  </tbody>\n",
       "</table>\n",
       "</div>"
      ],
      "text/plain": [
       "         label                                               text  \\\n",
       "label                                                               \n",
       "0     0      0  Starts out strongly before quickly losing its ...   \n",
       "      1      0  A period story about a Catholic boy who tries ...   \n",
       "      2      0  The following things are not at all entertaini...   \n",
       "      3      0  This overproduced piece of dreck is shockingly...   \n",
       "      4      0  It just did n't mean much to me and played too...   \n",
       "\n",
       "                                                 basicProc  \\\n",
       "label                                                        \n",
       "0     0  starts out strongly before quickly losing its ...   \n",
       "      1  a period story about a catholic boy who tries ...   \n",
       "      2  the following things are not at all entertaini...   \n",
       "      3  this overproduced piece of dreck is shockingly...   \n",
       "      4  it just did n t mean much to me and played too...   \n",
       "\n",
       "                                                   stemmed  \\\n",
       "label                                                        \n",
       "0     0  start out strongli befor quickli lose it focu ...   \n",
       "      1  a period stori about a cathol boi who tri to h...   \n",
       "      2  the follow thing ar not at all entertain the b...   \n",
       "      3  thi overproduc piec of dreck is shockingli bad...   \n",
       "      4  it just did n t mean much to me and plai too s...   \n",
       "\n",
       "                                                lemmatized  \n",
       "label                                                       \n",
       "0     0  start out strongly before quickly lose -PRON- ...  \n",
       "      1  a period story about a catholic boy who try to...  \n",
       "      2  the follow thing be not at all entertain the b...  \n",
       "      3  this overproduced piece of dreck be shockingly...  \n",
       "      4  -PRON- just do n t mean much to -PRON- and pla...  "
      ]
     },
     "execution_count": 11,
     "metadata": {},
     "output_type": "execute_result"
    }
   ],
   "source": [
    "g = df.groupby('label')\n",
    "g = g.apply(lambda x: x.sample(g.size().min()).reset_index(drop=True))\n",
    "g.head()"
   ]
  },
  {
   "cell_type": "code",
   "execution_count": 12,
   "id": "9fad87f3",
   "metadata": {},
   "outputs": [
    {
     "name": "stdout",
     "output_type": "stream",
     "text": [
      "Model: \"sequential_2\"\n",
      "_________________________________________________________________\n",
      "Layer (type)                 Output Shape              Param #   \n",
      "=================================================================\n",
      "embedding_2 (Embedding)      (None, 45, 100)           500000    \n",
      "_________________________________________________________________\n",
      "spatial_dropout1d_2 (Spatial (None, 45, 100)           0         \n",
      "_________________________________________________________________\n",
      "lstm_2 (LSTM)                (None, 100)               80400     \n",
      "_________________________________________________________________\n",
      "dense_2 (Dense)              (None, 5)                 505       \n",
      "=================================================================\n",
      "Total params: 580,905\n",
      "Trainable params: 580,905\n",
      "Non-trainable params: 0\n",
      "_________________________________________________________________\n",
      "None\n"
     ]
    }
   ],
   "source": [
    "modelBalLabels = Sequential()\n",
    "modelBalLabels.add(Embedding(maxNumWords, embedDim, input_length=X.shape[1]))\n",
    "modelBalLabels.add(SpatialDropout1D(0.2))\n",
    "modelBalLabels.add(LSTM(embedDim, dropout=0.2, recurrent_dropout=0.2))\n",
    "modelBalLabels.add(Dense(5, activation='softmax'))\n",
    "modelBalLabels.compile(optimizer=opt,loss='categorical_crossentropy', metrics=['mean_squared_error']) \n",
    "print(modelBalLabels.summary())"
   ]
  },
  {
   "cell_type": "code",
   "execution_count": 13,
   "id": "92df1f6e",
   "metadata": {},
   "outputs": [],
   "source": [
    "XBal = tokenizer.texts_to_sequences( g['lemmatized'].values )\n",
    "XBal = pad_sequences( XBal, maxlen=maxSeqLeng) #Adds 0's in front of my sentances that are shorter than maxSeqLen\n",
    "YBal = np.array( list( g['label'] ) )"
   ]
  },
  {
   "cell_type": "code",
   "execution_count": 35,
   "id": "1c3ddcf9",
   "metadata": {},
   "outputs": [
    {
     "name": "stdout",
     "output_type": "stream",
     "text": [
      "Epoch 1/100\n",
      "77/77 [==============================] - 7s 94ms/step - loss: 1.5785 - mean_squared_error: 0.1578 - val_loss: 1.9579 - val_mean_squared_error: 0.1840\n",
      "Epoch 2/100\n",
      "77/77 [==============================] - 7s 88ms/step - loss: 1.4164 - mean_squared_error: 0.1455 - val_loss: 1.7221 - val_mean_squared_error: 0.1667\n",
      "Epoch 3/100\n",
      "77/77 [==============================] - 7s 96ms/step - loss: 1.1925 - mean_squared_error: 0.1269 - val_loss: 1.9569 - val_mean_squared_error: 0.1860\n",
      "Epoch 4/100\n",
      "77/77 [==============================] - 7s 95ms/step - loss: 1.0176 - mean_squared_error: 0.1094 - val_loss: 2.0191 - val_mean_squared_error: 0.1757\n",
      "Epoch 5/100\n",
      "77/77 [==============================] - 7s 86ms/step - loss: 0.8696 - mean_squared_error: 0.0935 - val_loss: 2.1418 - val_mean_squared_error: 0.1908\n"
     ]
    }
   ],
   "source": [
    "from keras.utils import to_categorical\n",
    "YMultiClassBal = to_categorical(YBal)\n",
    "\n",
    "history = modelBalLabels.fit(XBal, YMultiClassBal, epochs=epochs, batch_size=batch_size, \\\n",
    "            validation_split=0.1, callbacks=[EarlyStopping( \\\n",
    "                               monitor='val_loss', patience=3, min_delta=0.0001)])"
   ]
  },
  {
   "cell_type": "code",
   "execution_count": 36,
   "id": "d508d32e",
   "metadata": {},
   "outputs": [],
   "source": [
    "predict_Y_bal = modelBalLabels.predict( test_X )\n",
    "predict_Y_bal = np.argmax(predict_Y_bal, axis=1)"
   ]
  },
  {
   "cell_type": "code",
   "execution_count": 37,
   "id": "93353e65",
   "metadata": {},
   "outputs": [
    {
     "name": "stdout",
     "output_type": "stream",
     "text": [
      "0.3561085972850679\n"
     ]
    },
    {
     "data": {
      "text/plain": [
       "<sklearn.metrics._plot.confusion_matrix.ConfusionMatrixDisplay at 0x1ac35cda3d0>"
      ]
     },
     "execution_count": 37,
     "metadata": {},
     "output_type": "execute_result"
    },
    {
     "data": {
      "image/png": "[encoded data removed]",
      "text/plain": [
       "<Figure size 432x288 with 2 Axes>"
      ]
     },
     "metadata": {
      "needs_background": "light"
     },
     "output_type": "display_data"
    }
   ],
   "source": [
    "print( accuracy_score( true_Y , predict_Y_bal ) )\n",
    "\n",
    "MulticlassCMBal = confusion_matrix( true_Y, predict_Y_bal, normalize='true' )\n",
    "MultiClassDispBal = ConfusionMatrixDisplay( MulticlassCMBal )\n",
    "MultiClassDispBal.plot()"
   ]
  },
  {
   "cell_type": "markdown",
   "id": "18bc5956",
   "metadata": {},
   "source": [
    "### First, train the LSTMs \n",
    "Training is supervised prediction of output category. Here the LSTM with unbalanced classes performs slightly better than the one with balanced classes in the full supervised learning. So we then go backwards & grab the weights / embeddings from the supervised LSTM with unbalanced classes. \n",
    "\n",
    "## Start with Matrices\n",
    "\n",
    "Currently using X, so using unbalanced data for training the later XG boost."
   ]
  },
  {
   "cell_type": "code",
   "execution_count": 25,
   "id": "0eae7067",
   "metadata": {},
   "outputs": [],
   "source": [
    "word_embds = modelMCCrossEntropyFull.layers[0].get_weights()\n",
    "\n",
    "embeds_X = word_embds[0][X] #A full matrix for every tweet. \n",
    "embeds_X = np.array( [np.array(x).flatten() for x in embeds_X] )"
   ]
  },
  {
   "cell_type": "code",
   "execution_count": 26,
   "id": "cf072b5c",
   "metadata": {},
   "outputs": [
    {
     "name": "stdout",
     "output_type": "stream",
     "text": [
      "[23:39:55] WARNING: ..\\src\\learner.cc:1115: Starting in XGBoost 1.3.0, the default evaluation metric used with the objective 'multi:softprob' was changed from 'merror' to 'mlogloss'. Explicitly set eval_metric if you'd like to restore the old behavior.\n"
     ]
    },
    {
     "data": {
      "text/plain": [
       "XGBClassifier(base_score=0.5, booster='gbtree', colsample_bylevel=1,\n",
       "              colsample_bynode=1, colsample_bytree=1, enable_categorical=False,\n",
       "              gamma=0, gpu_id=-1, importance_type=None,\n",
       "              interaction_constraints='', learning_rate=0.300000012,\n",
       "              max_delta_step=0, max_depth=6, min_child_weight=1, missing=nan,\n",
       "              monotone_constraints='()', n_estimators=100, n_jobs=8,\n",
       "              num_parallel_tree=1, objective='multi:softprob', predictor='auto',\n",
       "              random_state=0, reg_alpha=0, reg_lambda=1, scale_pos_weight=None,\n",
       "              subsample=1, tree_method='exact', use_label_encoder=False,\n",
       "              validate_parameters=1, verbosity=None)"
      ]
     },
     "execution_count": 26,
     "metadata": {},
     "output_type": "execute_result"
    }
   ],
   "source": [
    "mat_model = xgb.XGBClassifier(use_label_encoder=False)\n",
    "mat_model.fit( embeds_X , Y )"
   ]
  },
  {
   "cell_type": "code",
   "execution_count": 28,
   "id": "c05c8264",
   "metadata": {},
   "outputs": [],
   "source": [
    "embeds_X_test = word_embds[0][test_X]\n",
    "embeds_X_test = np.array( [np.array(x).flatten() for x in embeds_X_test] )\n",
    "embeds_Y_predict = mat_model.predict( embeds_X_test )"
   ]
  },
  {
   "cell_type": "code",
   "execution_count": 29,
   "id": "2bc292d7",
   "metadata": {},
   "outputs": [
    {
     "name": "stdout",
     "output_type": "stream",
     "text": [
      "0.3583710407239819\n"
     ]
    },
    {
     "data": {
      "text/plain": [
       "<sklearn.metrics._plot.confusion_matrix.ConfusionMatrixDisplay at 0x1ac35006a90>"
      ]
     },
     "execution_count": 29,
     "metadata": {},
     "output_type": "execute_result"
    },
    {
     "data": {
      "image/png": "[encoded data removed]",
      "text/plain": [
       "<Figure size 432x288 with 2 Axes>"
      ]
     },
     "metadata": {
      "needs_background": "light"
     },
     "output_type": "display_data"
    }
   ],
   "source": [
    "print( accuracy_score( true_Y , embeds_Y_predict ) )\n",
    "\n",
    "XGCM = confusion_matrix( true_Y, embeds_Y_predict, normalize='true' )\n",
    "XGDisp = ConfusionMatrixDisplay( XGCM )\n",
    "XGDisp.plot()"
   ]
  },
  {
   "cell_type": "markdown",
   "id": "2d4e419d",
   "metadata": {},
   "source": [
    "## Vecs Model\n",
    "Reverse the mask / delete the padding so my vectors aren't averaging with a bunch of vectors representing the pad-vector"
   ]
  },
  {
   "cell_type": "code",
   "execution_count": 30,
   "id": "21210f87",
   "metadata": {},
   "outputs": [
    {
     "name": "stderr",
     "output_type": "stream",
     "text": [
      "C:\\Users\\601969\\AppData\\Local\\Temp\\1/ipykernel_792/3378909577.py:1: VisibleDeprecationWarning: Creating an ndarray from ragged nested sequences (which is a list-or-tuple of lists-or-tuples-or ndarrays with different lengths or shapes) is deprecated. If you meant to do this, you must specify 'dtype=object' when creating the ndarray\n",
      "  unmasked_X = np.array( [ np.array(x[x != 0]) for x in X ] )\n"
     ]
    }
   ],
   "source": [
    "unmasked_X = np.array( [ np.array(x[x != 0]) for x in X ] )"
   ]
  },
  {
   "cell_type": "code",
   "execution_count": 31,
   "id": "3134424e",
   "metadata": {},
   "outputs": [],
   "source": [
    "def calc_vec(x, word_embds):\n",
    "    vecs = word_embds[0][x]\n",
    "    if len(x) == 0:\n",
    "        vecs = [np.zeros(100), np.zeros(100)]\n",
    "    return sum(vecs) / max([len(x), 1])\n",
    "\n",
    "vecs_embeds_X = np.array( [calc_vec(x, word_embds) for x in unmasked_X] )"
   ]
  },
  {
   "cell_type": "code",
   "execution_count": 32,
   "id": "f347c3cf",
   "metadata": {},
   "outputs": [
    {
     "name": "stdout",
     "output_type": "stream",
     "text": [
      "[23:47:20] WARNING: ..\\src\\learner.cc:1115: Starting in XGBoost 1.3.0, the default evaluation metric used with the objective 'multi:softprob' was changed from 'merror' to 'mlogloss'. Explicitly set eval_metric if you'd like to restore the old behavior.\n"
     ]
    },
    {
     "data": {
      "text/plain": [
       "XGBClassifier(base_score=0.5, booster='gbtree', colsample_bylevel=1,\n",
       "              colsample_bynode=1, colsample_bytree=1, enable_categorical=False,\n",
       "              gamma=0, gpu_id=-1, importance_type=None,\n",
       "              interaction_constraints='', learning_rate=0.300000012,\n",
       "              max_delta_step=0, max_depth=6, min_child_weight=1, missing=nan,\n",
       "              monotone_constraints='()', n_estimators=100, n_jobs=8,\n",
       "              num_parallel_tree=1, objective='multi:softprob', predictor='auto',\n",
       "              random_state=0, reg_alpha=0, reg_lambda=1, scale_pos_weight=None,\n",
       "              subsample=1, tree_method='exact', use_label_encoder=False,\n",
       "              validate_parameters=1, verbosity=None)"
      ]
     },
     "execution_count": 32,
     "metadata": {},
     "output_type": "execute_result"
    }
   ],
   "source": [
    "vecs_model = xgb.XGBClassifier(use_label_encoder=False)\n",
    "vecs_model.fit( vecs_embeds_X , Y )"
   ]
  },
  {
   "cell_type": "code",
   "execution_count": 33,
   "id": "41ca61fa",
   "metadata": {},
   "outputs": [
    {
     "name": "stderr",
     "output_type": "stream",
     "text": [
      "C:\\Users\\601969\\AppData\\Local\\Temp\\1/ipykernel_792/228062908.py:1: VisibleDeprecationWarning: Creating an ndarray from ragged nested sequences (which is a list-or-tuple of lists-or-tuples-or ndarrays with different lengths or shapes) is deprecated. If you meant to do this, you must specify 'dtype=object' when creating the ndarray\n",
      "  test_unmasked_X = np.array( [ np.array(x[x != 0]) for x in test_X ] )\n"
     ]
    }
   ],
   "source": [
    "test_unmasked_X = np.array( [ np.array(x[x != 0]) for x in test_X ] )\n",
    "test_vecs_embeds_X = np.array( [calc_vec(x, word_embds) for x in test_unmasked_X] )\n",
    "\n",
    "vecs_embeds_Y_predict = vecs_model.predict( test_vecs_embeds_X )"
   ]
  },
  {
   "cell_type": "code",
   "execution_count": 34,
   "id": "6be167c4",
   "metadata": {},
   "outputs": [
    {
     "name": "stdout",
     "output_type": "stream",
     "text": [
      "0.39592760180995473\n"
     ]
    },
    {
     "data": {
      "text/plain": [
       "<sklearn.metrics._plot.confusion_matrix.ConfusionMatrixDisplay at 0x1ac40756a30>"
      ]
     },
     "execution_count": 34,
     "metadata": {},
     "output_type": "execute_result"
    },
    {
     "data": {
      "image/png": "[encoded data removed]",
      "text/plain": [
       "<Figure size 432x288 with 2 Axes>"
      ]
     },
     "metadata": {
      "needs_background": "light"
     },
     "output_type": "display_data"
    }
   ],
   "source": [
    "print( accuracy_score( true_Y , vecs_embeds_Y_predict ) )\n",
    "\n",
    "XGVecsCM = confusion_matrix( true_Y, vecs_embeds_Y_predict, normalize='true' )\n",
    "XGVecsDisp = ConfusionMatrixDisplay( XGVecsCM )\n",
    "XGVecsDisp.plot()"
   ]
  },
  {
   "cell_type": "markdown",
   "id": "b1678309",
   "metadata": {},
   "source": [
    "### Now using Balanced \n",
    "Grab the embedding vectors of only the balanced labels"
   ]
  },
  {
   "cell_type": "code",
   "execution_count": 38,
   "id": "2f027bc7",
   "metadata": {},
   "outputs": [],
   "source": [
    "embeds_XBal = word_embds[0][XBal] #A full matrix for every tweet. \n",
    "embeds_XBal = np.array( [np.array(x).flatten() for x in embeds_XBal] )"
   ]
  },
  {
   "cell_type": "code",
   "execution_count": 40,
   "id": "7be8879c",
   "metadata": {},
   "outputs": [
    {
     "name": "stdout",
     "output_type": "stream",
     "text": [
      "[14:52:54] WARNING: ..\\src\\learner.cc:1115: Starting in XGBoost 1.3.0, the default evaluation metric used with the objective 'multi:softprob' was changed from 'merror' to 'mlogloss'. Explicitly set eval_metric if you'd like to restore the old behavior.\n"
     ]
    },
    {
     "data": {
      "text/plain": [
       "XGBClassifier(base_score=0.5, booster='gbtree', colsample_bylevel=1,\n",
       "              colsample_bynode=1, colsample_bytree=1, enable_categorical=False,\n",
       "              gamma=0, gpu_id=-1, importance_type=None,\n",
       "              interaction_constraints='', learning_rate=0.300000012,\n",
       "              max_delta_step=0, max_depth=6, min_child_weight=1, missing=nan,\n",
       "              monotone_constraints='()', n_estimators=100, n_jobs=8,\n",
       "              num_parallel_tree=1, objective='multi:softprob', predictor='auto',\n",
       "              random_state=0, reg_alpha=0, reg_lambda=1, scale_pos_weight=None,\n",
       "              subsample=1, tree_method='exact', use_label_encoder=False,\n",
       "              validate_parameters=1, verbosity=None)"
      ]
     },
     "execution_count": 40,
     "metadata": {},
     "output_type": "execute_result"
    }
   ],
   "source": [
    "mat_model_bal = xgb.XGBClassifier(use_label_encoder=False)\n",
    "mat_model_bal.fit( embeds_XBal , YBal )"
   ]
  },
  {
   "cell_type": "code",
   "execution_count": 41,
   "id": "81939479",
   "metadata": {},
   "outputs": [],
   "source": [
    "embeds_YBal_predict = mat_model_bal.predict( embeds_X_test )"
   ]
  },
  {
   "cell_type": "code",
   "execution_count": 42,
   "id": "c9e31a39",
   "metadata": {},
   "outputs": [
    {
     "name": "stdout",
     "output_type": "stream",
     "text": [
      "0.32850678733031674\n"
     ]
    },
    {
     "data": {
      "text/plain": [
       "<sklearn.metrics._plot.confusion_matrix.ConfusionMatrixDisplay at 0x1ac35abef40>"
      ]
     },
     "execution_count": 42,
     "metadata": {},
     "output_type": "execute_result"
    },
    {
     "data": {
      "image/png": "[encoded data removed]",
      "text/plain": [
       "<Figure size 432x288 with 2 Axes>"
      ]
     },
     "metadata": {
      "needs_background": "light"
     },
     "output_type": "display_data"
    }
   ],
   "source": [
    "print( accuracy_score( true_Y , embeds_YBal_predict ) )\n",
    "\n",
    "XGBalCM = confusion_matrix( true_Y, embeds_YBal_predict, normalize='true' )\n",
    "XGBalDisp = ConfusionMatrixDisplay( XGBalCM )\n",
    "XGBalDisp.plot()"
   ]
  },
  {
   "cell_type": "markdown",
   "id": "f1f2579a",
   "metadata": {},
   "source": [
    "### Vecs Balanced X"
   ]
  },
  {
   "cell_type": "code",
   "execution_count": 43,
   "id": "bec1747f",
   "metadata": {},
   "outputs": [
    {
     "name": "stderr",
     "output_type": "stream",
     "text": [
      "C:\\Users\\601969\\AppData\\Local\\Temp\\1/ipykernel_792/3254801051.py:1: VisibleDeprecationWarning: Creating an ndarray from ragged nested sequences (which is a list-or-tuple of lists-or-tuples-or ndarrays with different lengths or shapes) is deprecated. If you meant to do this, you must specify 'dtype=object' when creating the ndarray\n",
      "  unmasked_XBal = np.array( [ np.array(x[x != 0]) for x in XBal ] )\n"
     ]
    }
   ],
   "source": [
    "unmasked_XBal = np.array( [ np.array(x[x != 0]) for x in XBal ] )"
   ]
  },
  {
   "cell_type": "code",
   "execution_count": 44,
   "id": "8641b715",
   "metadata": {},
   "outputs": [],
   "source": [
    "vecs_embeds_XBal = np.array( [calc_vec(x, word_embds) for x in unmasked_XBal] )"
   ]
  },
  {
   "cell_type": "code",
   "execution_count": 45,
   "id": "8424b45b",
   "metadata": {},
   "outputs": [
    {
     "name": "stdout",
     "output_type": "stream",
     "text": [
      "[14:56:35] WARNING: ..\\src\\learner.cc:1115: Starting in XGBoost 1.3.0, the default evaluation metric used with the objective 'multi:softprob' was changed from 'merror' to 'mlogloss'. Explicitly set eval_metric if you'd like to restore the old behavior.\n"
     ]
    },
    {
     "data": {
      "text/plain": [
       "XGBClassifier(base_score=0.5, booster='gbtree', colsample_bylevel=1,\n",
       "              colsample_bynode=1, colsample_bytree=1, enable_categorical=False,\n",
       "              gamma=0, gpu_id=-1, importance_type=None,\n",
       "              interaction_constraints='', learning_rate=0.300000012,\n",
       "              max_delta_step=0, max_depth=6, min_child_weight=1, missing=nan,\n",
       "              monotone_constraints='()', n_estimators=100, n_jobs=8,\n",
       "              num_parallel_tree=1, objective='multi:softprob', predictor='auto',\n",
       "              random_state=0, reg_alpha=0, reg_lambda=1, scale_pos_weight=None,\n",
       "              subsample=1, tree_method='exact', use_label_encoder=False,\n",
       "              validate_parameters=1, verbosity=None)"
      ]
     },
     "execution_count": 45,
     "metadata": {},
     "output_type": "execute_result"
    }
   ],
   "source": [
    "vecs_bal_model = xgb.XGBClassifier(use_label_encoder=False)\n",
    "vecs_bal_model.fit( vecs_embeds_XBal , YBal )"
   ]
  },
  {
   "cell_type": "code",
   "execution_count": 46,
   "id": "d2899fcf",
   "metadata": {},
   "outputs": [],
   "source": [
    "vecs_embeds_YBal_predict = vecs_bal_model.predict( test_vecs_embeds_X )"
   ]
  },
  {
   "cell_type": "code",
   "execution_count": 47,
   "id": "54d00438",
   "metadata": {},
   "outputs": [
    {
     "name": "stdout",
     "output_type": "stream",
     "text": [
      "0.3723981900452489\n"
     ]
    },
    {
     "data": {
      "text/plain": [
       "<sklearn.metrics._plot.confusion_matrix.ConfusionMatrixDisplay at 0x1ac356ad550>"
      ]
     },
     "execution_count": 47,
     "metadata": {},
     "output_type": "execute_result"
    },
    {
     "data": {
      "image/png": "[encoded data removed]",
      "text/plain": [
       "<Figure size 432x288 with 2 Axes>"
      ]
     },
     "metadata": {
      "needs_background": "light"
     },
     "output_type": "display_data"
    }
   ],
   "source": [
    "print( accuracy_score( true_Y , vecs_embeds_YBal_predict ) )\n",
    "\n",
    "XGVecsBalCM = confusion_matrix( true_Y, vecs_embeds_YBal_predict, normalize='true' )\n",
    "XGVecsBalDisp = ConfusionMatrixDisplay( XGVecsBalCM )\n",
    "XGVecsBalDisp.plot()"
   ]
  },
  {
   "cell_type": "code",
   "execution_count": null,
   "id": "21417ae4",
   "metadata": {},
   "outputs": [],
   "source": []
  }
 ],
 "metadata": {
  "kernelspec": {
   "display_name": "Python 3 (ipykernel)",
   "language": "python",
   "name": "python3"
  },
  "language_info": {
   "codemirror_mode": {
    "name": "ipython",
    "version": 3
   },
   "file_extension": ".py",
   "mimetype": "text/x-python",
   "name": "python",
   "nbconvert_exporter": "python",
   "pygments_lexer": "ipython3",
   "version": "3.8.11"
  }
 },
 "nbformat": 4,
 "nbformat_minor": 5
}
